{
 "cells": [
  {
   "cell_type": "code",
   "execution_count": 1,
   "id": "341ce173",
   "metadata": {},
   "outputs": [
    {
     "name": "stdout",
     "output_type": "stream",
     "text": [
      "<_mysql.connection open to '127.0.0.1' at 0x55c9cb3a8b80>\n"
     ]
    }
   ],
   "source": [
    "import MySQLdb\n",
    "\n",
    "myvars = {}\n",
    "with open(\"ksunchu-password\") as myfile:\n",
    " for line in myfile:\n",
    "    name, var = line.partition(\"=\")[::2]\n",
    "    myvars[name.strip()] = var.strip()\n",
    "\n",
    "conn = MySQLdb.connect(host=\"127.0.0.1\", user=myvars['username'], passwd=myvars['password'], db='omop')\n",
    "\n",
    "omopcursor = conn.cursor()\n",
    "print(conn)"
   ]
  },
  {
   "cell_type": "code",
   "execution_count": 2,
   "id": "f128f2c5",
   "metadata": {},
   "outputs": [],
   "source": [
    "import pandas as pd\n",
    "import numpy as np\n",
    "import dask.dataframe as dd\n",
    "from dask.distributed import Client"
   ]
  },
  {
   "cell_type": "code",
   "execution_count": 3,
   "id": "ef14662d",
   "metadata": {},
   "outputs": [
    {
     "name": "stderr",
     "output_type": "stream",
     "text": [
      "/tmp/ipykernel_5063/804761564.py:1: UserWarning: pandas only supports SQLAlchemy connectable (engine/connection) or database string URI or sqlite3 DBAPI2 connection. Other DBAPI2 objects are not tested. Please consider using SQLAlchemy.\n",
      "  df_PROCEDURE_OCCURRENCE = pd.read_sql('select * from `PROCEDURE_OCCURRENCE`', con=conn)\n"
     ]
    }
   ],
   "source": [
    "df_PROCEDURE_OCCURRENCE = pd.read_sql('select * from `PROCEDURE_OCCURRENCE`', con=conn)"
   ]
  },
  {
   "cell_type": "code",
   "execution_count": 4,
   "id": "fac3d068",
   "metadata": {},
   "outputs": [
    {
     "name": "stdout",
     "output_type": "stream",
     "text": [
      "Length - PROCEDURE_OCCURRENCE:  0\n"
     ]
    }
   ],
   "source": [
    "print('Length - PROCEDURE_OCCURRENCE: ', len(df_PROCEDURE_OCCURRENCE))"
   ]
  },
  {
   "cell_type": "code",
   "execution_count": 5,
   "id": "954029d5",
   "metadata": {},
   "outputs": [
    {
     "name": "stdout",
     "output_type": "stream",
     "text": [
      "Empty DataFrame\n",
      "Columns: [procedure_occurrence_id, person_id, procedure_concept_id, procedure_date, procedure_datetime, procedure_type_concept_id, modifier_concept_id, quantity, provider_id, visit_occurrence_id, visit_detail_id, procedure_source_value, procedure_source_concept_id, modifier_source_value, procedure_end_date, procedure_end_datetime]\n",
      "Index: []\n"
     ]
    }
   ],
   "source": [
    "print(df_PROCEDURE_OCCURRENCE.head())"
   ]
  },
  {
   "cell_type": "code",
   "execution_count": 6,
   "id": "748beccc",
   "metadata": {},
   "outputs": [
    {
     "name": "stdout",
     "output_type": "stream",
     "text": [
      "<_mysql.connection open to '127.0.0.1' at 0x55c9cb3a8b80>\n"
     ]
    }
   ],
   "source": [
    "import MySQLdb\n",
    "\n",
    "myvars = {}\n",
    "with open(\"ksunchu-password\") as myfile:\n",
    " for line in myfile:\n",
    "    name, var = line.partition(\"=\")[::2]\n",
    "    myvars[name.strip()] = var.strip()\n",
    "\n",
    "mimicivconn = MySQLdb.connect(host=\"127.0.0.1\", user=myvars['username'], passwd=myvars['password'], db='mimiciv')\n",
    "\n",
    "mimicivcursor = conn.cursor()\n",
    "print(conn)"
   ]
  },
  {
   "cell_type": "code",
   "execution_count": 7,
   "id": "b9a12697",
   "metadata": {},
   "outputs": [
    {
     "name": "stderr",
     "output_type": "stream",
     "text": [
      "/tmp/ipykernel_5063/330216556.py:1: UserWarning: pandas only supports SQLAlchemy connectable (engine/connection) or database string URI or sqlite3 DBAPI2 connection. Other DBAPI2 objects are not tested. Please consider using SQLAlchemy.\n",
      "  df_patients_mimiciv = pd.read_sql('select subject_id, anchor_year, anchor_year_group from patients', con=mimicivconn)\n"
     ]
    }
   ],
   "source": [
    "df_patients_mimiciv = pd.read_sql('select subject_id, anchor_year, anchor_year_group from patients', con=mimicivconn)"
   ]
  },
  {
   "cell_type": "code",
   "execution_count": 8,
   "id": "c5cb9b5e",
   "metadata": {},
   "outputs": [],
   "source": [
    "ddf_patients_mimiciv = dd.from_pandas(df_patients_mimiciv).compute()"
   ]
  },
  {
   "cell_type": "code",
   "execution_count": 9,
   "id": "22ce2b92",
   "metadata": {},
   "outputs": [],
   "source": [
    "df_patients_mimiciv = ''"
   ]
  },
  {
   "cell_type": "code",
   "execution_count": 10,
   "id": "6323788a",
   "metadata": {},
   "outputs": [
    {
     "name": "stdout",
     "output_type": "stream",
     "text": [
      "        subject_id  anchor_year anchor_year_group\n",
      "0         10000032         2180       2014 - 2016\n",
      "1         10000048         2126       2008 - 2010\n",
      "2         10000068         2160       2008 - 2010\n",
      "3         10000084         2160       2017 - 2019\n",
      "4         10000102         2136       2008 - 2010\n",
      "...            ...          ...               ...\n",
      "299707    19999828         2147       2017 - 2019\n",
      "299708    19999829         2186       2008 - 2010\n",
      "299709    19999840         2164       2008 - 2010\n",
      "299710    19999914         2158       2017 - 2019\n",
      "299711    19999987         2145       2011 - 2013\n",
      "\n",
      "[299712 rows x 3 columns]\n"
     ]
    }
   ],
   "source": [
    "print(ddf_patients_mimiciv)"
   ]
  },
  {
   "cell_type": "code",
   "execution_count": 11,
   "id": "2dda5bbe",
   "metadata": {},
   "outputs": [
    {
     "name": "stderr",
     "output_type": "stream",
     "text": [
      "/tmp/ipykernel_5063/972570382.py:1: UserWarning: pandas only supports SQLAlchemy connectable (engine/connection) or database string URI or sqlite3 DBAPI2 connection. Other DBAPI2 objects are not tested. Please consider using SQLAlchemy.\n",
      "  df_admissions_mimiciv = pd.read_sql('select subject_id, dischtime from admissions', con=mimicivconn)\n"
     ]
    }
   ],
   "source": [
    "df_admissions_mimiciv = pd.read_sql('select subject_id, dischtime from admissions', con=mimicivconn)"
   ]
  },
  {
   "cell_type": "code",
   "execution_count": 12,
   "id": "441ae9b5",
   "metadata": {},
   "outputs": [],
   "source": [
    "ddf_admissions_mimiciv = dd.from_pandas(df_admissions_mimiciv).compute()"
   ]
  },
  {
   "cell_type": "code",
   "execution_count": 13,
   "id": "271d7dda",
   "metadata": {},
   "outputs": [],
   "source": [
    "df_admissions_mimiciv = ''"
   ]
  },
  {
   "cell_type": "code",
   "execution_count": 14,
   "id": "e4edf7bc",
   "metadata": {},
   "outputs": [
    {
     "name": "stdout",
     "output_type": "stream",
     "text": [
      "        subject_id           dischtime\n",
      "0         10467237 2159-03-23 16:54:00\n",
      "1         16925328 2151-05-26 18:36:00\n",
      "2         19430048 2174-05-24 17:27:00\n",
      "3         18910522 2143-09-06 13:50:00\n",
      "4         11146739 2190-01-18 16:05:00\n",
      "...            ...                 ...\n",
      "431226    10382924 2170-08-10 18:30:00\n",
      "431227    11326722 2160-07-12 12:50:00\n",
      "431228    12133002 2172-09-30 17:04:00\n",
      "431229    16572164 2180-10-30 17:25:00\n",
      "431230    16549335 2165-07-31 11:53:00\n",
      "\n",
      "[431231 rows x 2 columns]\n"
     ]
    }
   ],
   "source": [
    "print(ddf_admissions_mimiciv)"
   ]
  },
  {
   "cell_type": "code",
   "execution_count": 15,
   "id": "c7674034",
   "metadata": {},
   "outputs": [
    {
     "name": "stderr",
     "output_type": "stream",
     "text": [
      "/tmp/ipykernel_5063/1650156417.py:1: UserWarning: pandas only supports SQLAlchemy connectable (engine/connection) or database string URI or sqlite3 DBAPI2 connection. Other DBAPI2 objects are not tested. Please consider using SQLAlchemy.\n",
      "  df_d_icd_procedures_mimiciv = pd.read_sql('select icd_code, long_title from d_icd_procedures', con=mimicivconn)\n"
     ]
    }
   ],
   "source": [
    "df_d_icd_procedures_mimiciv = pd.read_sql('select icd_code, long_title from d_icd_procedures', con=mimicivconn)"
   ]
  },
  {
   "cell_type": "code",
   "execution_count": 16,
   "id": "2bebb14e",
   "metadata": {},
   "outputs": [],
   "source": [
    "ddf_d_icd_procedures_mimiciv = dd.from_pandas(df_d_icd_procedures_mimiciv).compute()"
   ]
  },
  {
   "cell_type": "code",
   "execution_count": 17,
   "id": "4a742c71",
   "metadata": {},
   "outputs": [],
   "source": [
    "df_d_icd_procedures_mimiciv = ''"
   ]
  },
  {
   "cell_type": "code",
   "execution_count": 18,
   "id": "89c5e4a2",
   "metadata": {},
   "outputs": [
    {
     "name": "stdout",
     "output_type": "stream",
     "text": [
      "      icd_code                                         long_title\n",
      "0         0001  Therapeutic ultrasound of vessels of head and ...\n",
      "1         0002                    Therapeutic ultrasound of heart\n",
      "2         0003  Therapeutic ultrasound of peripheral vascular ...\n",
      "3         0009                       Other therapeutic ultrasound\n",
      "4          001  Central Nervous System and Cranial Nerves, Bypass\n",
      "...        ...                                                ...\n",
      "85252  XW0DXV5  Introduction of Gilteritinib Antineoplastic in...\n",
      "85253      XXE  New Technology, Physiological Systems, Measure...\n",
      "85254  XXE5XM5  Measurement of Infection, Whole Blood Nucleic ...\n",
      "85255      XY0       New Technology, Extracorporeal, Introduction\n",
      "85256  XY0VX83  Extracorporeal Introduction of Endothelial Dam...\n",
      "\n",
      "[85257 rows x 2 columns]\n"
     ]
    }
   ],
   "source": [
    "print(ddf_d_icd_procedures_mimiciv)"
   ]
  },
  {
   "cell_type": "code",
   "execution_count": 19,
   "id": "ee38572b",
   "metadata": {},
   "outputs": [
    {
     "name": "stderr",
     "output_type": "stream",
     "text": [
      "/tmp/ipykernel_5063/2222401915.py:1: UserWarning: pandas only supports SQLAlchemy connectable (engine/connection) or database string URI or sqlite3 DBAPI2 connection. Other DBAPI2 objects are not tested. Please consider using SQLAlchemy.\n",
      "  df_procedures_icd_mimiciv = pd.read_sql('select subject_id, hadm_id, chartdate, icd_code from procedures_icd', con=mimicivconn)\n"
     ]
    }
   ],
   "source": [
    "df_procedures_icd_mimiciv = pd.read_sql('select subject_id, hadm_id, chartdate, icd_code from procedures_icd', con=mimicivconn)"
   ]
  },
  {
   "cell_type": "code",
   "execution_count": 20,
   "id": "d1627ea2",
   "metadata": {},
   "outputs": [],
   "source": [
    "ddf_procedures_icd_mimiciv = dd.from_pandas(df_procedures_icd_mimiciv).compute()"
   ]
  },
  {
   "cell_type": "code",
   "execution_count": 21,
   "id": "08398866",
   "metadata": {},
   "outputs": [],
   "source": [
    "df_procedures_icd_mimiciv = ''"
   ]
  },
  {
   "cell_type": "code",
   "execution_count": 22,
   "id": "ebb5958a",
   "metadata": {},
   "outputs": [
    {
     "name": "stdout",
     "output_type": "stream",
     "text": [
      "        subject_id   hadm_id   chartdate icd_code\n",
      "0         10000032  22595853  2180-05-07     5491\n",
      "1         10000032  22841357  2180-06-27     5491\n",
      "2         10000032  25742920  2180-08-06     5491\n",
      "3         10000068  25022803  2160-03-03     8938\n",
      "4         10000117  27988844  2183-09-19  0QS734Z\n",
      "...            ...       ...         ...      ...\n",
      "669181    19999840  21033226  2164-09-16     0331\n",
      "669182    19999840  26071774  2164-07-25     8891\n",
      "669183    19999840  26071774  2164-07-25     8841\n",
      "669184    19999987  23865745  2145-11-07     8841\n",
      "669185    19999987  23865745  2145-11-02     9671\n",
      "\n",
      "[669186 rows x 4 columns]\n"
     ]
    }
   ],
   "source": [
    "print(ddf_procedures_icd_mimiciv)"
   ]
  },
  {
   "cell_type": "code",
   "execution_count": 23,
   "id": "58e94880",
   "metadata": {},
   "outputs": [
    {
     "name": "stdout",
     "output_type": "stream",
     "text": [
      "        subject_id           dischtime  anchor_year anchor_year_group\n",
      "0         10467237 2159-03-23 16:54:00         2159       2011 - 2013\n",
      "1         16925328 2151-05-26 18:36:00         2143       2008 - 2010\n",
      "2         19430048 2174-05-24 17:27:00         2172       2017 - 2019\n",
      "3         18910522 2143-09-06 13:50:00         2142       2011 - 2013\n",
      "4         11146739 2190-01-18 16:05:00         2188       2011 - 2013\n",
      "...            ...                 ...          ...               ...\n",
      "431226    10382924 2170-08-10 18:30:00         2170       2008 - 2010\n",
      "431227    11326722 2160-07-12 12:50:00         2160       2008 - 2010\n",
      "431228    12133002 2172-09-30 17:04:00         2166       2008 - 2010\n",
      "431229    16572164 2180-10-30 17:25:00         2180       2014 - 2016\n",
      "431230    16549335 2165-07-31 11:53:00         2164       2017 - 2019\n",
      "\n",
      "[431231 rows x 4 columns]\n"
     ]
    }
   ],
   "source": [
    "ddf_adm_pat_merged = ddf_admissions_mimiciv.merge(ddf_patients_mimiciv, how='inner', on='subject_id')\n",
    "print(ddf_adm_pat_merged) "
   ]
  },
  {
   "cell_type": "code",
   "execution_count": 24,
   "id": "714c674c",
   "metadata": {},
   "outputs": [
    {
     "name": "stdout",
     "output_type": "stream",
     "text": [
      "        subject_id   hadm_id   chartdate icd_code  \\\n",
      "0         10000032  22595853  2180-05-07     5491   \n",
      "1         10000032  22841357  2180-06-27     5491   \n",
      "2         10000032  25742920  2180-08-06     5491   \n",
      "3         10000068  25022803  2160-03-03     8938   \n",
      "4         10000117  27988844  2183-09-19  0QS734Z   \n",
      "...            ...       ...         ...      ...   \n",
      "669234    19999840  21033226  2164-09-16     0331   \n",
      "669235    19999840  26071774  2164-07-25     8891   \n",
      "669236    19999840  26071774  2164-07-25     8841   \n",
      "669237    19999987  23865745  2145-11-07     8841   \n",
      "669238    19999987  23865745  2145-11-02     9671   \n",
      "\n",
      "                                               long_title  \n",
      "0                         Percutaneous abdominal drainage  \n",
      "1                         Percutaneous abdominal drainage  \n",
      "2                         Percutaneous abdominal drainage  \n",
      "3             Other nonoperative respiratory measurements  \n",
      "4       Reposition Left Upper Femur with Internal Fixa...  \n",
      "...                                                   ...  \n",
      "669234                                         Spinal tap  \n",
      "669235  Magnetic resonance imaging of brain and brain ...  \n",
      "669236                 Arteriography of cerebral arteries  \n",
      "669237                 Arteriography of cerebral arteries  \n",
      "669238  Continuous invasive mechanical ventilation for...  \n",
      "\n",
      "[669239 rows x 5 columns]\n"
     ]
    }
   ],
   "source": [
    "ddf_icd_merged = ddf_procedures_icd_mimiciv.merge(ddf_d_icd_procedures_mimiciv, how='inner', on='icd_code')\n",
    "print(ddf_icd_merged)"
   ]
  },
  {
   "cell_type": "code",
   "execution_count": 25,
   "id": "213ea113",
   "metadata": {},
   "outputs": [
    {
     "name": "stdout",
     "output_type": "stream",
     "text": [
      "         subject_id           dischtime  anchor_year anchor_year_group  \\\n",
      "0          16925328 2151-05-26 18:36:00         2143       2008 - 2010   \n",
      "1          16925328 2151-05-26 18:36:00         2143       2008 - 2010   \n",
      "2          16925328 2151-05-26 18:36:00         2143       2008 - 2010   \n",
      "3          16925328 2151-05-26 18:36:00         2143       2008 - 2010   \n",
      "4          16925328 2151-05-26 18:36:00         2143       2008 - 2010   \n",
      "...             ...                 ...          ...               ...   \n",
      "3877396    12133002 2172-09-30 17:04:00         2166       2008 - 2010   \n",
      "3877397    12133002 2172-09-30 17:04:00         2166       2008 - 2010   \n",
      "3877398    12133002 2172-09-30 17:04:00         2166       2008 - 2010   \n",
      "3877399    12133002 2172-09-30 17:04:00         2166       2008 - 2010   \n",
      "3877400    16572164 2180-10-30 17:25:00         2180       2014 - 2016   \n",
      "\n",
      "          hadm_id   chartdate icd_code  \\\n",
      "0        22835752  2143-09-19     6561   \n",
      "1        22835752  2143-09-19     5423   \n",
      "2        22835752  2143-09-19     5349   \n",
      "3        22835752  2143-09-19     5425   \n",
      "4        23644435  2151-09-05  0QS736Z   \n",
      "...           ...         ...      ...   \n",
      "3877396  24871691  2175-12-27  B211YZZ   \n",
      "3877397  28775954  2168-10-31     3722   \n",
      "3877398  28775954  2168-10-31     8852   \n",
      "3877399  28775954  2168-10-31     8855   \n",
      "3877400  29999828  2180-10-27     4438   \n",
      "\n",
      "                                                long_title  \n",
      "0        Other removal of both ovaries and tubes at sam...  \n",
      "1                                     Biopsy of peritoneum  \n",
      "2                       Other open umbilical herniorrhaphy  \n",
      "3                                        Peritoneal lavage  \n",
      "4        Reposition Left Upper Femur with Intramedullar...  \n",
      "...                                                    ...  \n",
      "3877396  Fluoroscopy of Multiple Coronary Arteries usin...  \n",
      "3877397                 Left heart cardiac catheterization  \n",
      "3877398        Angiocardiography of right heart structures  \n",
      "3877399     Coronary arteriography using a single catheter  \n",
      "3877400                     Laparoscopic gastroenterostomy  \n",
      "\n",
      "[3877401 rows x 8 columns]\n"
     ]
    }
   ],
   "source": [
    "ddf_procedure_adm_merged = ddf_adm_pat_merged.merge(ddf_icd_merged, how='inner', on='subject_id')\n",
    "print(ddf_procedure_adm_merged)"
   ]
  },
  {
   "cell_type": "code",
   "execution_count": 26,
   "id": "2b9c8e7f",
   "metadata": {},
   "outputs": [
    {
     "name": "stdout",
     "output_type": "stream",
     "text": [
      "        procedure_start_date\n",
      "0                 2009-09-19\n",
      "1                 2009-09-19\n",
      "2                 2009-09-19\n",
      "3                 2009-09-19\n",
      "4                 2017-09-05\n",
      "...                      ...\n",
      "3877396           2018-12-27\n",
      "3877397           2011-10-31\n",
      "3877398           2011-10-31\n",
      "3877399           2011-10-31\n",
      "3877400           2015-10-27\n",
      "\n",
      "[3877401 rows x 1 columns]\n"
     ]
    }
   ],
   "source": [
    "ddf_procedure_adm_merged['chartdate'] = pd.to_datetime(ddf_procedure_adm_merged['chartdate'])\n",
    "ddf_procedure_adm_merged['median_anchor_year'] = ddf_procedure_adm_merged['anchor_year_group'].str.split('-').apply(lambda x: int((int(x[0]) + int(x[1])) / 2))\n",
    "ddf_procedure_adm_merged['procedure_year'] = ddf_procedure_adm_merged['chartdate'].dt.year\n",
    "ddf_procedure_adm_merged['month_of_procedure'] = ddf_procedure_adm_merged['chartdate'].dt.month\n",
    "ddf_procedure_adm_merged['day_of_procedure'] = ddf_procedure_adm_merged['chartdate'].dt.day\n",
    "ddf_procedure_adm_merged['diff_year'] = ddf_procedure_adm_merged['anchor_year'] - ddf_procedure_adm_merged['median_anchor_year']\n",
    "ddf_procedure_adm_merged['year_of_procedure'] = ddf_procedure_adm_merged['procedure_year'] - ddf_procedure_adm_merged['diff_year']\n",
    "ddf_procedure_adm_merged['day_of_procedure'] = ddf_procedure_adm_merged.apply(\n",
    "    lambda row: min(row['day_of_procedure'], pd.Period(year=row['year_of_procedure'], month=row['month_of_procedure'], freq='M').days_in_month),\n",
    "    axis=1\n",
    ")\n",
    "ddf_procedure_adm_merged['procedure_start_date'] = pd.to_datetime(\n",
    "    {\n",
    "        'year': ddf_procedure_adm_merged['year_of_procedure'],\n",
    "        'month': ddf_procedure_adm_merged['month_of_procedure'],\n",
    "        'day': ddf_procedure_adm_merged['day_of_procedure']\n",
    "    }\n",
    ")\n",
    "print(ddf_procedure_adm_merged[['procedure_start_date']])"
   ]
  },
  {
   "cell_type": "code",
   "execution_count": 27,
   "id": "6009f135",
   "metadata": {},
   "outputs": [
    {
     "name": "stdout",
     "output_type": "stream",
     "text": [
      "         procedure_datetime\n",
      "0                       NaN\n",
      "1                       NaN\n",
      "2                       NaN\n",
      "3                       NaN\n",
      "4                       NaN\n",
      "...                     ...\n",
      "3877396                 NaN\n",
      "3877397                 NaN\n",
      "3877398                 NaN\n",
      "3877399                 NaN\n",
      "3877400                 NaN\n",
      "\n",
      "[3877401 rows x 1 columns]\n"
     ]
    }
   ],
   "source": [
    "ddf_procedure_adm_merged['procedure_datetime'] = np.nan\n",
    "print(ddf_procedure_adm_merged[['procedure_datetime']])"
   ]
  },
  {
   "cell_type": "code",
   "execution_count": 28,
   "id": "6e183de1",
   "metadata": {},
   "outputs": [
    {
     "name": "stdout",
     "output_type": "stream",
     "text": [
      "        procedure_end_date\n",
      "0               2017-05-26\n",
      "1               2017-05-26\n",
      "2               2017-05-26\n",
      "3               2017-05-26\n",
      "4               2017-05-26\n",
      "...                    ...\n",
      "3877396         2015-09-30\n",
      "3877397         2015-09-30\n",
      "3877398         2015-09-30\n",
      "3877399         2015-09-30\n",
      "3877400         2015-10-30\n",
      "\n",
      "[3877401 rows x 1 columns]\n"
     ]
    }
   ],
   "source": [
    "ddf_procedure_adm_merged['procedure_end_year'] = ddf_procedure_adm_merged['dischtime'].dt.year\n",
    "ddf_procedure_adm_merged['year_of_procedure_end'] = ddf_procedure_adm_merged['procedure_end_year'] - ddf_procedure_adm_merged['diff_year']\n",
    "ddf_procedure_adm_merged['month_of_procedure_end'] = ddf_procedure_adm_merged['dischtime'].dt.month\n",
    "ddf_procedure_adm_merged['day_of_procedure_end'] = ddf_procedure_adm_merged['dischtime'].dt.day\n",
    "ddf_procedure_adm_merged['day_of_procedure_end'] = ddf_procedure_adm_merged.apply(\n",
    "    lambda row: min(row['day_of_procedure_end'], pd.Period(year=row['year_of_procedure_end'], month=row['month_of_procedure_end'], freq='M').days_in_month),\n",
    "    axis=1\n",
    ")\n",
    "ddf_procedure_adm_merged['procedure_end_date'] = pd.to_datetime(\n",
    "    {\n",
    "        'year': ddf_procedure_adm_merged['year_of_procedure_end'],\n",
    "        'month': ddf_procedure_adm_merged['month_of_procedure_end'],\n",
    "        'day': ddf_procedure_adm_merged['day_of_procedure_end']\n",
    "    }\n",
    ")\n",
    "print(ddf_procedure_adm_merged[['procedure_end_date']])"
   ]
  },
  {
   "cell_type": "code",
   "execution_count": 29,
   "id": "c4065a5f",
   "metadata": {},
   "outputs": [
    {
     "name": "stdout",
     "output_type": "stream",
     "text": [
      "        procedure_end_datetime\n",
      "0          2017-05-26 18:36:00\n",
      "1          2017-05-26 18:36:00\n",
      "2          2017-05-26 18:36:00\n",
      "3          2017-05-26 18:36:00\n",
      "4          2017-05-26 18:36:00\n",
      "...                        ...\n",
      "3877396    2015-09-30 17:04:00\n",
      "3877397    2015-09-30 17:04:00\n",
      "3877398    2015-09-30 17:04:00\n",
      "3877399    2015-09-30 17:04:00\n",
      "3877400    2015-10-30 17:25:00\n",
      "\n",
      "[3877401 rows x 1 columns]\n"
     ]
    }
   ],
   "source": [
    "ddf_procedure_adm_merged['time_of_procedure_end'] = ddf_procedure_adm_merged['dischtime'].dt.time\n",
    "ddf_procedure_adm_merged['procedure_end_datetime'] = pd.to_datetime(\n",
    "    {\n",
    "        'year': ddf_procedure_adm_merged['year_of_procedure_end'],\n",
    "        'month': ddf_procedure_adm_merged['month_of_procedure_end'],\n",
    "        'day': ddf_procedure_adm_merged['day_of_procedure_end'],\n",
    "        'hour': ddf_procedure_adm_merged['time_of_procedure_end'].apply(lambda x: x.hour),\n",
    "        'minute': ddf_procedure_adm_merged['time_of_procedure_end'].apply(lambda x: x.minute),\n",
    "        'second': ddf_procedure_adm_merged['time_of_procedure_end'].apply(lambda x: x.second)\n",
    "    }\n",
    ")\n",
    "\n",
    "print(ddf_procedure_adm_merged[['procedure_end_datetime']])\n"
   ]
  },
  {
   "cell_type": "code",
   "execution_count": 30,
   "id": "b6855130",
   "metadata": {},
   "outputs": [
    {
     "name": "stdout",
     "output_type": "stream",
     "text": [
      "Number of null or NaT values in the 'chartdate' column: 0\n",
      "Number of null or NaT values in the 'dischtime' column: 0\n"
     ]
    }
   ],
   "source": [
    "null_or_nat_count = ddf_procedure_adm_merged['chartdate'].isna().sum()\n",
    "print(\"Number of null or NaT values in the 'chartdate' column:\", null_or_nat_count)\n",
    "null_or_nat_count = ddf_procedure_adm_merged['dischtime'].isna().sum()\n",
    "print(\"Number of null or NaT values in the 'dischtime' column:\", null_or_nat_count)"
   ]
  },
  {
   "cell_type": "code",
   "execution_count": 31,
   "id": "c47826a3",
   "metadata": {},
   "outputs": [
    {
     "name": "stdout",
     "output_type": "stream",
     "text": [
      "Number of null or NaT values in the 'procedure_start_date' column: 0\n",
      "Number of null or NaT values in the 'procedure_end_datetime' column: 0\n"
     ]
    }
   ],
   "source": [
    "null_or_nat_count = ddf_procedure_adm_merged['procedure_start_date'].isna().sum()\n",
    "print(\"Number of null or NaT values in the 'procedure_start_date' column:\", null_or_nat_count)\n",
    "null_or_nat_count = ddf_procedure_adm_merged['procedure_end_datetime'].isna().sum()\n",
    "print(\"Number of null or NaT values in the 'procedure_end_datetime' column:\", null_or_nat_count)"
   ]
  },
  {
   "cell_type": "code",
   "execution_count": 32,
   "id": "865032af",
   "metadata": {},
   "outputs": [
    {
     "name": "stdout",
     "output_type": "stream",
     "text": [
      "         procedure_type_concept_id\n",
      "0                            32817\n",
      "1                            32817\n",
      "2                            32817\n",
      "3                            32817\n",
      "4                            32817\n",
      "...                            ...\n",
      "3877396                      32817\n",
      "3877397                      32817\n",
      "3877398                      32817\n",
      "3877399                      32817\n",
      "3877400                      32817\n",
      "\n",
      "[3877401 rows x 1 columns]\n"
     ]
    }
   ],
   "source": [
    "ddf_procedure_adm_merged['procedure_type_concept_id'] = 32817\n",
    "print(ddf_procedure_adm_merged[['procedure_type_concept_id']])"
   ]
  },
  {
   "cell_type": "code",
   "execution_count": 33,
   "id": "c0ff2054",
   "metadata": {},
   "outputs": [
    {
     "name": "stdout",
     "output_type": "stream",
     "text": [
      "         modifier_concept_id\n",
      "0                        NaN\n",
      "1                        NaN\n",
      "2                        NaN\n",
      "3                        NaN\n",
      "4                        NaN\n",
      "...                      ...\n",
      "3877396                  NaN\n",
      "3877397                  NaN\n",
      "3877398                  NaN\n",
      "3877399                  NaN\n",
      "3877400                  NaN\n",
      "\n",
      "[3877401 rows x 1 columns]\n"
     ]
    }
   ],
   "source": [
    "ddf_procedure_adm_merged['modifier_concept_id'] = np.nan\n",
    "print(ddf_procedure_adm_merged[['modifier_concept_id']])"
   ]
  },
  {
   "cell_type": "code",
   "execution_count": 34,
   "id": "67fbfef4",
   "metadata": {},
   "outputs": [
    {
     "name": "stdout",
     "output_type": "stream",
     "text": [
      "         visit_detail_id\n",
      "0                    NaN\n",
      "1                    NaN\n",
      "2                    NaN\n",
      "3                    NaN\n",
      "4                    NaN\n",
      "...                  ...\n",
      "3877396              NaN\n",
      "3877397              NaN\n",
      "3877398              NaN\n",
      "3877399              NaN\n",
      "3877400              NaN\n",
      "\n",
      "[3877401 rows x 1 columns]\n"
     ]
    }
   ],
   "source": [
    "ddf_procedure_adm_merged['visit_detail_id'] = np.nan\n",
    "print(ddf_procedure_adm_merged[['visit_detail_id']])"
   ]
  },
  {
   "cell_type": "code",
   "execution_count": 35,
   "id": "666cf122",
   "metadata": {},
   "outputs": [
    {
     "name": "stdout",
     "output_type": "stream",
     "text": [
      "         modifier_source_value\n",
      "0                          NaN\n",
      "1                          NaN\n",
      "2                          NaN\n",
      "3                          NaN\n",
      "4                          NaN\n",
      "...                        ...\n",
      "3877396                    NaN\n",
      "3877397                    NaN\n",
      "3877398                    NaN\n",
      "3877399                    NaN\n",
      "3877400                    NaN\n",
      "\n",
      "[3877401 rows x 1 columns]\n"
     ]
    }
   ],
   "source": [
    "ddf_procedure_adm_merged['modifier_source_value'] = np.nan\n",
    "print(ddf_procedure_adm_merged[['modifier_source_value']])"
   ]
  },
  {
   "cell_type": "code",
   "execution_count": 36,
   "id": "c581c484",
   "metadata": {},
   "outputs": [
    {
     "name": "stdout",
     "output_type": "stream",
     "text": [
      "         quantity\n",
      "0               1\n",
      "1               1\n",
      "2               1\n",
      "3               1\n",
      "4               1\n",
      "...           ...\n",
      "3877396         1\n",
      "3877397         1\n",
      "3877398         1\n",
      "3877399         1\n",
      "3877400         1\n",
      "\n",
      "[3877401 rows x 1 columns]\n"
     ]
    }
   ],
   "source": [
    "ddf_procedure_adm_merged['quantity'] = 1\n",
    "print(ddf_procedure_adm_merged[['quantity']])"
   ]
  },
  {
   "cell_type": "code",
   "execution_count": 37,
   "id": "67061dee",
   "metadata": {},
   "outputs": [
    {
     "name": "stdout",
     "output_type": "stream",
     "text": [
      "         provider_id\n",
      "0                  1\n",
      "1                  1\n",
      "2                  1\n",
      "3                  1\n",
      "4                  1\n",
      "...              ...\n",
      "3877396            1\n",
      "3877397            1\n",
      "3877398            1\n",
      "3877399            1\n",
      "3877400            1\n",
      "\n",
      "[3877401 rows x 1 columns]\n"
     ]
    }
   ],
   "source": [
    "ddf_procedure_adm_merged['provider_id'] = 1\n",
    "print(ddf_procedure_adm_merged[['provider_id']])"
   ]
  },
  {
   "cell_type": "code",
   "execution_count": 39,
   "id": "6cc46460",
   "metadata": {},
   "outputs": [
    {
     "name": "stdout",
     "output_type": "stream",
     "text": [
      "   subject_id           dischtime  anchor_year anchor_year_group   hadm_id  \\\n",
      "0    16925328 2151-05-26 18:36:00         2143       2008 - 2010  22835752   \n",
      "1    16925328 2151-05-26 18:36:00         2143       2008 - 2010  22835752   \n",
      "2    16925328 2151-05-26 18:36:00         2143       2008 - 2010  22835752   \n",
      "3    16925328 2151-05-26 18:36:00         2143       2008 - 2010  22835752   \n",
      "4    16925328 2151-05-26 18:36:00         2143       2008 - 2010  23644435   \n",
      "\n",
      "   chartdate icd_code                                         long_title  \\\n",
      "0 2143-09-19     6561  Other removal of both ovaries and tubes at sam...   \n",
      "1 2143-09-19     5423                               Biopsy of peritoneum   \n",
      "2 2143-09-19     5349                 Other open umbilical herniorrhaphy   \n",
      "3 2143-09-19     5425                                  Peritoneal lavage   \n",
      "4 2151-09-05  0QS736Z  Reposition Left Upper Femur with Intramedullar...   \n",
      "\n",
      "   median_anchor_year  procedure_year  ...  procedure_end_date  \\\n",
      "0                2009            2143  ...          2017-05-26   \n",
      "1                2009            2143  ...          2017-05-26   \n",
      "2                2009            2143  ...          2017-05-26   \n",
      "3                2009            2143  ...          2017-05-26   \n",
      "4                2009            2151  ...          2017-05-26   \n",
      "\n",
      "   time_of_procedure_end  procedure_end_datetime  procedure_type_concept_id  \\\n",
      "0               18:36:00     2017-05-26 18:36:00                      32817   \n",
      "1               18:36:00     2017-05-26 18:36:00                      32817   \n",
      "2               18:36:00     2017-05-26 18:36:00                      32817   \n",
      "3               18:36:00     2017-05-26 18:36:00                      32817   \n",
      "4               18:36:00     2017-05-26 18:36:00                      32817   \n",
      "\n",
      "  modifier_concept_id  visit_detail_id  modifier_source_value  quantity  \\\n",
      "0                 NaN              NaN                    NaN         1   \n",
      "1                 NaN              NaN                    NaN         1   \n",
      "2                 NaN              NaN                    NaN         1   \n",
      "3                 NaN              NaN                    NaN         1   \n",
      "4                 NaN              NaN                    NaN         1   \n",
      "\n",
      "   provider_id                  procedure_occurrence_id  \n",
      "0            1  297683277735749453362447468620409079293  \n",
      "1            1  288081754013502088871714466905436070448  \n",
      "2            1   69774366308131151252006137833694057425  \n",
      "3            1   40568155282873064916609271119743505858  \n",
      "4            1  338971580377585801679132682455220513746  \n",
      "\n",
      "[5 rows x 30 columns]\n"
     ]
    }
   ],
   "source": [
    "import uuid\n",
    " \n",
    "def generate_numeric_uuid():\n",
    "    unique_id = uuid.uuid4()\n",
    "    numeric_id = int(unique_id.bytes.hex(), 16)\n",
    "    return numeric_id\n",
    " \n",
    "ids = [generate_numeric_uuid() for _ in range(len(ddf_procedure_adm_merged))]\n",
    "ddf_procedure_adm_merged['procedure_occurrence_id'] = ids\n",
    "print(ddf_procedure_adm_merged.head())"
   ]
  },
  {
   "cell_type": "code",
   "execution_count": 38,
   "id": "1d5c1aa6",
   "metadata": {},
   "outputs": [
    {
     "ename": "SyntaxError",
     "evalue": "invalid syntax (1093916598.py, line 2)",
     "output_type": "error",
     "traceback": [
      "\u001b[0;36m  Input \u001b[0;32mIn [38]\u001b[0;36m\u001b[0m\n\u001b[0;31m    \"\": ,\u001b[0m\n\u001b[0m        ^\u001b[0m\n\u001b[0;31mSyntaxError\u001b[0m\u001b[0;31m:\u001b[0m invalid syntax\n"
     ]
    }
   ],
   "source": [
    "procedure_mapping = {\n",
    "    \"\": ,\n",
    "    \"\": ,\n",
    "    \"\": ,\n",
    "    \"\": ,\n",
    "    \"\": ,\n",
    "    \"\": ,\n",
    "    \"\": ,\n",
    "    \"\": ,\n",
    "    \"\": ,\n",
    "    \"\": ,\n",
    "    \"\": ,\n",
    "}\n",
    "\n",
    "ddf_procedure_adm_merged['procedure_concept_id'] = ddf_procedure_adm_merged['long_title'].map(procedure_mapping)\n",
    "ddf_procedure_adm_merged['procedure_concept_id'] = ddf_procedure_adm_merged['procedure_concept_id'].astype('Int64')\n",
    "\n",
    "print(ddf_adm_pat_merged[['long_title', 'procedure_concept_id']])"
   ]
  },
  {
   "cell_type": "code",
   "execution_count": 40,
   "id": "7373aa46",
   "metadata": {},
   "outputs": [
    {
     "data": {
      "text/html": [
       "<div>\n",
       "<style scoped>\n",
       "    .dataframe tbody tr th:only-of-type {\n",
       "        vertical-align: middle;\n",
       "    }\n",
       "\n",
       "    .dataframe tbody tr th {\n",
       "        vertical-align: top;\n",
       "    }\n",
       "\n",
       "    .dataframe thead th {\n",
       "        text-align: right;\n",
       "    }\n",
       "</style>\n",
       "<table border=\"1\" class=\"dataframe\">\n",
       "  <thead>\n",
       "    <tr style=\"text-align: right;\">\n",
       "      <th></th>\n",
       "      <th>subject_id</th>\n",
       "      <th>dischtime</th>\n",
       "      <th>anchor_year</th>\n",
       "      <th>anchor_year_group</th>\n",
       "      <th>hadm_id</th>\n",
       "      <th>chartdate</th>\n",
       "      <th>icd_code</th>\n",
       "      <th>long_title</th>\n",
       "      <th>median_anchor_year</th>\n",
       "      <th>procedure_year</th>\n",
       "      <th>...</th>\n",
       "      <th>procedure_end_date</th>\n",
       "      <th>time_of_procedure_end</th>\n",
       "      <th>procedure_end_datetime</th>\n",
       "      <th>procedure_type_concept_id</th>\n",
       "      <th>modifier_concept_id</th>\n",
       "      <th>visit_detail_id</th>\n",
       "      <th>modifier_source_value</th>\n",
       "      <th>quantity</th>\n",
       "      <th>provider_id</th>\n",
       "      <th>procedure_occurrence_id</th>\n",
       "    </tr>\n",
       "  </thead>\n",
       "  <tbody>\n",
       "    <tr>\n",
       "      <th>0</th>\n",
       "      <td>16925328</td>\n",
       "      <td>2151-05-26 18:36:00</td>\n",
       "      <td>2143</td>\n",
       "      <td>2008 - 2010</td>\n",
       "      <td>22835752</td>\n",
       "      <td>2143-09-19</td>\n",
       "      <td>6561</td>\n",
       "      <td>Other removal of both ovaries and tubes at sam...</td>\n",
       "      <td>2009</td>\n",
       "      <td>2143</td>\n",
       "      <td>...</td>\n",
       "      <td>2017-05-26</td>\n",
       "      <td>18:36:00</td>\n",
       "      <td>2017-05-26 18:36:00</td>\n",
       "      <td>32817</td>\n",
       "      <td>NaN</td>\n",
       "      <td>NaN</td>\n",
       "      <td>NaN</td>\n",
       "      <td>1</td>\n",
       "      <td>1</td>\n",
       "      <td>297683277735749453362447468620409079293</td>\n",
       "    </tr>\n",
       "    <tr>\n",
       "      <th>1</th>\n",
       "      <td>16925328</td>\n",
       "      <td>2151-05-26 18:36:00</td>\n",
       "      <td>2143</td>\n",
       "      <td>2008 - 2010</td>\n",
       "      <td>22835752</td>\n",
       "      <td>2143-09-19</td>\n",
       "      <td>5423</td>\n",
       "      <td>Biopsy of peritoneum</td>\n",
       "      <td>2009</td>\n",
       "      <td>2143</td>\n",
       "      <td>...</td>\n",
       "      <td>2017-05-26</td>\n",
       "      <td>18:36:00</td>\n",
       "      <td>2017-05-26 18:36:00</td>\n",
       "      <td>32817</td>\n",
       "      <td>NaN</td>\n",
       "      <td>NaN</td>\n",
       "      <td>NaN</td>\n",
       "      <td>1</td>\n",
       "      <td>1</td>\n",
       "      <td>288081754013502088871714466905436070448</td>\n",
       "    </tr>\n",
       "    <tr>\n",
       "      <th>2</th>\n",
       "      <td>16925328</td>\n",
       "      <td>2151-05-26 18:36:00</td>\n",
       "      <td>2143</td>\n",
       "      <td>2008 - 2010</td>\n",
       "      <td>22835752</td>\n",
       "      <td>2143-09-19</td>\n",
       "      <td>5349</td>\n",
       "      <td>Other open umbilical herniorrhaphy</td>\n",
       "      <td>2009</td>\n",
       "      <td>2143</td>\n",
       "      <td>...</td>\n",
       "      <td>2017-05-26</td>\n",
       "      <td>18:36:00</td>\n",
       "      <td>2017-05-26 18:36:00</td>\n",
       "      <td>32817</td>\n",
       "      <td>NaN</td>\n",
       "      <td>NaN</td>\n",
       "      <td>NaN</td>\n",
       "      <td>1</td>\n",
       "      <td>1</td>\n",
       "      <td>69774366308131151252006137833694057425</td>\n",
       "    </tr>\n",
       "    <tr>\n",
       "      <th>3</th>\n",
       "      <td>16925328</td>\n",
       "      <td>2151-05-26 18:36:00</td>\n",
       "      <td>2143</td>\n",
       "      <td>2008 - 2010</td>\n",
       "      <td>22835752</td>\n",
       "      <td>2143-09-19</td>\n",
       "      <td>5425</td>\n",
       "      <td>Peritoneal lavage</td>\n",
       "      <td>2009</td>\n",
       "      <td>2143</td>\n",
       "      <td>...</td>\n",
       "      <td>2017-05-26</td>\n",
       "      <td>18:36:00</td>\n",
       "      <td>2017-05-26 18:36:00</td>\n",
       "      <td>32817</td>\n",
       "      <td>NaN</td>\n",
       "      <td>NaN</td>\n",
       "      <td>NaN</td>\n",
       "      <td>1</td>\n",
       "      <td>1</td>\n",
       "      <td>40568155282873064916609271119743505858</td>\n",
       "    </tr>\n",
       "    <tr>\n",
       "      <th>4</th>\n",
       "      <td>16925328</td>\n",
       "      <td>2151-05-26 18:36:00</td>\n",
       "      <td>2143</td>\n",
       "      <td>2008 - 2010</td>\n",
       "      <td>23644435</td>\n",
       "      <td>2151-09-05</td>\n",
       "      <td>0QS736Z</td>\n",
       "      <td>Reposition Left Upper Femur with Intramedullar...</td>\n",
       "      <td>2009</td>\n",
       "      <td>2151</td>\n",
       "      <td>...</td>\n",
       "      <td>2017-05-26</td>\n",
       "      <td>18:36:00</td>\n",
       "      <td>2017-05-26 18:36:00</td>\n",
       "      <td>32817</td>\n",
       "      <td>NaN</td>\n",
       "      <td>NaN</td>\n",
       "      <td>NaN</td>\n",
       "      <td>1</td>\n",
       "      <td>1</td>\n",
       "      <td>338971580377585801679132682455220513746</td>\n",
       "    </tr>\n",
       "    <tr>\n",
       "      <th>...</th>\n",
       "      <td>...</td>\n",
       "      <td>...</td>\n",
       "      <td>...</td>\n",
       "      <td>...</td>\n",
       "      <td>...</td>\n",
       "      <td>...</td>\n",
       "      <td>...</td>\n",
       "      <td>...</td>\n",
       "      <td>...</td>\n",
       "      <td>...</td>\n",
       "      <td>...</td>\n",
       "      <td>...</td>\n",
       "      <td>...</td>\n",
       "      <td>...</td>\n",
       "      <td>...</td>\n",
       "      <td>...</td>\n",
       "      <td>...</td>\n",
       "      <td>...</td>\n",
       "      <td>...</td>\n",
       "      <td>...</td>\n",
       "      <td>...</td>\n",
       "    </tr>\n",
       "    <tr>\n",
       "      <th>3877396</th>\n",
       "      <td>12133002</td>\n",
       "      <td>2172-09-30 17:04:00</td>\n",
       "      <td>2166</td>\n",
       "      <td>2008 - 2010</td>\n",
       "      <td>24871691</td>\n",
       "      <td>2175-12-27</td>\n",
       "      <td>B211YZZ</td>\n",
       "      <td>Fluoroscopy of Multiple Coronary Arteries usin...</td>\n",
       "      <td>2009</td>\n",
       "      <td>2175</td>\n",
       "      <td>...</td>\n",
       "      <td>2015-09-30</td>\n",
       "      <td>17:04:00</td>\n",
       "      <td>2015-09-30 17:04:00</td>\n",
       "      <td>32817</td>\n",
       "      <td>NaN</td>\n",
       "      <td>NaN</td>\n",
       "      <td>NaN</td>\n",
       "      <td>1</td>\n",
       "      <td>1</td>\n",
       "      <td>232095311299784383686149652150663071498</td>\n",
       "    </tr>\n",
       "    <tr>\n",
       "      <th>3877397</th>\n",
       "      <td>12133002</td>\n",
       "      <td>2172-09-30 17:04:00</td>\n",
       "      <td>2166</td>\n",
       "      <td>2008 - 2010</td>\n",
       "      <td>28775954</td>\n",
       "      <td>2168-10-31</td>\n",
       "      <td>3722</td>\n",
       "      <td>Left heart cardiac catheterization</td>\n",
       "      <td>2009</td>\n",
       "      <td>2168</td>\n",
       "      <td>...</td>\n",
       "      <td>2015-09-30</td>\n",
       "      <td>17:04:00</td>\n",
       "      <td>2015-09-30 17:04:00</td>\n",
       "      <td>32817</td>\n",
       "      <td>NaN</td>\n",
       "      <td>NaN</td>\n",
       "      <td>NaN</td>\n",
       "      <td>1</td>\n",
       "      <td>1</td>\n",
       "      <td>313408303096217635729767445217818816134</td>\n",
       "    </tr>\n",
       "    <tr>\n",
       "      <th>3877398</th>\n",
       "      <td>12133002</td>\n",
       "      <td>2172-09-30 17:04:00</td>\n",
       "      <td>2166</td>\n",
       "      <td>2008 - 2010</td>\n",
       "      <td>28775954</td>\n",
       "      <td>2168-10-31</td>\n",
       "      <td>8852</td>\n",
       "      <td>Angiocardiography of right heart structures</td>\n",
       "      <td>2009</td>\n",
       "      <td>2168</td>\n",
       "      <td>...</td>\n",
       "      <td>2015-09-30</td>\n",
       "      <td>17:04:00</td>\n",
       "      <td>2015-09-30 17:04:00</td>\n",
       "      <td>32817</td>\n",
       "      <td>NaN</td>\n",
       "      <td>NaN</td>\n",
       "      <td>NaN</td>\n",
       "      <td>1</td>\n",
       "      <td>1</td>\n",
       "      <td>271869850012639948407625133738350665178</td>\n",
       "    </tr>\n",
       "    <tr>\n",
       "      <th>3877399</th>\n",
       "      <td>12133002</td>\n",
       "      <td>2172-09-30 17:04:00</td>\n",
       "      <td>2166</td>\n",
       "      <td>2008 - 2010</td>\n",
       "      <td>28775954</td>\n",
       "      <td>2168-10-31</td>\n",
       "      <td>8855</td>\n",
       "      <td>Coronary arteriography using a single catheter</td>\n",
       "      <td>2009</td>\n",
       "      <td>2168</td>\n",
       "      <td>...</td>\n",
       "      <td>2015-09-30</td>\n",
       "      <td>17:04:00</td>\n",
       "      <td>2015-09-30 17:04:00</td>\n",
       "      <td>32817</td>\n",
       "      <td>NaN</td>\n",
       "      <td>NaN</td>\n",
       "      <td>NaN</td>\n",
       "      <td>1</td>\n",
       "      <td>1</td>\n",
       "      <td>301735523765742229454396394706559410211</td>\n",
       "    </tr>\n",
       "    <tr>\n",
       "      <th>3877400</th>\n",
       "      <td>16572164</td>\n",
       "      <td>2180-10-30 17:25:00</td>\n",
       "      <td>2180</td>\n",
       "      <td>2014 - 2016</td>\n",
       "      <td>29999828</td>\n",
       "      <td>2180-10-27</td>\n",
       "      <td>4438</td>\n",
       "      <td>Laparoscopic gastroenterostomy</td>\n",
       "      <td>2015</td>\n",
       "      <td>2180</td>\n",
       "      <td>...</td>\n",
       "      <td>2015-10-30</td>\n",
       "      <td>17:25:00</td>\n",
       "      <td>2015-10-30 17:25:00</td>\n",
       "      <td>32817</td>\n",
       "      <td>NaN</td>\n",
       "      <td>NaN</td>\n",
       "      <td>NaN</td>\n",
       "      <td>1</td>\n",
       "      <td>1</td>\n",
       "      <td>226711436812969685326751216271611807092</td>\n",
       "    </tr>\n",
       "  </tbody>\n",
       "</table>\n",
       "<p>3877401 rows × 30 columns</p>\n",
       "</div>"
      ],
      "text/plain": [
       "         subject_id           dischtime  anchor_year anchor_year_group  \\\n",
       "0          16925328 2151-05-26 18:36:00         2143       2008 - 2010   \n",
       "1          16925328 2151-05-26 18:36:00         2143       2008 - 2010   \n",
       "2          16925328 2151-05-26 18:36:00         2143       2008 - 2010   \n",
       "3          16925328 2151-05-26 18:36:00         2143       2008 - 2010   \n",
       "4          16925328 2151-05-26 18:36:00         2143       2008 - 2010   \n",
       "...             ...                 ...          ...               ...   \n",
       "3877396    12133002 2172-09-30 17:04:00         2166       2008 - 2010   \n",
       "3877397    12133002 2172-09-30 17:04:00         2166       2008 - 2010   \n",
       "3877398    12133002 2172-09-30 17:04:00         2166       2008 - 2010   \n",
       "3877399    12133002 2172-09-30 17:04:00         2166       2008 - 2010   \n",
       "3877400    16572164 2180-10-30 17:25:00         2180       2014 - 2016   \n",
       "\n",
       "          hadm_id  chartdate icd_code  \\\n",
       "0        22835752 2143-09-19     6561   \n",
       "1        22835752 2143-09-19     5423   \n",
       "2        22835752 2143-09-19     5349   \n",
       "3        22835752 2143-09-19     5425   \n",
       "4        23644435 2151-09-05  0QS736Z   \n",
       "...           ...        ...      ...   \n",
       "3877396  24871691 2175-12-27  B211YZZ   \n",
       "3877397  28775954 2168-10-31     3722   \n",
       "3877398  28775954 2168-10-31     8852   \n",
       "3877399  28775954 2168-10-31     8855   \n",
       "3877400  29999828 2180-10-27     4438   \n",
       "\n",
       "                                                long_title  \\\n",
       "0        Other removal of both ovaries and tubes at sam...   \n",
       "1                                     Biopsy of peritoneum   \n",
       "2                       Other open umbilical herniorrhaphy   \n",
       "3                                        Peritoneal lavage   \n",
       "4        Reposition Left Upper Femur with Intramedullar...   \n",
       "...                                                    ...   \n",
       "3877396  Fluoroscopy of Multiple Coronary Arteries usin...   \n",
       "3877397                 Left heart cardiac catheterization   \n",
       "3877398        Angiocardiography of right heart structures   \n",
       "3877399     Coronary arteriography using a single catheter   \n",
       "3877400                     Laparoscopic gastroenterostomy   \n",
       "\n",
       "         median_anchor_year  procedure_year  ...  procedure_end_date  \\\n",
       "0                      2009            2143  ...          2017-05-26   \n",
       "1                      2009            2143  ...          2017-05-26   \n",
       "2                      2009            2143  ...          2017-05-26   \n",
       "3                      2009            2143  ...          2017-05-26   \n",
       "4                      2009            2151  ...          2017-05-26   \n",
       "...                     ...             ...  ...                 ...   \n",
       "3877396                2009            2175  ...          2015-09-30   \n",
       "3877397                2009            2168  ...          2015-09-30   \n",
       "3877398                2009            2168  ...          2015-09-30   \n",
       "3877399                2009            2168  ...          2015-09-30   \n",
       "3877400                2015            2180  ...          2015-10-30   \n",
       "\n",
       "         time_of_procedure_end  procedure_end_datetime  \\\n",
       "0                     18:36:00     2017-05-26 18:36:00   \n",
       "1                     18:36:00     2017-05-26 18:36:00   \n",
       "2                     18:36:00     2017-05-26 18:36:00   \n",
       "3                     18:36:00     2017-05-26 18:36:00   \n",
       "4                     18:36:00     2017-05-26 18:36:00   \n",
       "...                        ...                     ...   \n",
       "3877396               17:04:00     2015-09-30 17:04:00   \n",
       "3877397               17:04:00     2015-09-30 17:04:00   \n",
       "3877398               17:04:00     2015-09-30 17:04:00   \n",
       "3877399               17:04:00     2015-09-30 17:04:00   \n",
       "3877400               17:25:00     2015-10-30 17:25:00   \n",
       "\n",
       "         procedure_type_concept_id modifier_concept_id  visit_detail_id  \\\n",
       "0                            32817                 NaN              NaN   \n",
       "1                            32817                 NaN              NaN   \n",
       "2                            32817                 NaN              NaN   \n",
       "3                            32817                 NaN              NaN   \n",
       "4                            32817                 NaN              NaN   \n",
       "...                            ...                 ...              ...   \n",
       "3877396                      32817                 NaN              NaN   \n",
       "3877397                      32817                 NaN              NaN   \n",
       "3877398                      32817                 NaN              NaN   \n",
       "3877399                      32817                 NaN              NaN   \n",
       "3877400                      32817                 NaN              NaN   \n",
       "\n",
       "         modifier_source_value  quantity  provider_id  \\\n",
       "0                          NaN         1            1   \n",
       "1                          NaN         1            1   \n",
       "2                          NaN         1            1   \n",
       "3                          NaN         1            1   \n",
       "4                          NaN         1            1   \n",
       "...                        ...       ...          ...   \n",
       "3877396                    NaN         1            1   \n",
       "3877397                    NaN         1            1   \n",
       "3877398                    NaN         1            1   \n",
       "3877399                    NaN         1            1   \n",
       "3877400                    NaN         1            1   \n",
       "\n",
       "                         procedure_occurrence_id  \n",
       "0        297683277735749453362447468620409079293  \n",
       "1        288081754013502088871714466905436070448  \n",
       "2         69774366308131151252006137833694057425  \n",
       "3         40568155282873064916609271119743505858  \n",
       "4        338971580377585801679132682455220513746  \n",
       "...                                          ...  \n",
       "3877396  232095311299784383686149652150663071498  \n",
       "3877397  313408303096217635729767445217818816134  \n",
       "3877398  271869850012639948407625133738350665178  \n",
       "3877399  301735523765742229454396394706559410211  \n",
       "3877400  226711436812969685326751216271611807092  \n",
       "\n",
       "[3877401 rows x 30 columns]"
      ]
     },
     "execution_count": 40,
     "metadata": {},
     "output_type": "execute_result"
    }
   ],
   "source": [
    "ddf_procedure_adm_merged_copy =  ddf_procedure_adm_merged.copy()\n",
    "ddf_procedure_adm_merged_copy"
   ]
  },
  {
   "cell_type": "code",
   "execution_count": 43,
   "id": "9795f6f9",
   "metadata": {},
   "outputs": [
    {
     "name": "stdout",
     "output_type": "stream",
     "text": [
      "<_mysql.connection open to '127.0.0.1' at 0x55c9cdd4de40>\n"
     ]
    }
   ],
   "source": [
    "import MySQLdb\n",
    "\n",
    "myvars = {}\n",
    "with open(\"ksunchu-password\") as myfile:\n",
    " for line in myfile:\n",
    "    name, var = line.partition(\"=\")[::2]\n",
    "    myvars[name.strip()] = var.strip()\n",
    "\n",
    "conn = MySQLdb.connect(host=\"127.0.0.1\", user=myvars['username'], passwd=myvars['password'], db='omop')\n",
    "omopcursor = conn.cursor()\n",
    "print(conn)"
   ]
  },
  {
   "cell_type": "code",
   "execution_count": null,
   "id": "1495cea4",
   "metadata": {},
   "outputs": [],
   "source": [
    "procedure_occurrence_data = ddf_procedure_adm_merged_copy[['procedure_occurrence_id', 'subject_id', 'procedure_concept_id', 'procedure_start_date', 'procedure_datetime', 'procedure_type_concept_id', 'modifier_concept_id', 'quantity', 'provider_id', 'hadm_id', 'visit_detail_id', 'long_title', 'icd_code', 'modifier_source_value', 'procedure_end_date', 'procedure_end_datetime']]\n",
    "\n",
    "for index, row in procedure_occurrence_data.iterrows():\n",
    "    row = row.where(pd.notnull(row), None)\n",
    "    \n",
    "    sql = \"INSERT INTO PROCEDURE_OCCURRENCE (procedure_occurrence_id, person_id, procedure_concept_id, procedure_date, procedure_datetime, procedure_type_concept_id, modifier_concept_id, quantity, provider_id, visit_occurrence_id, visit_detail_id, procedure_source_value, procedure_source_concept_id, modifier_source_value, procedure_end_date, procedure_end_datetime) VALUES (%s, %s, %s, %s, %s, %s, %s, %s, %s, %s, %s, %s, %s, %s, %s, %s)\"\n",
    "    \n",
    "    omopcursor.execute(sql, (\n",
    "        row['procedure_occurrence_id'],\n",
    "        row['subject_id'],\n",
    "        row['procedure_concept_id'],\n",
    "        row['procedure_start_date'],\n",
    "        row['procedure_datetime'],\n",
    "        row['procedure_type_concept_id'],\n",
    "        row['modifier_concept_id'],\n",
    "        row['quantity']\n",
    "        row['provider_id'],\n",
    "        row['hadm_id']\n",
    "        row['visit_detail_id'],\n",
    "        row['long_title'],\n",
    "        row['icd_code'],\n",
    "        row['modifier_source_value'],\n",
    "        row['procedure_end_date'],\n",
    "        row['procedure_end_datetime']\n",
    "    ))\n",
    "\n",
    "conn.commit()\n",
    "print(\"Insertion was successful.\")"
   ]
  }
 ],
 "metadata": {
  "kernelspec": {
   "display_name": "Python 3 (ipykernel)",
   "language": "python",
   "name": "python3"
  },
  "language_info": {
   "codemirror_mode": {
    "name": "ipython",
    "version": 3
   },
   "file_extension": ".py",
   "mimetype": "text/x-python",
   "name": "python",
   "nbconvert_exporter": "python",
   "pygments_lexer": "ipython3",
   "version": "3.9.7"
  }
 },
 "nbformat": 4,
 "nbformat_minor": 5
}
