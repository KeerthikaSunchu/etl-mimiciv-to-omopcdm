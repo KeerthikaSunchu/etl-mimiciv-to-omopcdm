{
 "cells": [
  {
   "cell_type": "code",
   "execution_count": 1,
   "id": "2578c0e2",
   "metadata": {},
   "outputs": [
    {
     "name": "stdout",
     "output_type": "stream",
     "text": [
      "<_mysql.connection open to '127.0.0.1' at 0x564b609e4cc0>\n"
     ]
    }
   ],
   "source": [
    "import MySQLdb\n",
    "\n",
    "myvars = {}\n",
    "with open(\"ksunchu-password\") as myfile:\n",
    " for line in myfile:\n",
    "    name, var = line.partition(\"=\")[::2]\n",
    "    myvars[name.strip()] = var.strip()\n",
    "\n",
    "conn = MySQLdb.connect(host=\"127.0.0.1\", user=myvars['username'], passwd=myvars['password'], db='omop')\n",
    "\n",
    "omopcursor = conn.cursor()\n",
    "print(conn)"
   ]
  },
  {
   "cell_type": "code",
   "execution_count": 2,
   "id": "5a7bbbe3",
   "metadata": {},
   "outputs": [],
   "source": [
    "import pandas as pd\n",
    "import numpy as np\n",
    "import dask.dataframe as dd\n",
    "from dask.distributed import Client"
   ]
  },
  {
   "cell_type": "code",
   "execution_count": 3,
   "id": "0b9c0f4c",
   "metadata": {},
   "outputs": [
    {
     "name": "stderr",
     "output_type": "stream",
     "text": [
      "/tmp/ipykernel_147665/1142857621.py:1: UserWarning: pandas only supports SQLAlchemy connectable (engine/connection) or database string URI or sqlite3 DBAPI2 connection. Other DBAPI2 objects are not tested. Please consider using SQLAlchemy.\n",
      "  df_CONDITION_OCCURRENCE = pd.read_sql('select * from `CONDITION_OCCURRENCE`', con=conn)\n"
     ]
    }
   ],
   "source": [
    "df_CONDITION_OCCURRENCE = pd.read_sql('select * from `CONDITION_OCCURRENCE`', con=conn)"
   ]
  },
  {
   "cell_type": "code",
   "execution_count": 4,
   "id": "5209b680",
   "metadata": {},
   "outputs": [
    {
     "name": "stdout",
     "output_type": "stream",
     "text": [
      "Length - CONDITION_OCCURRENCE:  0\n"
     ]
    }
   ],
   "source": [
    "print('Length - CONDITION_OCCURRENCE: ', len(df_CONDITION_OCCURRENCE))"
   ]
  },
  {
   "cell_type": "code",
   "execution_count": 5,
   "id": "b49ac375",
   "metadata": {},
   "outputs": [
    {
     "name": "stdout",
     "output_type": "stream",
     "text": [
      "Empty DataFrame\n",
      "Columns: [condition_occurrence_id, person_id, condition_concept_id, condition_start_date, condition_start_datetime, condition_end_date, condition_end_datetime, condition_type_concept_id, condition_status_concept_id, stop_reason, provider_id, visit_occurrence_id, visit_detail_id, condition_source_value, condition_source_concept_id, condition_status_source_value]\n",
      "Index: []\n"
     ]
    }
   ],
   "source": [
    "print(df_CONDITION_OCCURRENCE.head())"
   ]
  },
  {
   "cell_type": "code",
   "execution_count": 6,
   "id": "1cf1bb8a",
   "metadata": {},
   "outputs": [
    {
     "name": "stdout",
     "output_type": "stream",
     "text": [
      "<_mysql.connection open to '127.0.0.1' at 0x564b609e4cc0>\n"
     ]
    }
   ],
   "source": [
    "import MySQLdb\n",
    "\n",
    "myvars = {}\n",
    "with open(\"ksunchu-password\") as myfile:\n",
    " for line in myfile:\n",
    "    name, var = line.partition(\"=\")[::2]\n",
    "    myvars[name.strip()] = var.strip()\n",
    "\n",
    "mimicivconn = MySQLdb.connect(host=\"127.0.0.1\", user=myvars['username'], passwd=myvars['password'], db='mimiciv')\n",
    "\n",
    "mimicivcursor = conn.cursor()\n",
    "print(conn)"
   ]
  },
  {
   "cell_type": "code",
   "execution_count": 7,
   "id": "0ee95af1",
   "metadata": {},
   "outputs": [
    {
     "name": "stderr",
     "output_type": "stream",
     "text": [
      "/tmp/ipykernel_147665/330216556.py:1: UserWarning: pandas only supports SQLAlchemy connectable (engine/connection) or database string URI or sqlite3 DBAPI2 connection. Other DBAPI2 objects are not tested. Please consider using SQLAlchemy.\n",
      "  df_patients_mimiciv = pd.read_sql('select subject_id, anchor_year, anchor_year_group from patients', con=mimicivconn)\n"
     ]
    }
   ],
   "source": [
    "df_patients_mimiciv = pd.read_sql('select subject_id, anchor_year, anchor_year_group from patients', con=mimicivconn)"
   ]
  },
  {
   "cell_type": "code",
   "execution_count": 8,
   "id": "2fb853ea",
   "metadata": {},
   "outputs": [],
   "source": [
    "ddf_patients_mimiciv = dd.from_pandas(df_patients_mimiciv).compute()"
   ]
  },
  {
   "cell_type": "code",
   "execution_count": 9,
   "id": "fb078256",
   "metadata": {},
   "outputs": [],
   "source": [
    "df_patients_mimiciv = ''"
   ]
  },
  {
   "cell_type": "code",
   "execution_count": 10,
   "id": "0bba0c4c",
   "metadata": {},
   "outputs": [
    {
     "name": "stdout",
     "output_type": "stream",
     "text": [
      "        subject_id  anchor_year anchor_year_group\n",
      "0         10000032         2180       2014 - 2016\n",
      "1         10000048         2126       2008 - 2010\n",
      "2         10000068         2160       2008 - 2010\n",
      "3         10000084         2160       2017 - 2019\n",
      "4         10000102         2136       2008 - 2010\n",
      "...            ...          ...               ...\n",
      "299707    19999828         2147       2017 - 2019\n",
      "299708    19999829         2186       2008 - 2010\n",
      "299709    19999840         2164       2008 - 2010\n",
      "299710    19999914         2158       2017 - 2019\n",
      "299711    19999987         2145       2011 - 2013\n",
      "\n",
      "[299712 rows x 3 columns]\n"
     ]
    }
   ],
   "source": [
    "print(ddf_patients_mimiciv)"
   ]
  },
  {
   "cell_type": "code",
   "execution_count": 11,
   "id": "b89d849b",
   "metadata": {},
   "outputs": [
    {
     "name": "stderr",
     "output_type": "stream",
     "text": [
      "/tmp/ipykernel_147665/1490780762.py:1: UserWarning: pandas only supports SQLAlchemy connectable (engine/connection) or database string URI or sqlite3 DBAPI2 connection. Other DBAPI2 objects are not tested. Please consider using SQLAlchemy.\n",
      "  df_admissions_mimiciv = pd.read_sql('select subject_id, admittime, dischtime from admissions', con=mimicivconn)\n"
     ]
    }
   ],
   "source": [
    "df_admissions_mimiciv = pd.read_sql('select subject_id, admittime, dischtime from admissions', con=mimicivconn)"
   ]
  },
  {
   "cell_type": "code",
   "execution_count": 12,
   "id": "379e65d0",
   "metadata": {},
   "outputs": [],
   "source": [
    "ddf_admissions_mimiciv = dd.from_pandas(df_admissions_mimiciv).compute()"
   ]
  },
  {
   "cell_type": "code",
   "execution_count": 13,
   "id": "00e08d9d",
   "metadata": {},
   "outputs": [],
   "source": [
    "df_admissions_mimiciv = ''"
   ]
  },
  {
   "cell_type": "code",
   "execution_count": 14,
   "id": "ac4b68f8",
   "metadata": {},
   "outputs": [
    {
     "name": "stdout",
     "output_type": "stream",
     "text": [
      "        subject_id           admittime           dischtime\n",
      "0         10467237 2159-03-20 21:08:00 2159-03-23 16:54:00\n",
      "1         16925328 2151-05-25 21:44:00 2151-05-26 18:36:00\n",
      "2         19430048 2174-05-22 19:13:00 2174-05-24 17:27:00\n",
      "3         18910522 2143-09-03 07:15:00 2143-09-06 13:50:00\n",
      "4         11146739 2190-01-15 17:07:00 2190-01-18 16:05:00\n",
      "...            ...                 ...                 ...\n",
      "431226    10382924 2170-08-09 18:56:00 2170-08-10 18:30:00\n",
      "431227    11326722 2160-07-05 22:24:00 2160-07-12 12:50:00\n",
      "431228    12133002 2172-09-24 21:27:00 2172-09-30 17:04:00\n",
      "431229    16572164 2180-10-27 07:15:00 2180-10-30 17:25:00\n",
      "431230    16549335 2165-07-28 17:22:00 2165-07-31 11:53:00\n",
      "\n",
      "[431231 rows x 3 columns]\n"
     ]
    }
   ],
   "source": [
    "print(ddf_admissions_mimiciv)"
   ]
  },
  {
   "cell_type": "code",
   "execution_count": 15,
   "id": "6f2f9874",
   "metadata": {},
   "outputs": [
    {
     "name": "stderr",
     "output_type": "stream",
     "text": [
      "/tmp/ipykernel_147665/1509648208.py:1: UserWarning: pandas only supports SQLAlchemy connectable (engine/connection) or database string URI or sqlite3 DBAPI2 connection. Other DBAPI2 objects are not tested. Please consider using SQLAlchemy.\n",
      "  df_d_icd_diagnoses_mimiciv = pd.read_sql('select icd_code, long_title from d_icd_diagnoses', con=mimicivconn)\n"
     ]
    }
   ],
   "source": [
    "df_d_icd_diagnoses_mimiciv = pd.read_sql('select icd_code, long_title from d_icd_diagnoses', con=mimicivconn)"
   ]
  },
  {
   "cell_type": "code",
   "execution_count": 16,
   "id": "fd51b4d3",
   "metadata": {},
   "outputs": [],
   "source": [
    "ddf_d_icd_diagnoses_mimiciv = dd.from_pandas(df_d_icd_diagnoses_mimiciv).compute()"
   ]
  },
  {
   "cell_type": "code",
   "execution_count": 17,
   "id": "be6d7759",
   "metadata": {},
   "outputs": [],
   "source": [
    "df_d_icd_diagnoses_mimiciv = ''"
   ]
  },
  {
   "cell_type": "code",
   "execution_count": 18,
   "id": "13550e3e",
   "metadata": {},
   "outputs": [
    {
     "name": "stdout",
     "output_type": "stream",
     "text": [
      "       icd_code                                         long_title\n",
      "0          0010                     Cholera due to vibrio cholerae\n",
      "1          0011              Cholera due to vibrio cholerae el tor\n",
      "2          0019                               Cholera, unspecified\n",
      "3          0020                                      Typhoid fever\n",
      "4          0021                                Paratyphoid fever A\n",
      "...         ...                                                ...\n",
      "109770     Z992                       Dependence on renal dialysis\n",
      "109771     Z993                           Dependence on wheelchair\n",
      "109772     Z998  Dependence on other enabling machines and devices\n",
      "109773    Z9981                  Dependence on supplemental oxygen\n",
      "109774    Z9989  Dependence on other enabling machines and devices\n",
      "\n",
      "[109775 rows x 2 columns]\n"
     ]
    }
   ],
   "source": [
    "print(ddf_d_icd_diagnoses_mimiciv)"
   ]
  },
  {
   "cell_type": "code",
   "execution_count": 19,
   "id": "32b68673",
   "metadata": {},
   "outputs": [
    {
     "name": "stderr",
     "output_type": "stream",
     "text": [
      "/tmp/ipykernel_147665/2972764419.py:1: UserWarning: pandas only supports SQLAlchemy connectable (engine/connection) or database string URI or sqlite3 DBAPI2 connection. Other DBAPI2 objects are not tested. Please consider using SQLAlchemy.\n",
      "  df_diagnoses_icd_mimiciv = pd.read_sql('select subject_id, hadm_id, icd_code from diagnoses_icd', con=mimicivconn)\n"
     ]
    }
   ],
   "source": [
    "df_diagnoses_icd_mimiciv = pd.read_sql('select subject_id, hadm_id, icd_code from diagnoses_icd', con=mimicivconn)"
   ]
  },
  {
   "cell_type": "code",
   "execution_count": 20,
   "id": "312cc60e",
   "metadata": {},
   "outputs": [],
   "source": [
    "ddf_diagnoses_icd_mimiciv = dd.from_pandas(df_diagnoses_icd_mimiciv).compute()"
   ]
  },
  {
   "cell_type": "code",
   "execution_count": 21,
   "id": "d2e640fb",
   "metadata": {},
   "outputs": [],
   "source": [
    "df_diagnoses_icd_mimiciv = ''"
   ]
  },
  {
   "cell_type": "code",
   "execution_count": 22,
   "id": "b2a86838",
   "metadata": {},
   "outputs": [
    {
     "name": "stdout",
     "output_type": "stream",
     "text": [
      "         subject_id   hadm_id icd_code\n",
      "0          10000032  22595853     5723\n",
      "1          10000032  22595853    78959\n",
      "2          10000032  22595853     5715\n",
      "3          10000032  22595853    07070\n",
      "4          10000032  22595853      496\n",
      "...             ...       ...      ...\n",
      "4756321    19999987  23865745    41401\n",
      "4756322    19999987  23865745    78039\n",
      "4756323    19999987  23865745     0413\n",
      "4756324    19999987  23865745    36846\n",
      "4756325    19999987  23865745     7810\n",
      "\n",
      "[4756326 rows x 3 columns]\n"
     ]
    }
   ],
   "source": [
    "print(ddf_diagnoses_icd_mimiciv)"
   ]
  },
  {
   "cell_type": "code",
   "execution_count": 23,
   "id": "b23c6f89",
   "metadata": {},
   "outputs": [
    {
     "name": "stdout",
     "output_type": "stream",
     "text": [
      "        subject_id           admittime           dischtime  anchor_year  \\\n",
      "0         10467237 2159-03-20 21:08:00 2159-03-23 16:54:00         2159   \n",
      "1         16925328 2151-05-25 21:44:00 2151-05-26 18:36:00         2143   \n",
      "2         19430048 2174-05-22 19:13:00 2174-05-24 17:27:00         2172   \n",
      "3         18910522 2143-09-03 07:15:00 2143-09-06 13:50:00         2142   \n",
      "4         11146739 2190-01-15 17:07:00 2190-01-18 16:05:00         2188   \n",
      "...            ...                 ...                 ...          ...   \n",
      "431226    10382924 2170-08-09 18:56:00 2170-08-10 18:30:00         2170   \n",
      "431227    11326722 2160-07-05 22:24:00 2160-07-12 12:50:00         2160   \n",
      "431228    12133002 2172-09-24 21:27:00 2172-09-30 17:04:00         2166   \n",
      "431229    16572164 2180-10-27 07:15:00 2180-10-30 17:25:00         2180   \n",
      "431230    16549335 2165-07-28 17:22:00 2165-07-31 11:53:00         2164   \n",
      "\n",
      "       anchor_year_group  \n",
      "0            2011 - 2013  \n",
      "1            2008 - 2010  \n",
      "2            2017 - 2019  \n",
      "3            2011 - 2013  \n",
      "4            2011 - 2013  \n",
      "...                  ...  \n",
      "431226       2008 - 2010  \n",
      "431227       2008 - 2010  \n",
      "431228       2008 - 2010  \n",
      "431229       2014 - 2016  \n",
      "431230       2017 - 2019  \n",
      "\n",
      "[431231 rows x 5 columns]\n"
     ]
    }
   ],
   "source": [
    "ddf_adm_pat_merged = ddf_admissions_mimiciv.merge(ddf_patients_mimiciv, how='inner', on='subject_id')\n",
    "print(ddf_adm_pat_merged) "
   ]
  },
  {
   "cell_type": "code",
   "execution_count": 24,
   "id": "119b88d0",
   "metadata": {},
   "outputs": [
    {
     "name": "stdout",
     "output_type": "stream",
     "text": [
      "         subject_id   hadm_id icd_code  \\\n",
      "0          10000032  22595853     5723   \n",
      "1          10000032  22595853    78959   \n",
      "2          10000032  22595853     5715   \n",
      "3          10000032  22595853    07070   \n",
      "4          10000032  22595853      496   \n",
      "...             ...       ...      ...   \n",
      "4860275    19999987  23865745    41401   \n",
      "4860276    19999987  23865745    78039   \n",
      "4860277    19999987  23865745     0413   \n",
      "4860278    19999987  23865745    36846   \n",
      "4860279    19999987  23865745     7810   \n",
      "\n",
      "                                                long_title  \n",
      "0                                      Portal hypertension  \n",
      "1                                            Other ascites  \n",
      "2            Cirrhosis of liver without mention of alcohol  \n",
      "3        Unspecified viral hepatitis C without hepatic ...  \n",
      "4        Chronic airway obstruction, not elsewhere clas...  \n",
      "...                                                    ...  \n",
      "4860275  Coronary atherosclerosis of native coronary ar...  \n",
      "4860276                                  Other convulsions  \n",
      "4860277  Friedländer's bacillus infection in conditions...  \n",
      "4860278                 Homonymous bilateral field defects  \n",
      "4860279                     Abnormal involuntary movements  \n",
      "\n",
      "[4860280 rows x 4 columns]\n"
     ]
    }
   ],
   "source": [
    "ddf_icd_merged = ddf_diagnoses_icd_mimiciv.merge(ddf_d_icd_diagnoses_mimiciv, how='inner', on='icd_code')\n",
    "print(ddf_icd_merged)"
   ]
  },
  {
   "cell_type": "code",
   "execution_count": 25,
   "id": "806e5c7d",
   "metadata": {},
   "outputs": [
    {
     "name": "stdout",
     "output_type": "stream",
     "text": [
      "          subject_id           admittime           dischtime  anchor_year  \\\n",
      "0           10467237 2159-03-20 21:08:00 2159-03-23 16:54:00         2159   \n",
      "1           10467237 2159-03-20 21:08:00 2159-03-23 16:54:00         2159   \n",
      "2           10467237 2159-03-20 21:08:00 2159-03-23 16:54:00         2159   \n",
      "3           10467237 2159-03-20 21:08:00 2159-03-23 16:54:00         2159   \n",
      "4           10467237 2159-03-20 21:08:00 2159-03-23 16:54:00         2159   \n",
      "...              ...                 ...                 ...          ...   \n",
      "39747709    16549335 2165-07-28 17:22:00 2165-07-31 11:53:00         2164   \n",
      "39747710    16549335 2165-07-28 17:22:00 2165-07-31 11:53:00         2164   \n",
      "39747711    16549335 2165-07-28 17:22:00 2165-07-31 11:53:00         2164   \n",
      "39747712    16549335 2165-07-28 17:22:00 2165-07-31 11:53:00         2164   \n",
      "39747713    16549335 2165-07-28 17:22:00 2165-07-31 11:53:00         2164   \n",
      "\n",
      "         anchor_year_group   hadm_id icd_code  \\\n",
      "0              2011 - 2013  20000019     0389   \n",
      "1              2011 - 2013  20000019    59080   \n",
      "2              2011 - 2013  20000019    75310   \n",
      "3              2011 - 2013  20000019     5849   \n",
      "4              2011 - 2013  20000019     2761   \n",
      "...                    ...       ...      ...   \n",
      "39747709       2017 - 2019  29999928    Z8241   \n",
      "39747710       2017 - 2019  29999928     I959   \n",
      "39747711       2017 - 2019  29999928     I493   \n",
      "39747712       2017 - 2019  29999928     D500   \n",
      "39747713       2017 - 2019  29999928    K5900   \n",
      "\n",
      "                                                 long_title  \n",
      "0                                    Unspecified septicemia  \n",
      "1                               Pyelonephritis, unspecified  \n",
      "2                        Cystic kidney disease, unspecified  \n",
      "3                         Acute kidney failure, unspecified  \n",
      "4                         Hyposmolality and/or hyponatremia  \n",
      "...                                                     ...  \n",
      "39747709             Family history of sudden cardiac death  \n",
      "39747710                           Hypotension, unspecified  \n",
      "39747711               Ventricular premature depolarization  \n",
      "39747712  Iron deficiency anemia secondary to blood loss...  \n",
      "39747713                          Constipation, unspecified  \n",
      "\n",
      "[39747714 rows x 8 columns]\n"
     ]
    }
   ],
   "source": [
    "ddf_diagnoses_adm_merged = ddf_adm_pat_merged.merge(ddf_icd_merged, how='inner', on='subject_id')\n",
    "print(ddf_diagnoses_adm_merged)"
   ]
  },
  {
   "cell_type": "code",
   "execution_count": 27,
   "id": "7248de19",
   "metadata": {},
   "outputs": [
    {
     "name": "stdout",
     "output_type": "stream",
     "text": [
      "         condition_start_date\n",
      "0                  2012-03-20\n",
      "1                  2012-03-20\n",
      "2                  2012-03-20\n",
      "3                  2012-03-20\n",
      "4                  2012-03-20\n",
      "...                       ...\n",
      "39747709           2019-07-28\n",
      "39747710           2019-07-28\n",
      "39747711           2019-07-28\n",
      "39747712           2019-07-28\n",
      "39747713           2019-07-28\n",
      "\n",
      "[39747714 rows x 1 columns]\n"
     ]
    }
   ],
   "source": [
    "ddf_diagnoses_adm_merged['median_anchor_year'] = ddf_diagnoses_adm_merged['anchor_year_group'].str.split('-').apply(lambda x: int((int(x[0]) + int(x[1])) / 2))\n",
    "ddf_diagnoses_adm_merged['condition_year'] = ddf_diagnoses_adm_merged['admittime'].dt.year\n",
    "ddf_diagnoses_adm_merged['month_of_condition'] = ddf_diagnoses_adm_merged['admittime'].dt.month\n",
    "ddf_diagnoses_adm_merged['day_of_condition'] = ddf_diagnoses_adm_merged['admittime'].dt.day\n",
    "ddf_diagnoses_adm_merged['diff_year'] = ddf_diagnoses_adm_merged['anchor_year'] - ddf_diagnoses_adm_merged['median_anchor_year']\n",
    "ddf_diagnoses_adm_merged['year_of_condition'] = ddf_diagnoses_adm_merged['condition_year'] - ddf_diagnoses_adm_merged['diff_year']\n",
    "ddf_diagnoses_adm_merged['day_of_condition'] = ddf_diagnoses_adm_merged.apply(\n",
    "    lambda row: min(row['day_of_condition'], pd.Period(year=row['year_of_condition'], month=row['month_of_condition'], freq='M').days_in_month),\n",
    "    axis=1\n",
    ")\n",
    "ddf_diagnoses_adm_merged['condition_start_date'] = pd.to_datetime(\n",
    "    {\n",
    "        'year': ddf_diagnoses_adm_merged['year_of_condition'],\n",
    "        'month': ddf_diagnoses_adm_merged['month_of_condition'],\n",
    "        'day': ddf_diagnoses_adm_merged['day_of_condition']\n",
    "    }\n",
    ")\n",
    "print(ddf_diagnoses_adm_merged[['condition_start_date']])"
   ]
  },
  {
   "cell_type": "code",
   "execution_count": 28,
   "id": "8b3cf26a",
   "metadata": {},
   "outputs": [
    {
     "name": "stdout",
     "output_type": "stream",
     "text": [
      "         condition_start_datetime\n",
      "0             2012-03-20 21:08:00\n",
      "1             2012-03-20 21:08:00\n",
      "2             2012-03-20 21:08:00\n",
      "3             2012-03-20 21:08:00\n",
      "4             2012-03-20 21:08:00\n",
      "...                           ...\n",
      "39747709      2019-07-28 17:22:00\n",
      "39747710      2019-07-28 17:22:00\n",
      "39747711      2019-07-28 17:22:00\n",
      "39747712      2019-07-28 17:22:00\n",
      "39747713      2019-07-28 17:22:00\n",
      "\n",
      "[39747714 rows x 1 columns]\n"
     ]
    }
   ],
   "source": [
    "ddf_diagnoses_adm_merged['time_of_condition'] = ddf_diagnoses_adm_merged['admittime'].dt.time\n",
    "ddf_diagnoses_adm_merged['condition_start_datetime'] = pd.to_datetime(\n",
    "    {\n",
    "        'year': ddf_diagnoses_adm_merged['year_of_condition'],\n",
    "        'month': ddf_diagnoses_adm_merged['month_of_condition'],\n",
    "        'day': ddf_diagnoses_adm_merged['day_of_condition'],\n",
    "        'hour': ddf_diagnoses_adm_merged['time_of_condition'].apply(lambda x: x.hour),\n",
    "        'minute': ddf_diagnoses_adm_merged['time_of_condition'].apply(lambda x: x.minute),\n",
    "        'second': ddf_diagnoses_adm_merged['time_of_condition'].apply(lambda x: x.second)\n",
    "    }\n",
    ")\n",
    "\n",
    "print(ddf_diagnoses_adm_merged[['condition_start_datetime']])"
   ]
  },
  {
   "cell_type": "code",
   "execution_count": 29,
   "id": "98bb7b9c",
   "metadata": {},
   "outputs": [
    {
     "name": "stdout",
     "output_type": "stream",
     "text": [
      "         condition_end_date\n",
      "0                2012-03-23\n",
      "1                2012-03-23\n",
      "2                2012-03-23\n",
      "3                2012-03-23\n",
      "4                2012-03-23\n",
      "...                     ...\n",
      "39747709         2019-07-31\n",
      "39747710         2019-07-31\n",
      "39747711         2019-07-31\n",
      "39747712         2019-07-31\n",
      "39747713         2019-07-31\n",
      "\n",
      "[39747714 rows x 1 columns]\n"
     ]
    }
   ],
   "source": [
    "ddf_diagnoses_adm_merged['condition_end_year'] = ddf_diagnoses_adm_merged['dischtime'].dt.year\n",
    "ddf_diagnoses_adm_merged['year_of_condition_end'] = ddf_diagnoses_adm_merged['condition_end_year'] - ddf_diagnoses_adm_merged['diff_year']\n",
    "ddf_diagnoses_adm_merged['month_of_condition_end'] = ddf_diagnoses_adm_merged['dischtime'].dt.month\n",
    "ddf_diagnoses_adm_merged['day_of_condition_end'] = ddf_diagnoses_adm_merged['dischtime'].dt.day\n",
    "ddf_diagnoses_adm_merged['day_of_condition_end'] = ddf_diagnoses_adm_merged.apply(\n",
    "    lambda row: min(row['day_of_condition_end'], pd.Period(year=row['year_of_condition_end'], month=row['month_of_condition_end'], freq='M').days_in_month),\n",
    "    axis=1\n",
    ")\n",
    "ddf_diagnoses_adm_merged['condition_end_date'] = pd.to_datetime(\n",
    "    {\n",
    "        'year': ddf_diagnoses_adm_merged['year_of_condition_end'],\n",
    "        'month': ddf_diagnoses_adm_merged['month_of_condition_end'],\n",
    "        'day': ddf_diagnoses_adm_merged['day_of_condition_end']\n",
    "    }\n",
    ")\n",
    "print(ddf_diagnoses_adm_merged[['condition_end_date']])"
   ]
  },
  {
   "cell_type": "code",
   "execution_count": 1,
   "id": "61510bd1",
   "metadata": {},
   "outputs": [
    {
     "ename": "NameError",
     "evalue": "name 'ddf_diagnoses_adm_merged' is not defined",
     "output_type": "error",
     "traceback": [
      "\u001b[0;31m---------------------------------------------------------------------------\u001b[0m",
      "\u001b[0;31mNameError\u001b[0m                                 Traceback (most recent call last)",
      "Input \u001b[0;32mIn [1]\u001b[0m, in \u001b[0;36m<cell line: 1>\u001b[0;34m()\u001b[0m\n\u001b[0;32m----> 1\u001b[0m ddf_diagnoses_adm_merged[\u001b[38;5;124m'\u001b[39m\u001b[38;5;124mtime_of_condition_end\u001b[39m\u001b[38;5;124m'\u001b[39m] \u001b[38;5;241m=\u001b[39m \u001b[43mddf_diagnoses_adm_merged\u001b[49m[\u001b[38;5;124m'\u001b[39m\u001b[38;5;124mdischtime\u001b[39m\u001b[38;5;124m'\u001b[39m]\u001b[38;5;241m.\u001b[39mdt\u001b[38;5;241m.\u001b[39mtime\n\u001b[1;32m      2\u001b[0m ddf_diagnoses_adm_merged[\u001b[38;5;124m'\u001b[39m\u001b[38;5;124mcondition_end_datetime\u001b[39m\u001b[38;5;124m'\u001b[39m] \u001b[38;5;241m=\u001b[39m pd\u001b[38;5;241m.\u001b[39mto_datetime(\n\u001b[1;32m      3\u001b[0m     {\n\u001b[1;32m      4\u001b[0m         \u001b[38;5;124m'\u001b[39m\u001b[38;5;124myear\u001b[39m\u001b[38;5;124m'\u001b[39m: ddf_diagnoses_adm_merged[\u001b[38;5;124m'\u001b[39m\u001b[38;5;124myear_of_condition_end\u001b[39m\u001b[38;5;124m'\u001b[39m],\n\u001b[0;32m   (...)\u001b[0m\n\u001b[1;32m     10\u001b[0m     }\n\u001b[1;32m     11\u001b[0m )\n\u001b[1;32m     13\u001b[0m \u001b[38;5;28mprint\u001b[39m(ddf_diagnoses_adm_merged[[\u001b[38;5;124m'\u001b[39m\u001b[38;5;124mcondition_end_datetime\u001b[39m\u001b[38;5;124m'\u001b[39m]])\n",
      "\u001b[0;31mNameError\u001b[0m: name 'ddf_diagnoses_adm_merged' is not defined"
     ]
    }
   ],
   "source": [
    "ddf_diagnoses_adm_merged['time_of_condition_end'] = ddf_diagnoses_adm_merged['dischtime'].dt.time\n",
    "ddf_diagnoses_adm_merged['condition_end_datetime'] = pd.to_datetime(\n",
    "    {\n",
    "        'year': ddf_diagnoses_adm_merged['year_of_condition_end'],\n",
    "        'month': ddf_diagnoses_adm_merged['month_of_condition_end'],\n",
    "        'day': ddf_diagnoses_adm_merged['day_of_condition_end'],\n",
    "        'hour': ddf_diagnoses_adm_merged['time_of_condition_end'].apply(lambda x: x.hour),\n",
    "        'minute': ddf_diagnoses_adm_merged['time_of_condition_end'].apply(lambda x: x.minute),\n",
    "        'second': ddf_diagnoses_adm_merged['time_of_condition_end'].apply(lambda x: x.second)\n",
    "    }\n",
    ")\n",
    "\n",
    "print(ddf_diagnoses_adm_merged[['condition_end_datetime']])"
   ]
  },
  {
   "cell_type": "code",
   "execution_count": 44,
   "id": "4e85da2a",
   "metadata": {},
   "outputs": [
    {
     "name": "stdout",
     "output_type": "stream",
     "text": [
      "Number of null or NaT values in the 'admittime' column: 0\n",
      "Number of null or NaT values in the 'dischtime' column: 0\n"
     ]
    }
   ],
   "source": [
    "null_or_nat_count = ddf_diagnoses_adm_merged['admittime'].isna().sum()\n",
    "print(\"Number of null or NaT values in the 'admittime' column:\", null_or_nat_count)\n",
    "null_or_nat_count = ddf_diagnoses_adm_merged['dischtime'].isna().sum()\n",
    "print(\"Number of null or NaT values in the 'dischtime' column:\", null_or_nat_count)"
   ]
  },
  {
   "cell_type": "code",
   "execution_count": 45,
   "id": "a858d5bb",
   "metadata": {},
   "outputs": [
    {
     "name": "stdout",
     "output_type": "stream",
     "text": [
      "Number of null or NaT values in the 'condition_start_datetime' column: 0\n",
      "Number of null or NaT values in the 'condition_end_datetime' column: 0\n"
     ]
    }
   ],
   "source": [
    "null_or_nat_count = ddf_diagnoses_adm_merged['condition_start_datetime'].isna().sum()\n",
    "print(\"Number of null or NaT values in the 'condition_start_datetime' column:\", null_or_nat_count)\n",
    "null_or_nat_count = ddf_diagnoses_adm_merged['condition_end_datetime'].isna().sum()\n",
    "print(\"Number of null or NaT values in the 'condition_end_datetime' column:\", null_or_nat_count)"
   ]
  },
  {
   "cell_type": "code",
   "execution_count": 46,
   "id": "c8696080",
   "metadata": {},
   "outputs": [
    {
     "name": "stdout",
     "output_type": "stream",
     "text": [
      "          condition_type_concept_id\n",
      "0                             32817\n",
      "1                             32817\n",
      "2                             32817\n",
      "3                             32817\n",
      "4                             32817\n",
      "...                             ...\n",
      "39747709                      32817\n",
      "39747710                      32817\n",
      "39747711                      32817\n",
      "39747712                      32817\n",
      "39747713                      32817\n",
      "\n",
      "[39747714 rows x 1 columns]\n"
     ]
    }
   ],
   "source": [
    "ddf_diagnoses_adm_merged['condition_type_concept_id'] = 32817\n",
    "print(ddf_diagnoses_adm_merged[['condition_type_concept_id']])"
   ]
  },
  {
   "cell_type": "code",
   "execution_count": 47,
   "id": "3d236678",
   "metadata": {},
   "outputs": [
    {
     "name": "stdout",
     "output_type": "stream",
     "text": [
      "          stop_reason\n",
      "0                 NaN\n",
      "1                 NaN\n",
      "2                 NaN\n",
      "3                 NaN\n",
      "4                 NaN\n",
      "...               ...\n",
      "39747709          NaN\n",
      "39747710          NaN\n",
      "39747711          NaN\n",
      "39747712          NaN\n",
      "39747713          NaN\n",
      "\n",
      "[39747714 rows x 1 columns]\n"
     ]
    }
   ],
   "source": [
    "ddf_diagnoses_adm_merged['stop_reason'] = np.nan\n",
    "print(ddf_diagnoses_adm_merged[['stop_reason']])"
   ]
  },
  {
   "cell_type": "code",
   "execution_count": 48,
   "id": "79c9e58e",
   "metadata": {},
   "outputs": [
    {
     "name": "stdout",
     "output_type": "stream",
     "text": [
      "          condition_status_concept_id\n",
      "0                                 NaN\n",
      "1                                 NaN\n",
      "2                                 NaN\n",
      "3                                 NaN\n",
      "4                                 NaN\n",
      "...                               ...\n",
      "39747709                          NaN\n",
      "39747710                          NaN\n",
      "39747711                          NaN\n",
      "39747712                          NaN\n",
      "39747713                          NaN\n",
      "\n",
      "[39747714 rows x 1 columns]\n"
     ]
    }
   ],
   "source": [
    "ddf_diagnoses_adm_merged['condition_status_concept_id'] = np.nan\n",
    "print(ddf_diagnoses_adm_merged[['condition_status_concept_id']])"
   ]
  },
  {
   "cell_type": "code",
   "execution_count": 49,
   "id": "c3df3875",
   "metadata": {},
   "outputs": [
    {
     "name": "stdout",
     "output_type": "stream",
     "text": [
      "          condition_status_source_value\n",
      "0                                   NaN\n",
      "1                                   NaN\n",
      "2                                   NaN\n",
      "3                                   NaN\n",
      "4                                   NaN\n",
      "...                                 ...\n",
      "39747709                            NaN\n",
      "39747710                            NaN\n",
      "39747711                            NaN\n",
      "39747712                            NaN\n",
      "39747713                            NaN\n",
      "\n",
      "[39747714 rows x 1 columns]\n"
     ]
    }
   ],
   "source": [
    "ddf_diagnoses_adm_merged['condition_status_source_value'] = np.nan\n",
    "print(ddf_diagnoses_adm_merged[['condition_status_source_value']])"
   ]
  },
  {
   "cell_type": "code",
   "execution_count": 50,
   "id": "a7f2e095",
   "metadata": {},
   "outputs": [
    {
     "name": "stdout",
     "output_type": "stream",
     "text": [
      "          visit_detail_id\n",
      "0                     NaN\n",
      "1                     NaN\n",
      "2                     NaN\n",
      "3                     NaN\n",
      "4                     NaN\n",
      "...                   ...\n",
      "39747709              NaN\n",
      "39747710              NaN\n",
      "39747711              NaN\n",
      "39747712              NaN\n",
      "39747713              NaN\n",
      "\n",
      "[39747714 rows x 1 columns]\n"
     ]
    }
   ],
   "source": [
    "ddf_diagnoses_adm_merged['visit_detail_id'] = np.nan\n",
    "print(ddf_diagnoses_adm_merged[['visit_detail_id']])"
   ]
  },
  {
   "cell_type": "code",
   "execution_count": 51,
   "id": "ed673847",
   "metadata": {},
   "outputs": [
    {
     "name": "stdout",
     "output_type": "stream",
     "text": [
      "          provider_id\n",
      "0                   1\n",
      "1                   1\n",
      "2                   1\n",
      "3                   1\n",
      "4                   1\n",
      "...               ...\n",
      "39747709            1\n",
      "39747710            1\n",
      "39747711            1\n",
      "39747712            1\n",
      "39747713            1\n",
      "\n",
      "[39747714 rows x 1 columns]\n"
     ]
    }
   ],
   "source": [
    "default_provider_id = 1\n",
    "ddf_diagnoses_adm_merged['provider_id'] = default_provider_id\n",
    "print(ddf_diagnoses_adm_merged[['provider_id']])"
   ]
  },
  {
   "cell_type": "code",
   "execution_count": null,
   "id": "1f0dccb2",
   "metadata": {},
   "outputs": [],
   "source": [
    "condition_mapping = {\n",
    "    \"\": ,\n",
    "    \"\": ,\n",
    "    \"\": ,\n",
    "    \"\": ,\n",
    "    \"\": ,\n",
    "    \"\": ,\n",
    "    \"\": ,\n",
    "    \"\": ,\n",
    "    \"\": ,\n",
    "    \"\": ,\n",
    "    \"\": ,\n",
    "}\n",
    "\n",
    "ddf_diagnoses_adm_merged['condition_concept_id'] = ddf_diagnoses_adm_merged['long_title'].map(condition_mapping)\n",
    "ddf_diagnoses_adm_merged['condition_concept_id'] = ddf_diagnoses_adm_merged['condition_concept_id'].astype('Int64')\n",
    "\n",
    "print(ddf_adm_pat_merged[['long_title', 'condition_concept_id']])"
   ]
  },
  {
   "cell_type": "code",
   "execution_count": null,
   "id": "cfdc20f0",
   "metadata": {},
   "outputs": [],
   "source": [
    "ddf_diagnoses_adm_merged_copy =  ddf_diagnoses_adm_merged.copy()\n",
    "ddf_diagnoses_adm_merged_copy"
   ]
  },
  {
   "cell_type": "code",
   "execution_count": null,
   "id": "448c2bca",
   "metadata": {},
   "outputs": [],
   "source": [
    "import MySQLdb\n",
    "\n",
    "myvars = {}\n",
    "with open(\"ksunchu-password\") as myfile:\n",
    " for line in myfile:\n",
    "    name, var = line.partition(\"=\")[::2]\n",
    "    myvars[name.strip()] = var.strip()\n",
    "\n",
    "conn = MySQLdb.connect(host=\"127.0.0.1\", user=myvars['username'], passwd=myvars['password'], db='omop')\n",
    "omopcursor = conn.cursor()"
   ]
  },
  {
   "cell_type": "code",
   "execution_count": null,
   "id": "fbcc433a",
   "metadata": {},
   "outputs": [],
   "source": [
    "condition_occurrence_data = ddf_diagnoses_adm_merged_copy[['condition_occurrence_id', 'subject_id', 'condition_concept_id', 'condition_start_date', 'condition_start_datetime', 'condition_end_date', 'condition_end_datetime', 'condition_type_concept_id', 'condition_status_concept_id', 'stop_reason', 'provider_id', 'hadm_id', 'visit_detail_id', 'long_title', 'icd_code', 'condition_status_source_value']]\n",
    "\n",
    "for index, row in condition_occurrence_data.iterrows():\n",
    "    row = row.where(pd.notnull(row), None)\n",
    "    \n",
    "    sql = \"INSERT INTO CONDITION_OCCURRENCE (condition_occurrence_id, person_id, condition_concept_id, condition_start_date, condition_start_datetime, condition_end_date, condition_end_datetime, condition_type_concept_id, condition_status_concept_id, stop_reason, provider_id, visit_occurrence_id, visit_detail_id, condition_source_value, condition_source_concept_id, condition_status_source_value) VALUES (%s, %s, %s, %s, %s, %s, %s, %s, %s, %s, %s, %s, %s, %s, %s, %s)\"\n",
    "    \n",
    "    omopcursor.execute(sql, (\n",
    "        row['condition_occurrence_id'],\n",
    "        row['subject_id'],\n",
    "        row['condition_concept_id'],\n",
    "        row['condition_start_date'],\n",
    "        row['condition_start_datetime'],\n",
    "        row['condition_end_date'],\n",
    "        row['condition_end_datetime'],\n",
    "        row['condition_type_concept_id'],\n",
    "        row['condition_status_concept_id'],\n",
    "        row['stop_reason']\n",
    "        row['provider_id'],\n",
    "        row['hadm_id']\n",
    "        row['visit_detail_id'],\n",
    "        row['long_title'],\n",
    "        row['icd_code'],\n",
    "        row['condition_status_source_value']\n",
    "    ))\n",
    "\n",
    "conn.commit()\n",
    "print(\"Insertion was successful.\")"
   ]
  }
 ],
 "metadata": {
  "kernelspec": {
   "display_name": "Python 3 (ipykernel)",
   "language": "python",
   "name": "python3"
  },
  "language_info": {
   "codemirror_mode": {
    "name": "ipython",
    "version": 3
   },
   "file_extension": ".py",
   "mimetype": "text/x-python",
   "name": "python",
   "nbconvert_exporter": "python",
   "pygments_lexer": "ipython3",
   "version": "3.9.7"
  }
 },
 "nbformat": 4,
 "nbformat_minor": 5
}
