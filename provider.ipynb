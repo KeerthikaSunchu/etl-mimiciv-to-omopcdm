{
 "cells": [
  {
   "cell_type": "code",
   "execution_count": 1,
   "id": "ddaa5a36",
   "metadata": {},
   "outputs": [
    {
     "name": "stdout",
     "output_type": "stream",
     "text": [
      "<_mysql.connection open to '127.0.0.1' at 0x5654438f0710>\n"
     ]
    }
   ],
   "source": [
    "import MySQLdb\n",
    "\n",
    "myvars = {}\n",
    "with open(\"ksunchu-password\") as myfile:\n",
    " for line in myfile:\n",
    "    name, var = line.partition(\"=\")[::2]\n",
    "    myvars[name.strip()] = var.strip()\n",
    "\n",
    "conn = MySQLdb.connect(host=\"127.0.0.1\", user=myvars['username'], passwd=myvars['password'], db='omop')\n",
    "\n",
    "omopcursor = conn.cursor()\n",
    "print(conn)"
   ]
  },
  {
   "cell_type": "code",
   "execution_count": 2,
   "id": "d421c026",
   "metadata": {},
   "outputs": [],
   "source": [
    "import pandas as pd\n",
    "import numpy as np"
   ]
  },
  {
   "cell_type": "code",
   "execution_count": 3,
   "id": "8627e726",
   "metadata": {},
   "outputs": [
    {
     "name": "stderr",
     "output_type": "stream",
     "text": [
      "/tmp/ipykernel_411850/1178160551.py:1: UserWarning: pandas only supports SQLAlchemy connectable (engine/connection) or database string URI or sqlite3 DBAPI2 connection. Other DBAPI2 objects are not tested. Please consider using SQLAlchemy.\n",
      "  df_PROVIDER = pd.read_sql('select * from `PROVIDER`', con=conn)\n"
     ]
    }
   ],
   "source": [
    "df_PROVIDER = pd.read_sql('select * from `PROVIDER`', con=conn)"
   ]
  },
  {
   "cell_type": "code",
   "execution_count": 4,
   "id": "2f3b655b",
   "metadata": {},
   "outputs": [
    {
     "name": "stdout",
     "output_type": "stream",
     "text": [
      "Length - PROVIDER:  0\n"
     ]
    }
   ],
   "source": [
    "print('Length - PROVIDER: ', len(df_PROVIDER))"
   ]
  },
  {
   "cell_type": "code",
   "execution_count": 5,
   "id": "11f0746d",
   "metadata": {},
   "outputs": [
    {
     "name": "stdout",
     "output_type": "stream",
     "text": [
      "Empty DataFrame\n",
      "Columns: [provider_id, npi, dea, specialty_concept_id, care_site_id, year_of_birth, gender_concept_id, provider_source_value, specialty_source_value, specialty_source_concept_id, gender_source_value, gender_source_concept_id]\n",
      "Index: []\n"
     ]
    }
   ],
   "source": [
    "print(df_PROVIDER.head())"
   ]
  },
  {
   "cell_type": "code",
   "execution_count": 6,
   "id": "73a0617c",
   "metadata": {},
   "outputs": [
    {
     "name": "stdout",
     "output_type": "stream",
     "text": [
      "<_mysql.connection open to '127.0.0.1' at 0x5654438f0710>\n"
     ]
    }
   ],
   "source": [
    "import MySQLdb\n",
    "\n",
    "myvars = {}\n",
    "with open(\"ksunchu-password\") as myfile:\n",
    " for line in myfile:\n",
    "    name, var = line.partition(\"=\")[::2]\n",
    "    myvars[name.strip()] = var.strip()\n",
    "\n",
    "mimicivconn = MySQLdb.connect(host=\"127.0.0.1\", user=myvars['username'], passwd=myvars['password'], db='mimiciv')\n",
    "\n",
    "mimicivcursor = conn.cursor()\n",
    "print(conn)"
   ]
  },
  {
   "cell_type": "code",
   "execution_count": 7,
   "id": "ef34e4de",
   "metadata": {},
   "outputs": [
    {
     "name": "stdout",
     "output_type": "stream",
     "text": [
      "  provider_id\n",
      "0      P0003D\n",
      "1      P000DI\n",
      "2      P000EW\n",
      "3      P000H9\n",
      "4      P000I6\n"
     ]
    },
    {
     "name": "stderr",
     "output_type": "stream",
     "text": [
      "/tmp/ipykernel_411850/1204220157.py:1: UserWarning: pandas only supports SQLAlchemy connectable (engine/connection) or database string URI or sqlite3 DBAPI2 connection. Other DBAPI2 objects are not tested. Please consider using SQLAlchemy.\n",
      "  df_provider_mimiciv = pd.read_sql('select * from provider', con=mimicivconn)\n"
     ]
    }
   ],
   "source": [
    "df_provider_mimiciv = pd.read_sql('select * from provider', con=mimicivconn)\n",
    "print(df_provider_mimiciv.head()) "
   ]
  },
  {
   "cell_type": "code",
   "execution_count": 8,
   "id": "fcd121c5",
   "metadata": {},
   "outputs": [
    {
     "name": "stdout",
     "output_type": "stream",
     "text": [
      "0        1\n",
      "1        1\n",
      "2        1\n",
      "3        1\n",
      "4        1\n",
      "        ..\n",
      "40503    1\n",
      "40504    1\n",
      "40505    1\n",
      "40506    1\n",
      "40507    1\n",
      "Name: provider_id, Length: 40508, dtype: int64\n"
     ]
    }
   ],
   "source": [
    "default_provider_id = 1\n",
    "df_provider_mimiciv['provider_id'] = default_provider_id\n",
    "print(df_provider_mimiciv['provider_id'])"
   ]
  },
  {
   "cell_type": "code",
   "execution_count": 9,
   "id": "2d7eea93",
   "metadata": {},
   "outputs": [
    {
     "name": "stdout",
     "output_type": "stream",
     "text": [
      "0        0\n",
      "1        0\n",
      "2        0\n",
      "3        0\n",
      "4        0\n",
      "        ..\n",
      "40503    0\n",
      "40504    0\n",
      "40505    0\n",
      "40506    0\n",
      "40507    0\n",
      "Name: specialty_concept_id, Length: 40508, dtype: int64\n"
     ]
    }
   ],
   "source": [
    "df_provider_mimiciv['specialty_concept_id'] = 0\n",
    "print(df_provider_mimiciv['specialty_concept_id'])"
   ]
  },
  {
   "cell_type": "code",
   "execution_count": 10,
   "id": "4fc5dff3",
   "metadata": {},
   "outputs": [
    {
     "name": "stdout",
     "output_type": "stream",
     "text": [
      "0        0\n",
      "1        0\n",
      "2        0\n",
      "3        0\n",
      "4        0\n",
      "        ..\n",
      "40503    0\n",
      "40504    0\n",
      "40505    0\n",
      "40506    0\n",
      "40507    0\n",
      "Name: gender_concept_id, Length: 40508, dtype: int64\n"
     ]
    }
   ],
   "source": [
    "df_provider_mimiciv['gender_concept_id'] = 0\n",
    "print(df_provider_mimiciv['gender_concept_id'])"
   ]
  },
  {
   "cell_type": "code",
   "execution_count": 11,
   "id": "7e5ba727",
   "metadata": {},
   "outputs": [
    {
     "name": "stdout",
     "output_type": "stream",
     "text": [
      "0        None\n",
      "1        None\n",
      "2        None\n",
      "3        None\n",
      "4        None\n",
      "         ... \n",
      "40503    None\n",
      "40504    None\n",
      "40505    None\n",
      "40506    None\n",
      "40507    None\n",
      "Name: npi, Length: 40508, dtype: object\n"
     ]
    }
   ],
   "source": [
    "df_provider_mimiciv['npi'] = None\n",
    "print(df_provider_mimiciv['npi'])"
   ]
  },
  {
   "cell_type": "code",
   "execution_count": 12,
   "id": "142a914a",
   "metadata": {},
   "outputs": [
    {
     "name": "stdout",
     "output_type": "stream",
     "text": [
      "0        None\n",
      "1        None\n",
      "2        None\n",
      "3        None\n",
      "4        None\n",
      "         ... \n",
      "40503    None\n",
      "40504    None\n",
      "40505    None\n",
      "40506    None\n",
      "40507    None\n",
      "Name: dea, Length: 40508, dtype: object\n"
     ]
    }
   ],
   "source": [
    "df_provider_mimiciv['dea'] = None\n",
    "print(df_provider_mimiciv['dea'])"
   ]
  },
  {
   "cell_type": "code",
   "execution_count": 13,
   "id": "7bb9de82",
   "metadata": {},
   "outputs": [
    {
     "name": "stdout",
     "output_type": "stream",
     "text": [
      "0        None\n",
      "1        None\n",
      "2        None\n",
      "3        None\n",
      "4        None\n",
      "         ... \n",
      "40503    None\n",
      "40504    None\n",
      "40505    None\n",
      "40506    None\n",
      "40507    None\n",
      "Name: care_site_id, Length: 40508, dtype: object\n"
     ]
    }
   ],
   "source": [
    "df_provider_mimiciv['care_site_id'] = None\n",
    "print(df_provider_mimiciv['care_site_id'])"
   ]
  },
  {
   "cell_type": "code",
   "execution_count": 14,
   "id": "6cc36942",
   "metadata": {},
   "outputs": [
    {
     "name": "stdout",
     "output_type": "stream",
     "text": [
      "0        None\n",
      "1        None\n",
      "2        None\n",
      "3        None\n",
      "4        None\n",
      "         ... \n",
      "40503    None\n",
      "40504    None\n",
      "40505    None\n",
      "40506    None\n",
      "40507    None\n",
      "Name: year_of_birth, Length: 40508, dtype: object\n"
     ]
    }
   ],
   "source": [
    "df_provider_mimiciv['year_of_birth'] = None\n",
    "print(df_provider_mimiciv['year_of_birth'])"
   ]
  },
  {
   "cell_type": "code",
   "execution_count": 15,
   "id": "14e7b1a4",
   "metadata": {},
   "outputs": [
    {
     "name": "stdout",
     "output_type": "stream",
     "text": [
      "0        None\n",
      "1        None\n",
      "2        None\n",
      "3        None\n",
      "4        None\n",
      "         ... \n",
      "40503    None\n",
      "40504    None\n",
      "40505    None\n",
      "40506    None\n",
      "40507    None\n",
      "Name: provider_source_value, Length: 40508, dtype: object\n"
     ]
    }
   ],
   "source": [
    "df_provider_mimiciv['provider_source_value'] = None\n",
    "print(df_provider_mimiciv['provider_source_value'])"
   ]
  },
  {
   "cell_type": "code",
   "execution_count": 16,
   "id": "9e211fe3",
   "metadata": {},
   "outputs": [
    {
     "name": "stdout",
     "output_type": "stream",
     "text": [
      "0        None\n",
      "1        None\n",
      "2        None\n",
      "3        None\n",
      "4        None\n",
      "         ... \n",
      "40503    None\n",
      "40504    None\n",
      "40505    None\n",
      "40506    None\n",
      "40507    None\n",
      "Name: specialty_source_value, Length: 40508, dtype: object\n"
     ]
    }
   ],
   "source": [
    "df_provider_mimiciv['specialty_source_value'] = None\n",
    "print(df_provider_mimiciv['specialty_source_value'])"
   ]
  },
  {
   "cell_type": "code",
   "execution_count": 17,
   "id": "07d22183",
   "metadata": {},
   "outputs": [
    {
     "name": "stdout",
     "output_type": "stream",
     "text": [
      "0        None\n",
      "1        None\n",
      "2        None\n",
      "3        None\n",
      "4        None\n",
      "         ... \n",
      "40503    None\n",
      "40504    None\n",
      "40505    None\n",
      "40506    None\n",
      "40507    None\n",
      "Name: specialty_source_concept_id, Length: 40508, dtype: object\n"
     ]
    }
   ],
   "source": [
    "df_provider_mimiciv['specialty_source_concept_id'] = None\n",
    "print(df_provider_mimiciv['specialty_source_concept_id'])"
   ]
  },
  {
   "cell_type": "code",
   "execution_count": 18,
   "id": "b78afb5e",
   "metadata": {},
   "outputs": [
    {
     "name": "stdout",
     "output_type": "stream",
     "text": [
      "0        None\n",
      "1        None\n",
      "2        None\n",
      "3        None\n",
      "4        None\n",
      "         ... \n",
      "40503    None\n",
      "40504    None\n",
      "40505    None\n",
      "40506    None\n",
      "40507    None\n",
      "Name: gender_source_value, Length: 40508, dtype: object\n"
     ]
    }
   ],
   "source": [
    "df_provider_mimiciv['gender_source_value'] = None\n",
    "print(df_provider_mimiciv['gender_source_value'])"
   ]
  },
  {
   "cell_type": "code",
   "execution_count": 19,
   "id": "9e4baeb2",
   "metadata": {},
   "outputs": [
    {
     "name": "stdout",
     "output_type": "stream",
     "text": [
      "0        None\n",
      "1        None\n",
      "2        None\n",
      "3        None\n",
      "4        None\n",
      "         ... \n",
      "40503    None\n",
      "40504    None\n",
      "40505    None\n",
      "40506    None\n",
      "40507    None\n",
      "Name: gender_source_concept_id, Length: 40508, dtype: object\n"
     ]
    }
   ],
   "source": [
    "df_provider_mimiciv['gender_source_concept_id'] = None\n",
    "print(df_provider_mimiciv['gender_source_concept_id'])"
   ]
  },
  {
   "cell_type": "code",
   "execution_count": 20,
   "id": "ccb9d5a7",
   "metadata": {},
   "outputs": [
    {
     "data": {
      "text/html": [
       "<div>\n",
       "<style scoped>\n",
       "    .dataframe tbody tr th:only-of-type {\n",
       "        vertical-align: middle;\n",
       "    }\n",
       "\n",
       "    .dataframe tbody tr th {\n",
       "        vertical-align: top;\n",
       "    }\n",
       "\n",
       "    .dataframe thead th {\n",
       "        text-align: right;\n",
       "    }\n",
       "</style>\n",
       "<table border=\"1\" class=\"dataframe\">\n",
       "  <thead>\n",
       "    <tr style=\"text-align: right;\">\n",
       "      <th></th>\n",
       "      <th>provider_id</th>\n",
       "      <th>specialty_concept_id</th>\n",
       "      <th>gender_concept_id</th>\n",
       "      <th>npi</th>\n",
       "      <th>dea</th>\n",
       "      <th>care_site_id</th>\n",
       "      <th>year_of_birth</th>\n",
       "      <th>provider_source_value</th>\n",
       "      <th>specialty_source_value</th>\n",
       "      <th>specialty_source_concept_id</th>\n",
       "      <th>gender_source_value</th>\n",
       "      <th>gender_source_concept_id</th>\n",
       "    </tr>\n",
       "  </thead>\n",
       "  <tbody>\n",
       "    <tr>\n",
       "      <th>0</th>\n",
       "      <td>1</td>\n",
       "      <td>0</td>\n",
       "      <td>0</td>\n",
       "      <td>None</td>\n",
       "      <td>None</td>\n",
       "      <td>None</td>\n",
       "      <td>None</td>\n",
       "      <td>None</td>\n",
       "      <td>None</td>\n",
       "      <td>None</td>\n",
       "      <td>None</td>\n",
       "      <td>None</td>\n",
       "    </tr>\n",
       "    <tr>\n",
       "      <th>1</th>\n",
       "      <td>1</td>\n",
       "      <td>0</td>\n",
       "      <td>0</td>\n",
       "      <td>None</td>\n",
       "      <td>None</td>\n",
       "      <td>None</td>\n",
       "      <td>None</td>\n",
       "      <td>None</td>\n",
       "      <td>None</td>\n",
       "      <td>None</td>\n",
       "      <td>None</td>\n",
       "      <td>None</td>\n",
       "    </tr>\n",
       "    <tr>\n",
       "      <th>2</th>\n",
       "      <td>1</td>\n",
       "      <td>0</td>\n",
       "      <td>0</td>\n",
       "      <td>None</td>\n",
       "      <td>None</td>\n",
       "      <td>None</td>\n",
       "      <td>None</td>\n",
       "      <td>None</td>\n",
       "      <td>None</td>\n",
       "      <td>None</td>\n",
       "      <td>None</td>\n",
       "      <td>None</td>\n",
       "    </tr>\n",
       "    <tr>\n",
       "      <th>3</th>\n",
       "      <td>1</td>\n",
       "      <td>0</td>\n",
       "      <td>0</td>\n",
       "      <td>None</td>\n",
       "      <td>None</td>\n",
       "      <td>None</td>\n",
       "      <td>None</td>\n",
       "      <td>None</td>\n",
       "      <td>None</td>\n",
       "      <td>None</td>\n",
       "      <td>None</td>\n",
       "      <td>None</td>\n",
       "    </tr>\n",
       "    <tr>\n",
       "      <th>4</th>\n",
       "      <td>1</td>\n",
       "      <td>0</td>\n",
       "      <td>0</td>\n",
       "      <td>None</td>\n",
       "      <td>None</td>\n",
       "      <td>None</td>\n",
       "      <td>None</td>\n",
       "      <td>None</td>\n",
       "      <td>None</td>\n",
       "      <td>None</td>\n",
       "      <td>None</td>\n",
       "      <td>None</td>\n",
       "    </tr>\n",
       "    <tr>\n",
       "      <th>...</th>\n",
       "      <td>...</td>\n",
       "      <td>...</td>\n",
       "      <td>...</td>\n",
       "      <td>...</td>\n",
       "      <td>...</td>\n",
       "      <td>...</td>\n",
       "      <td>...</td>\n",
       "      <td>...</td>\n",
       "      <td>...</td>\n",
       "      <td>...</td>\n",
       "      <td>...</td>\n",
       "      <td>...</td>\n",
       "    </tr>\n",
       "    <tr>\n",
       "      <th>40503</th>\n",
       "      <td>1</td>\n",
       "      <td>0</td>\n",
       "      <td>0</td>\n",
       "      <td>None</td>\n",
       "      <td>None</td>\n",
       "      <td>None</td>\n",
       "      <td>None</td>\n",
       "      <td>None</td>\n",
       "      <td>None</td>\n",
       "      <td>None</td>\n",
       "      <td>None</td>\n",
       "      <td>None</td>\n",
       "    </tr>\n",
       "    <tr>\n",
       "      <th>40504</th>\n",
       "      <td>1</td>\n",
       "      <td>0</td>\n",
       "      <td>0</td>\n",
       "      <td>None</td>\n",
       "      <td>None</td>\n",
       "      <td>None</td>\n",
       "      <td>None</td>\n",
       "      <td>None</td>\n",
       "      <td>None</td>\n",
       "      <td>None</td>\n",
       "      <td>None</td>\n",
       "      <td>None</td>\n",
       "    </tr>\n",
       "    <tr>\n",
       "      <th>40505</th>\n",
       "      <td>1</td>\n",
       "      <td>0</td>\n",
       "      <td>0</td>\n",
       "      <td>None</td>\n",
       "      <td>None</td>\n",
       "      <td>None</td>\n",
       "      <td>None</td>\n",
       "      <td>None</td>\n",
       "      <td>None</td>\n",
       "      <td>None</td>\n",
       "      <td>None</td>\n",
       "      <td>None</td>\n",
       "    </tr>\n",
       "    <tr>\n",
       "      <th>40506</th>\n",
       "      <td>1</td>\n",
       "      <td>0</td>\n",
       "      <td>0</td>\n",
       "      <td>None</td>\n",
       "      <td>None</td>\n",
       "      <td>None</td>\n",
       "      <td>None</td>\n",
       "      <td>None</td>\n",
       "      <td>None</td>\n",
       "      <td>None</td>\n",
       "      <td>None</td>\n",
       "      <td>None</td>\n",
       "    </tr>\n",
       "    <tr>\n",
       "      <th>40507</th>\n",
       "      <td>1</td>\n",
       "      <td>0</td>\n",
       "      <td>0</td>\n",
       "      <td>None</td>\n",
       "      <td>None</td>\n",
       "      <td>None</td>\n",
       "      <td>None</td>\n",
       "      <td>None</td>\n",
       "      <td>None</td>\n",
       "      <td>None</td>\n",
       "      <td>None</td>\n",
       "      <td>None</td>\n",
       "    </tr>\n",
       "  </tbody>\n",
       "</table>\n",
       "<p>40508 rows × 12 columns</p>\n",
       "</div>"
      ],
      "text/plain": [
       "       provider_id  specialty_concept_id  gender_concept_id   npi   dea  \\\n",
       "0                1                     0                  0  None  None   \n",
       "1                1                     0                  0  None  None   \n",
       "2                1                     0                  0  None  None   \n",
       "3                1                     0                  0  None  None   \n",
       "4                1                     0                  0  None  None   \n",
       "...            ...                   ...                ...   ...   ...   \n",
       "40503            1                     0                  0  None  None   \n",
       "40504            1                     0                  0  None  None   \n",
       "40505            1                     0                  0  None  None   \n",
       "40506            1                     0                  0  None  None   \n",
       "40507            1                     0                  0  None  None   \n",
       "\n",
       "      care_site_id year_of_birth provider_source_value specialty_source_value  \\\n",
       "0             None          None                  None                   None   \n",
       "1             None          None                  None                   None   \n",
       "2             None          None                  None                   None   \n",
       "3             None          None                  None                   None   \n",
       "4             None          None                  None                   None   \n",
       "...            ...           ...                   ...                    ...   \n",
       "40503         None          None                  None                   None   \n",
       "40504         None          None                  None                   None   \n",
       "40505         None          None                  None                   None   \n",
       "40506         None          None                  None                   None   \n",
       "40507         None          None                  None                   None   \n",
       "\n",
       "      specialty_source_concept_id gender_source_value gender_source_concept_id  \n",
       "0                            None                None                     None  \n",
       "1                            None                None                     None  \n",
       "2                            None                None                     None  \n",
       "3                            None                None                     None  \n",
       "4                            None                None                     None  \n",
       "...                           ...                 ...                      ...  \n",
       "40503                        None                None                     None  \n",
       "40504                        None                None                     None  \n",
       "40505                        None                None                     None  \n",
       "40506                        None                None                     None  \n",
       "40507                        None                None                     None  \n",
       "\n",
       "[40508 rows x 12 columns]"
      ]
     },
     "execution_count": 20,
     "metadata": {},
     "output_type": "execute_result"
    }
   ],
   "source": [
    "df_provider_mimiciv_copy =  df_provider_mimiciv.copy()\n",
    "df_provider_mimiciv_copy"
   ]
  },
  {
   "cell_type": "code",
   "execution_count": 21,
   "id": "cd217742",
   "metadata": {},
   "outputs": [
    {
     "name": "stdout",
     "output_type": "stream",
     "text": [
      "Requirement already satisfied: pymysql in ./.local/lib/python3.9/site-packages (1.1.0)\n",
      "<_mysql.connection open to '127.0.0.1' at 0x565444ad3160>\n"
     ]
    }
   ],
   "source": [
    "!pip install --user pymysql\n",
    "import pymysql\n",
    "import MySQLdb\n",
    "\n",
    "myvars = {}\n",
    "with open(\"ksunchu-password\") as myfile:\n",
    " for line in myfile:\n",
    "    name, var = line.partition(\"=\")[::2]\n",
    "    myvars[name.strip()] = var.strip()\n",
    "\n",
    "conn = MySQLdb.connect(host=\"127.0.0.1\", user=myvars['username'], passwd=myvars['password'], db='omop')\n",
    "\n",
    "omopcursor = conn.cursor()\n",
    "print(conn)"
   ]
  },
  {
   "cell_type": "code",
   "execution_count": 22,
   "id": "e4816f38",
   "metadata": {},
   "outputs": [
    {
     "name": "stdout",
     "output_type": "stream",
     "text": [
      "Insertion was successful.\n"
     ]
    }
   ],
   "source": [
    "provider_data = df_provider_mimiciv_copy[['provider_id', 'npi', 'dea', 'specialty_concept_id', 'care_site_id', 'year_of_birth', 'gender_concept_id', 'provider_source_value', 'specialty_source_value', 'specialty_source_concept_id', 'gender_source_value', 'gender_source_concept_id']]\n",
    "\n",
    "row = provider_data.iloc[0]\n",
    "\n",
    "sql = \"INSERT INTO PROVIDER (provider_id, npi, dea, specialty_concept_id, care_site_id, year_of_birth, gender_concept_id, provider_source_value, specialty_source_value, specialty_source_concept_id, gender_source_value, gender_source_concept_id) VALUES (%s, %s, %s, %s, %s, %s, %s, %s, %s, %s, %s, %s)\"\n",
    "\n",
    "omopcursor.execute(sql, (\n",
    "    row['provider_id'],\n",
    "    row['npi'],\n",
    "    row['dea'],\n",
    "    row['specialty_concept_id'],\n",
    "    row['care_site_id'],\n",
    "    row['year_of_birth'],\n",
    "    row['gender_concept_id'],\n",
    "    row['provider_source_value'],\n",
    "    row['specialty_source_value'],\n",
    "    row['specialty_source_concept_id'],\n",
    "    row['gender_source_value'],\n",
    "    row['gender_source_concept_id'] \n",
    "))\n",
    "conn.commit()\n",
    "print(\"Insertion was successful.\")"
   ]
  },
  {
   "cell_type": "code",
   "execution_count": null,
   "id": "f64d32f1",
   "metadata": {},
   "outputs": [],
   "source": []
  }
 ],
 "metadata": {
  "kernelspec": {
   "display_name": "Python 3 (ipykernel)",
   "language": "python",
   "name": "python3"
  },
  "language_info": {
   "codemirror_mode": {
    "name": "ipython",
    "version": 3
   },
   "file_extension": ".py",
   "mimetype": "text/x-python",
   "name": "python",
   "nbconvert_exporter": "python",
   "pygments_lexer": "ipython3",
   "version": "3.9.7"
  }
 },
 "nbformat": 4,
 "nbformat_minor": 5
}
