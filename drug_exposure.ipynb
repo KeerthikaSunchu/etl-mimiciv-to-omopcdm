{
 "cells": [
  {
   "cell_type": "code",
   "execution_count": 1,
   "id": "45ae2e79",
   "metadata": {},
   "outputs": [],
   "source": [
    "import MySQLdb\n",
    "\n",
    "myvars = {}\n",
    "with open(\"ksunchu-password\") as myfile:\n",
    " for line in myfile:\n",
    "    name, var = line.partition(\"=\")[::2]\n",
    "    myvars[name.strip()] = var.strip()\n",
    "\n",
    "conn = MySQLdb.connect(host=\"127.0.0.1\", user=myvars['username'], passwd=myvars['password'], db='omop')"
   ]
  },
  {
   "cell_type": "code",
   "execution_count": 2,
   "id": "5d233eb1",
   "metadata": {},
   "outputs": [],
   "source": [
    "#!pip install \"dask[distributed]\" --upgrade"
   ]
  },
  {
   "cell_type": "code",
   "execution_count": 3,
   "id": "ba089cc9",
   "metadata": {},
   "outputs": [],
   "source": [
    "import pandas as pd\n",
    "import numpy as np\n",
    "import dask.dataframe as dd\n",
    "from dask.distributed import Client"
   ]
  },
  {
   "cell_type": "code",
   "execution_count": 4,
   "id": "1917b2c6",
   "metadata": {},
   "outputs": [
    {
     "name": "stderr",
     "output_type": "stream",
     "text": [
      "/tmp/ipykernel_19577/254203310.py:1: UserWarning: pandas only supports SQLAlchemy connectable (engine/connection) or database string URI or sqlite3 DBAPI2 connection. Other DBAPI2 objects are not tested. Please consider using SQLAlchemy.\n",
      "  df_DRUG_EXPOSURE = pd.read_sql('select * from `DRUG_EXPOSURE`', con=conn)\n"
     ]
    }
   ],
   "source": [
    "df_DRUG_EXPOSURE = pd.read_sql('select * from `DRUG_EXPOSURE`', con=conn)"
   ]
  },
  {
   "cell_type": "code",
   "execution_count": 5,
   "id": "6e2d5819",
   "metadata": {},
   "outputs": [
    {
     "name": "stdout",
     "output_type": "stream",
     "text": [
      "Length - DRUG_EXPOSURE:  0\n"
     ]
    }
   ],
   "source": [
    "print('Length - DRUG_EXPOSURE: ', len(df_DRUG_EXPOSURE))"
   ]
  },
  {
   "cell_type": "code",
   "execution_count": 6,
   "id": "0bf4a152",
   "metadata": {},
   "outputs": [
    {
     "name": "stdout",
     "output_type": "stream",
     "text": [
      "Empty DataFrame\n",
      "Columns: [drug_exposure_id, person_id, drug_concept_id, drug_exposure_start_date, drug_exposure_start_datetime, drug_exposure_end_date, drug_exposure_end_datetime, verbatim_end_date, drug_type_concept_id, stop_reason, refills, quantity, days_supply, sig, route_concept_id, lot_number, provider_id, visit_occurrence_id, visit_detail_id, drug_source_value, drug_source_concept_id, route_source_value, dose_unit_source_value]\n",
      "Index: []\n",
      "\n",
      "[0 rows x 23 columns]\n"
     ]
    }
   ],
   "source": [
    "print(df_DRUG_EXPOSURE.head())"
   ]
  },
  {
   "cell_type": "code",
   "execution_count": 7,
   "id": "c123ecb7",
   "metadata": {},
   "outputs": [],
   "source": [
    "import MySQLdb\n",
    "import pandas as pd\n",
    "\n",
    "myvars = {}\n",
    "with open(\"ksunchu-password\") as myfile:\n",
    " for line in myfile:\n",
    "    name, var = line.partition(\"=\")[::2]\n",
    "    myvars[name.strip()] = var.strip()\n",
    "\n",
    "mimicivconn = MySQLdb.connect(host=\"127.0.0.1\", user=myvars['username'], passwd=myvars['password'], db='mimiciv')\n"
   ]
  },
  {
   "cell_type": "code",
   "execution_count": 8,
   "id": "2ddf9f01",
   "metadata": {
    "scrolled": true
   },
   "outputs": [
    {
     "name": "stderr",
     "output_type": "stream",
     "text": [
      "/tmp/ipykernel_19577/2993937686.py:1: UserWarning: pandas only supports SQLAlchemy connectable (engine/connection) or database string URI or sqlite3 DBAPI2 connection. Other DBAPI2 objects are not tested. Please consider using SQLAlchemy.\n",
      "  df_prescriptions_mimiciv = pd.read_sql('select * from prescriptions', con=mimicivconn)\n"
     ]
    }
   ],
   "source": [
    "df_prescriptions_mimiciv = pd.read_sql('select * from prescriptions', con=mimicivconn)"
   ]
  },
  {
   "cell_type": "code",
   "execution_count": 9,
   "id": "b2777aad",
   "metadata": {},
   "outputs": [],
   "source": [
    "import dask.dataframe as dd\n",
    "ddf_prescriptions_mimiciv = dd.from_pandas(df_prescriptions_mimiciv).compute()"
   ]
  },
  {
   "cell_type": "code",
   "execution_count": 10,
   "id": "14794901",
   "metadata": {},
   "outputs": [],
   "source": [
    "df_prescriptions_mimiciv = ''"
   ]
  },
  {
   "cell_type": "code",
   "execution_count": 11,
   "id": "64d62638",
   "metadata": {},
   "outputs": [
    {
     "name": "stdout",
     "output_type": "stream",
     "text": [
      "   subject_id   hadm_id  pharmacy_id       poe_id  poe_seq order_provider_id  \\\n",
      "0    10000032  22595853     11700683  10000032-34     34.0            P76JEQ   \n",
      "1    10000032  22595853     14779570  10000032-22     22.0            P76JEQ   \n",
      "2    10000032  22595853     19796602  10000032-50     50.0            P260SK   \n",
      "3    10000032  22595853     20256254  10000032-32     32.0            P76JEQ   \n",
      "4    10000032  22595853     28781051  10000032-27     27.0            P76JEQ   \n",
      "\n",
      "            starttime            stoptime drug_type  \\\n",
      "0 2180-05-07 01:00:00 2180-05-07 22:00:00      MAIN   \n",
      "1 2180-05-07 00:00:00 2180-05-07 22:00:00      MAIN   \n",
      "2 2180-05-08 08:00:00 2180-05-07 22:00:00      MAIN   \n",
      "3 2180-05-07 01:00:00 2180-05-07 22:00:00      MAIN   \n",
      "4 2180-05-07 00:00:00 2180-05-07 22:00:00      MAIN   \n",
      "\n",
      "                          drug  ...     gsn          ndc  \\\n",
      "0                Acetaminophen  ...  004490  00904198861   \n",
      "1  Sodium Chloride 0.9%  Flush  ...    <NA>            0   \n",
      "2                   Furosemide  ...  008209  51079007320   \n",
      "3                  Raltegravir  ...  063231  00006022761   \n",
      "4                      Heparin  ...  006549  63323026201   \n",
      "\n",
      "               prod_strength form_rx dose_val_rx dose_unit_rx form_val_disp  \\\n",
      "0               500mg Tablet    <NA>         500           mg             1   \n",
      "1              10 mL Syringe    <NA>           3           mL           0.3   \n",
      "2                40mg Tablet    <NA>          40           mg             1   \n",
      "3              400 mg Tablet    <NA>         400           mg             1   \n",
      "4  5000 Units / mL- 1mL Vial    <NA>        5000         UNIT             1   \n",
      "\n",
      "  form_unit_disp doses_per_24_hrs  route  \n",
      "0            TAB              NaN  PO/NG  \n",
      "1            SYR              3.0     IV  \n",
      "2            TAB              1.0  PO/NG  \n",
      "3            TAB              2.0     PO  \n",
      "4             mL              3.0     SC  \n",
      "\n",
      "[5 rows x 21 columns]\n"
     ]
    }
   ],
   "source": [
    "print(ddf_prescriptions_mimiciv.head())"
   ]
  },
  {
   "cell_type": "code",
   "execution_count": 12,
   "id": "7110c38c",
   "metadata": {},
   "outputs": [
    {
     "name": "stdout",
     "output_type": "stream",
     "text": [
      "         drug_exposure_start_date\n",
      "0                      2180-05-07\n",
      "1                      2180-05-07\n",
      "2                      2180-05-08\n",
      "3                      2180-05-07\n",
      "4                      2180-05-07\n",
      "...                           ...\n",
      "15416703               2145-11-03\n",
      "15416704               2145-11-04\n",
      "15416705               2145-11-10\n",
      "15416706               2145-11-09\n",
      "15416707               2145-11-09\n",
      "\n",
      "[15416708 rows x 1 columns]\n"
     ]
    }
   ],
   "source": [
    "ddf_prescriptions_mimiciv['year'] = ddf_prescriptions_mimiciv['starttime'].dt.year\n",
    "ddf_prescriptions_mimiciv['month'] = ddf_prescriptions_mimiciv['starttime'].dt.month\n",
    "ddf_prescriptions_mimiciv['day'] = ddf_prescriptions_mimiciv['starttime'].dt.day\n",
    "\n",
    "ddf_prescriptions_mimiciv['drug_exposure_start_date'] = pd.to_datetime(\n",
    "    ddf_prescriptions_mimiciv[['year', 'month', 'day']],\n",
    "    errors='coerce'\n",
    ")\n",
    "\n",
    "del ddf_prescriptions_mimiciv['year']\n",
    "del ddf_prescriptions_mimiciv['month']\n",
    "del ddf_prescriptions_mimiciv['day']\n",
    "\n",
    "print(ddf_prescriptions_mimiciv[['drug_exposure_start_date']])\n"
   ]
  },
  {
   "cell_type": "code",
   "execution_count": 13,
   "id": "fc41e485",
   "metadata": {},
   "outputs": [
    {
     "name": "stdout",
     "output_type": "stream",
     "text": [
      "         drug_exposure_end_date\n",
      "0                    2180-05-07\n",
      "1                    2180-05-07\n",
      "2                    2180-05-07\n",
      "3                    2180-05-07\n",
      "4                    2180-05-07\n",
      "...                         ...\n",
      "15416703             2145-11-03\n",
      "15416704             2145-11-11\n",
      "15416705             2145-11-11\n",
      "15416706             2145-11-09\n",
      "15416707             2145-11-09\n",
      "\n",
      "[15416708 rows x 1 columns]\n"
     ]
    }
   ],
   "source": [
    "ddf_prescriptions_mimiciv['year'] = ddf_prescriptions_mimiciv['stoptime'].dt.year\n",
    "ddf_prescriptions_mimiciv['month'] = ddf_prescriptions_mimiciv['stoptime'].dt.month\n",
    "ddf_prescriptions_mimiciv['day'] = ddf_prescriptions_mimiciv['stoptime'].dt.day\n",
    "\n",
    "ddf_prescriptions_mimiciv['drug_exposure_end_date'] = pd.to_datetime(\n",
    "    ddf_prescriptions_mimiciv[['year', 'month', 'day']],\n",
    "    errors='coerce'\n",
    ")\n",
    "\n",
    "del ddf_prescriptions_mimiciv['year']\n",
    "del ddf_prescriptions_mimiciv['month']\n",
    "del ddf_prescriptions_mimiciv['day']\n",
    "\n",
    "print(ddf_prescriptions_mimiciv[['drug_exposure_end_date']])"
   ]
  },
  {
   "cell_type": "code",
   "execution_count": 14,
   "id": "0eecba76",
   "metadata": {},
   "outputs": [
    {
     "name": "stdout",
     "output_type": "stream",
     "text": [
      "         verbatim_end_date\n",
      "0                      NaT\n",
      "1                      NaT\n",
      "2                      NaT\n",
      "3                      NaT\n",
      "4                      NaT\n",
      "...                    ...\n",
      "15416703               NaT\n",
      "15416704               NaT\n",
      "15416705               NaT\n",
      "15416706               NaT\n",
      "15416707               NaT\n",
      "\n",
      "[15416708 rows x 1 columns]\n"
     ]
    }
   ],
   "source": [
    "ddf_prescriptions_mimiciv['verbatim_end_date'] = pd.NaT\n",
    "print(ddf_prescriptions_mimiciv[['verbatim_end_date']])"
   ]
  },
  {
   "cell_type": "code",
   "execution_count": 15,
   "id": "6822ce51",
   "metadata": {},
   "outputs": [
    {
     "name": "stdout",
     "output_type": "stream",
     "text": [
      "0           32838\n",
      "1           32838\n",
      "2           32838\n",
      "3           32838\n",
      "4           32838\n",
      "            ...  \n",
      "15416703    32838\n",
      "15416704    32838\n",
      "15416705    32838\n",
      "15416706    32838\n",
      "15416707    32838\n",
      "Name: drug_type_concept_id, Length: 15416708, dtype: int64\n"
     ]
    }
   ],
   "source": [
    "ddf_prescriptions_mimiciv['drug_type_concept_id'] = 32838\n",
    "print(ddf_prescriptions_mimiciv['drug_type_concept_id'])\n"
   ]
  },
  {
   "cell_type": "code",
   "execution_count": 16,
   "id": "4815e852",
   "metadata": {},
   "outputs": [
    {
     "name": "stdout",
     "output_type": "stream",
     "text": [
      "         visit_detail_id\n",
      "0                    NaT\n",
      "1                    NaT\n",
      "2                    NaT\n",
      "3                    NaT\n",
      "4                    NaT\n",
      "...                  ...\n",
      "15416703             NaT\n",
      "15416704             NaT\n",
      "15416705             NaT\n",
      "15416706             NaT\n",
      "15416707             NaT\n",
      "\n",
      "[15416708 rows x 1 columns]\n"
     ]
    }
   ],
   "source": [
    "ddf_prescriptions_mimiciv['visit_detail_id'] = pd.NaT\n",
    "print(ddf_prescriptions_mimiciv[['visit_detail_id']])"
   ]
  },
  {
   "cell_type": "code",
   "execution_count": 17,
   "id": "ecf8116d",
   "metadata": {},
   "outputs": [
    {
     "name": "stdout",
     "output_type": "stream",
     "text": [
      "0           1\n",
      "1           1\n",
      "2           1\n",
      "3           1\n",
      "4           1\n",
      "           ..\n",
      "15416703    1\n",
      "15416704    1\n",
      "15416705    1\n",
      "15416706    1\n",
      "15416707    1\n",
      "Name: order_provider_id, Length: 15416708, dtype: int64\n"
     ]
    }
   ],
   "source": [
    "provider_id = 1\n",
    "ddf_prescriptions_mimiciv['order_provider_id'] = provider_id\n",
    "print(ddf_prescriptions_mimiciv['order_provider_id'])"
   ]
  },
  {
   "cell_type": "code",
   "execution_count": 18,
   "id": "60ac94a8",
   "metadata": {},
   "outputs": [
    {
     "name": "stdout",
     "output_type": "stream",
     "text": [
      "         stop_reason\n",
      "0                NaT\n",
      "1                NaT\n",
      "2                NaT\n",
      "3                NaT\n",
      "4                NaT\n",
      "...              ...\n",
      "15416703         NaT\n",
      "15416704         NaT\n",
      "15416705         NaT\n",
      "15416706         NaT\n",
      "15416707         NaT\n",
      "\n",
      "[15416708 rows x 1 columns]\n"
     ]
    }
   ],
   "source": [
    "ddf_prescriptions_mimiciv['stop_reason'] = pd.NaT\n",
    "print(ddf_prescriptions_mimiciv[['stop_reason']])"
   ]
  },
  {
   "cell_type": "code",
   "execution_count": 19,
   "id": "12d85cba",
   "metadata": {},
   "outputs": [
    {
     "name": "stdout",
     "output_type": "stream",
     "text": [
      "         refills\n",
      "0            NaT\n",
      "1            NaT\n",
      "2            NaT\n",
      "3            NaT\n",
      "4            NaT\n",
      "...          ...\n",
      "15416703     NaT\n",
      "15416704     NaT\n",
      "15416705     NaT\n",
      "15416706     NaT\n",
      "15416707     NaT\n",
      "\n",
      "[15416708 rows x 1 columns]\n"
     ]
    }
   ],
   "source": [
    "ddf_prescriptions_mimiciv['refills'] = pd.NaT\n",
    "print(ddf_prescriptions_mimiciv[['refills']])"
   ]
  },
  {
   "cell_type": "code",
   "execution_count": 20,
   "id": "fee09d6f",
   "metadata": {},
   "outputs": [
    {
     "name": "stdout",
     "output_type": "stream",
     "text": [
      "         days_supply\n",
      "0                NaT\n",
      "1                NaT\n",
      "2                NaT\n",
      "3                NaT\n",
      "4                NaT\n",
      "...              ...\n",
      "15416703         NaT\n",
      "15416704         NaT\n",
      "15416705         NaT\n",
      "15416706         NaT\n",
      "15416707         NaT\n",
      "\n",
      "[15416708 rows x 1 columns]\n"
     ]
    }
   ],
   "source": [
    "ddf_prescriptions_mimiciv['days_supply'] = pd.NaT\n",
    "print(ddf_prescriptions_mimiciv[['days_supply']])"
   ]
  },
  {
   "cell_type": "code",
   "execution_count": 21,
   "id": "f61baacc",
   "metadata": {},
   "outputs": [
    {
     "name": "stdout",
     "output_type": "stream",
     "text": [
      "         sig\n",
      "0        NaT\n",
      "1        NaT\n",
      "2        NaT\n",
      "3        NaT\n",
      "4        NaT\n",
      "...       ..\n",
      "15416703 NaT\n",
      "15416704 NaT\n",
      "15416705 NaT\n",
      "15416706 NaT\n",
      "15416707 NaT\n",
      "\n",
      "[15416708 rows x 1 columns]\n"
     ]
    }
   ],
   "source": [
    "ddf_prescriptions_mimiciv['sig'] = pd.NaT\n",
    "print(ddf_prescriptions_mimiciv[['sig']])"
   ]
  },
  {
   "cell_type": "code",
   "execution_count": 22,
   "id": "1b3690be",
   "metadata": {},
   "outputs": [
    {
     "name": "stdout",
     "output_type": "stream",
     "text": [
      "         lot_number\n",
      "0               NaT\n",
      "1               NaT\n",
      "2               NaT\n",
      "3               NaT\n",
      "4               NaT\n",
      "...             ...\n",
      "15416703        NaT\n",
      "15416704        NaT\n",
      "15416705        NaT\n",
      "15416706        NaT\n",
      "15416707        NaT\n",
      "\n",
      "[15416708 rows x 1 columns]\n"
     ]
    }
   ],
   "source": [
    "ddf_prescriptions_mimiciv['lot_number'] = pd.NaT\n",
    "print(ddf_prescriptions_mimiciv[['lot_number']])"
   ]
  },
  {
   "cell_type": "code",
   "execution_count": null,
   "id": "341f2865",
   "metadata": {},
   "outputs": [],
   "source": []
  }
 ],
 "metadata": {
  "kernelspec": {
   "display_name": "Python 3 (ipykernel)",
   "language": "python",
   "name": "python3"
  },
  "language_info": {
   "codemirror_mode": {
    "name": "ipython",
    "version": 3
   },
   "file_extension": ".py",
   "mimetype": "text/x-python",
   "name": "python",
   "nbconvert_exporter": "python",
   "pygments_lexer": "ipython3",
   "version": "3.9.7"
  }
 },
 "nbformat": 4,
 "nbformat_minor": 5
}
