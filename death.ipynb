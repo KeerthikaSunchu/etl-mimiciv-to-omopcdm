{
 "cells": [
  {
   "cell_type": "code",
   "execution_count": 1,
   "id": "dbcc61d4",
   "metadata": {},
   "outputs": [
    {
     "name": "stdout",
     "output_type": "stream",
     "text": [
      "<_mysql.connection open to '127.0.0.1' at 0x55a650888c10>\n"
     ]
    }
   ],
   "source": [
    "import MySQLdb\n",
    "\n",
    "myvars = {}\n",
    "with open(\"ksunchu-password\") as myfile:\n",
    " for line in myfile:\n",
    "    name, var = line.partition(\"=\")[::2]\n",
    "    myvars[name.strip()] = var.strip()\n",
    "\n",
    "conn = MySQLdb.connect(host=\"127.0.0.1\", user=myvars['username'], passwd=myvars['password'], db='omop')\n",
    "\n",
    "omopcursor = conn.cursor()\n",
    "print(conn)"
   ]
  },
  {
   "cell_type": "code",
   "execution_count": 2,
   "id": "22da212a",
   "metadata": {},
   "outputs": [],
   "source": [
    "import pandas as pd\n",
    "import numpy as np\n",
    "import dask.dataframe as dd\n",
    "from dask.distributed import Client"
   ]
  },
  {
   "cell_type": "code",
   "execution_count": 4,
   "id": "1487aa04",
   "metadata": {},
   "outputs": [
    {
     "name": "stderr",
     "output_type": "stream",
     "text": [
      "/tmp/ipykernel_131227/2509977731.py:1: UserWarning: pandas only supports SQLAlchemy connectable (engine/connection) or database string URI or sqlite3 DBAPI2 connection. Other DBAPI2 objects are not tested. Please consider using SQLAlchemy.\n",
      "  df_DEATH = pd.read_sql('select * from `DEATH`', con=conn)\n"
     ]
    }
   ],
   "source": [
    "df_DEATH = pd.read_sql('select * from `DEATH`', con=conn)"
   ]
  },
  {
   "cell_type": "code",
   "execution_count": 5,
   "id": "53dffa91",
   "metadata": {},
   "outputs": [
    {
     "name": "stdout",
     "output_type": "stream",
     "text": [
      "Length - DEATH:  0\n"
     ]
    }
   ],
   "source": [
    "print('Length - DEATH: ', len(df_DEATH))"
   ]
  },
  {
   "cell_type": "code",
   "execution_count": 6,
   "id": "d09cc519",
   "metadata": {},
   "outputs": [
    {
     "name": "stdout",
     "output_type": "stream",
     "text": [
      "Empty DataFrame\n",
      "Columns: [person_id, death_date, death_datetime, death_type_concept_id, cause_concept_id, cause_source_value, cause_source_concept_id]\n",
      "Index: []\n"
     ]
    }
   ],
   "source": [
    "print(df_DEATH.head())"
   ]
  },
  {
   "cell_type": "code",
   "execution_count": 7,
   "id": "d63c238e",
   "metadata": {},
   "outputs": [
    {
     "name": "stdout",
     "output_type": "stream",
     "text": [
      "<_mysql.connection open to '127.0.0.1' at 0x55a650888c10>\n"
     ]
    }
   ],
   "source": [
    "import MySQLdb\n",
    "\n",
    "myvars = {}\n",
    "with open(\"ksunchu-password\") as myfile:\n",
    " for line in myfile:\n",
    "    name, var = line.partition(\"=\")[::2]\n",
    "    myvars[name.strip()] = var.strip()\n",
    "\n",
    "mimicivconn = MySQLdb.connect(host=\"127.0.0.1\", user=myvars['username'], passwd=myvars['password'], db='mimiciv')\n",
    "\n",
    "mimicivcursor = conn.cursor()\n",
    "print(conn)"
   ]
  },
  {
   "cell_type": "code",
   "execution_count": 26,
   "id": "509401a8",
   "metadata": {},
   "outputs": [
    {
     "name": "stderr",
     "output_type": "stream",
     "text": [
      "/tmp/ipykernel_131227/96515154.py:1: UserWarning: pandas only supports SQLAlchemy connectable (engine/connection) or database string URI or sqlite3 DBAPI2 connection. Other DBAPI2 objects are not tested. Please consider using SQLAlchemy.\n",
      "  df_admissions_mimiciv = pd.read_sql('select subject_id, deathtime, hospital_expire_flag  from admissions', con=mimicivconn)\n"
     ]
    },
    {
     "name": "stdout",
     "output_type": "stream",
     "text": [
      "   subject_id deathtime  hospital_expire_flag\n",
      "0    10467237       NaT                     0\n",
      "1    16925328       NaT                     0\n",
      "2    19430048       NaT                     0\n",
      "3    18910522       NaT                     0\n",
      "4    11146739       NaT                     0\n"
     ]
    }
   ],
   "source": [
    "df_admissions_mimiciv = pd.read_sql('select subject_id, deathtime, hospital_expire_flag  from admissions', con=mimicivconn)\n",
    "print(df_admissions_mimiciv.head()) "
   ]
  },
  {
   "cell_type": "code",
   "execution_count": 27,
   "id": "1e5046cd",
   "metadata": {},
   "outputs": [],
   "source": [
    "ddf_admissions_mimiciv = dd.from_pandas(df_admissions_mimiciv).compute()"
   ]
  },
  {
   "cell_type": "code",
   "execution_count": 28,
   "id": "cd2e5fb6",
   "metadata": {},
   "outputs": [],
   "source": [
    "df_admissions_mimiciv = ''"
   ]
  },
  {
   "cell_type": "code",
   "execution_count": 29,
   "id": "f33af8fc",
   "metadata": {},
   "outputs": [
    {
     "name": "stdout",
     "output_type": "stream",
     "text": [
      "        subject_id deathtime  hospital_expire_flag\n",
      "0         10467237       NaT                     0\n",
      "1         16925328       NaT                     0\n",
      "2         19430048       NaT                     0\n",
      "3         18910522       NaT                     0\n",
      "4         11146739       NaT                     0\n",
      "...            ...       ...                   ...\n",
      "431226    10382924       NaT                     0\n",
      "431227    11326722       NaT                     0\n",
      "431228    12133002       NaT                     0\n",
      "431229    16572164       NaT                     0\n",
      "431230    16549335       NaT                     0\n",
      "\n",
      "[431231 rows x 3 columns]\n"
     ]
    }
   ],
   "source": [
    "print(ddf_admissions_mimiciv)"
   ]
  },
  {
   "cell_type": "code",
   "execution_count": 30,
   "id": "fe71b381",
   "metadata": {},
   "outputs": [
    {
     "name": "stdout",
     "output_type": "stream",
     "text": [
      "   subject_id  anchor_year anchor_year_group\n",
      "0    10000032         2180       2014 - 2016\n",
      "1    10000048         2126       2008 - 2010\n",
      "2    10000068         2160       2008 - 2010\n",
      "3    10000084         2160       2017 - 2019\n",
      "4    10000102         2136       2008 - 2010\n"
     ]
    },
    {
     "name": "stderr",
     "output_type": "stream",
     "text": [
      "/tmp/ipykernel_131227/587641350.py:1: UserWarning: pandas only supports SQLAlchemy connectable (engine/connection) or database string URI or sqlite3 DBAPI2 connection. Other DBAPI2 objects are not tested. Please consider using SQLAlchemy.\n",
      "  df_patients_mimiciv = pd.read_sql('select subject_id, anchor_year, anchor_year_group from patients', con=mimicivconn)\n"
     ]
    }
   ],
   "source": [
    "df_patients_mimiciv = pd.read_sql('select subject_id, anchor_year, anchor_year_group from patients', con=mimicivconn)\n",
    "print(df_patients_mimiciv.head()) "
   ]
  },
  {
   "cell_type": "code",
   "execution_count": 31,
   "id": "9d940f0a",
   "metadata": {},
   "outputs": [],
   "source": [
    "ddf_patients_mimiciv = dd.from_pandas(df_patients_mimiciv).compute()"
   ]
  },
  {
   "cell_type": "code",
   "execution_count": 32,
   "id": "6be8e700",
   "metadata": {},
   "outputs": [],
   "source": [
    "df_patients_mimiciv = ''"
   ]
  },
  {
   "cell_type": "code",
   "execution_count": 33,
   "id": "6e9eec56",
   "metadata": {},
   "outputs": [
    {
     "name": "stdout",
     "output_type": "stream",
     "text": [
      "   subject_id  anchor_year anchor_year_group\n",
      "0    10000032         2180       2014 - 2016\n",
      "1    10000048         2126       2008 - 2010\n",
      "2    10000068         2160       2008 - 2010\n",
      "3    10000084         2160       2017 - 2019\n",
      "4    10000102         2136       2008 - 2010\n"
     ]
    }
   ],
   "source": [
    "print(ddf_patients_mimiciv.head())"
   ]
  },
  {
   "cell_type": "code",
   "execution_count": 34,
   "id": "0a5e2fd6",
   "metadata": {},
   "outputs": [
    {
     "name": "stdout",
     "output_type": "stream",
     "text": [
      "        subject_id deathtime  hospital_expire_flag  anchor_year  \\\n",
      "0         10467237       NaT                     0         2159   \n",
      "1         16925328       NaT                     0         2143   \n",
      "2         19430048       NaT                     0         2172   \n",
      "3         18910522       NaT                     0         2142   \n",
      "4         11146739       NaT                     0         2188   \n",
      "...            ...       ...                   ...          ...   \n",
      "431226    10382924       NaT                     0         2170   \n",
      "431227    11326722       NaT                     0         2160   \n",
      "431228    12133002       NaT                     0         2166   \n",
      "431229    16572164       NaT                     0         2180   \n",
      "431230    16549335       NaT                     0         2164   \n",
      "\n",
      "       anchor_year_group  \n",
      "0            2011 - 2013  \n",
      "1            2008 - 2010  \n",
      "2            2017 - 2019  \n",
      "3            2011 - 2013  \n",
      "4            2011 - 2013  \n",
      "...                  ...  \n",
      "431226       2008 - 2010  \n",
      "431227       2008 - 2010  \n",
      "431228       2008 - 2010  \n",
      "431229       2014 - 2016  \n",
      "431230       2017 - 2019  \n",
      "\n",
      "[431231 rows x 5 columns]\n"
     ]
    }
   ],
   "source": [
    "ddf_adm_pat_merged = ddf_admissions_mimiciv.merge(ddf_patients_mimiciv, how='inner', on='subject_id')\n",
    "print(ddf_adm_pat_merged)"
   ]
  },
  {
   "cell_type": "code",
   "execution_count": 35,
   "id": "a2930963",
   "metadata": {},
   "outputs": [
    {
     "name": "stdout",
     "output_type": "stream",
     "text": [
      "        median_anchor_year  diff_year\n",
      "0                     2012        147\n",
      "1                     2009        134\n",
      "2                     2018        154\n",
      "3                     2012        130\n",
      "4                     2012        176\n",
      "...                    ...        ...\n",
      "431226                2009        161\n",
      "431227                2009        151\n",
      "431228                2009        157\n",
      "431229                2015        165\n",
      "431230                2018        146\n",
      "\n",
      "[431231 rows x 2 columns]\n"
     ]
    }
   ],
   "source": [
    "ddf_adm_pat_merged['median_anchor_year'] = ddf_adm_pat_merged['anchor_year_group'].str.split('-').apply(lambda x: int((int(x[0]) + int(x[1])) / 2))\n",
    "ddf_adm_pat_merged['diff_year'] = ddf_adm_pat_merged['anchor_year'] - ddf_adm_pat_merged['median_anchor_year']\n",
    "print(ddf_adm_pat_merged[['median_anchor_year', 'diff_year']])"
   ]
  },
  {
   "cell_type": "code",
   "execution_count": 56,
   "id": "0c888591",
   "metadata": {},
   "outputs": [
    {
     "name": "stdout",
     "output_type": "stream",
     "text": [
      "            deathtime  diff_year  year_of_death  month_of_death  day_of_death  \\\n",
      "0                 NaT        147            NaN             NaN           NaN   \n",
      "1                 NaT        134            NaN             NaN           NaN   \n",
      "2                 NaT        154            NaN             NaN           NaN   \n",
      "3                 NaT        130            NaN             NaN           NaN   \n",
      "4                 NaT        176            NaN             NaN           NaN   \n",
      "5                 NaT        116            NaN             NaN           NaN   \n",
      "6 2150-03-03 09:21:00        133         2017.0             3.0           3.0   \n",
      "7                 NaT        126            NaN             NaN           NaN   \n",
      "8                 NaT        103            NaN             NaN           NaN   \n",
      "9                 NaT        187            NaN             NaN           NaN   \n",
      "\n",
      "  death_date       death_datetime  \n",
      "0        NaT                 None  \n",
      "1        NaT                 None  \n",
      "2        NaT                 None  \n",
      "3        NaT                 None  \n",
      "4        NaT                 None  \n",
      "5        NaT                 None  \n",
      "6 2017-03-03  2017-03-03 09:21:00  \n",
      "7        NaT                 None  \n",
      "8        NaT                 None  \n",
      "9        NaT                 None  \n"
     ]
    }
   ],
   "source": [
    "ddf_adm_pat_merged['month_of_death'] = ddf_adm_pat_merged['deathtime'].dt.month\n",
    "ddf_adm_pat_merged['day_of_death'] = ddf_adm_pat_merged['deathtime'].dt.day\n",
    "\n",
    "mask = (ddf_adm_pat_merged['hospital_expire_flag'] == 1) & (ddf_adm_pat_merged['deathtime'].notnull())\n",
    "\n",
    "ddf_adm_pat_merged['year_of_death'] = ddf_adm_pat_merged['deathtime'].dt.year\n",
    "ddf_adm_pat_merged['year_of_death'] = ddf_adm_pat_merged['deathtime'].dt.year - ddf_adm_pat_merged['diff_year']\n",
    "ddf_adm_pat_merged.loc[mask, 'year_of_death'] = ddf_adm_pat_merged['year_of_death']\n",
    "\n",
    "def calculate_final_day(row):\n",
    "    year = row['year_of_death']\n",
    "    month = row['month_of_death']\n",
    "    if pd.isnull(year) or pd.isnull(month):\n",
    "        return None\n",
    "    else:\n",
    "        return min(row['day_of_death'], pd.Period(year=year, month=month, freq='M').days_in_month)\n",
    "\n",
    "ddf_adm_pat_merged['day_of_death_final'] = ddf_adm_pat_merged.apply(calculate_final_day, axis=1)\n",
    "\n",
    "ddf_adm_pat_merged['death_date'] = pd.to_datetime({\n",
    "    'year': ddf_adm_pat_merged['year_of_death'],\n",
    "    'month': ddf_adm_pat_merged['month_of_death'],\n",
    "    'day': ddf_adm_pat_merged['day_of_death_final']\n",
    "})\n",
    "\n",
    "ddf_adm_pat_merged['time_of_death'] = ddf_adm_pat_merged['deathtime'].dt.time\n",
    "ddf_adm_pat_merged['time_of_death_str'] = ddf_adm_pat_merged['deathtime'].dt.strftime('%H:%M:%S') if 'deathtime' in ddf_adm_pat_merged.columns else ddf_adm_pat_merged['time_of_death']\n",
    "ddf_adm_pat_merged['death_datetime'] = pd.NaT\n",
    "ddf_adm_pat_merged['death_datetime'] = ddf_adm_pat_merged['death_datetime'].apply(lambda x: None if pd.isnull(x) else x)\n",
    "valid_rows = ddf_adm_pat_merged.dropna(subset=['year_of_death', 'month_of_death', 'day_of_death', 'time_of_death_str'])\n",
    "if not valid_rows.empty:\n",
    "    ddf_adm_pat_merged.loc[valid_rows.index, 'death_datetime'] = pd.to_datetime(\n",
    "        valid_rows[['year_of_death', 'month_of_death', 'day_of_death']].astype(int).astype(str).agg('-'.join, axis=1)\n",
    "        + ' ' +\n",
    "        valid_rows['time_of_death_str'],\n",
    "        format='%Y-%m-%d %H:%M:%S',\n",
    "        errors='coerce'\n",
    ")\n",
    "    \n",
    "print(ddf_adm_pat_merged[['deathtime', 'diff_year', 'year_of_death', 'month_of_death', 'day_of_death', 'death_date', 'death_datetime']].iloc[:10])\n"
   ]
  },
  {
   "cell_type": "code",
   "execution_count": 57,
   "id": "1caa7ddd",
   "metadata": {},
   "outputs": [
    {
     "name": "stdout",
     "output_type": "stream",
     "text": [
      "        death_type_concept_id\n",
      "0                       32817\n",
      "1                       32817\n",
      "2                       32817\n",
      "3                       32817\n",
      "4                       32817\n",
      "...                       ...\n",
      "431226                  32817\n",
      "431227                  32817\n",
      "431228                  32817\n",
      "431229                  32817\n",
      "431230                  32817\n",
      "\n",
      "[431231 rows x 1 columns]\n"
     ]
    }
   ],
   "source": [
    "ddf_adm_pat_merged['death_type_concept_id'] = 32817\n",
    "print(ddf_adm_pat_merged[['death_type_concept_id']])"
   ]
  },
  {
   "cell_type": "code",
   "execution_count": 62,
   "id": "a15885d7",
   "metadata": {},
   "outputs": [
    {
     "name": "stdout",
     "output_type": "stream",
     "text": [
      "       cause_concept_id cause_source_value cause_source_concept_id\n",
      "0                  None               None                    None\n",
      "1                  None               None                    None\n",
      "2                  None               None                    None\n",
      "3                  None               None                    None\n",
      "4                  None               None                    None\n",
      "...                 ...                ...                     ...\n",
      "431226             None               None                    None\n",
      "431227             None               None                    None\n",
      "431228             None               None                    None\n",
      "431229             None               None                    None\n",
      "431230             None               None                    None\n",
      "\n",
      "[431231 rows x 3 columns]\n"
     ]
    }
   ],
   "source": [
    "ddf_adm_pat_merged['cause_concept_id'] = None\n",
    "ddf_adm_pat_merged['cause_source_value'] = None\n",
    "ddf_adm_pat_merged['cause_source_concept_id'] = None\n",
    "print(ddf_adm_pat_merged[['cause_concept_id', 'cause_source_value', 'cause_source_concept_id']])"
   ]
  },
  {
   "cell_type": "code",
   "execution_count": 67,
   "id": "5d03ad9a",
   "metadata": {},
   "outputs": [
    {
     "data": {
      "text/html": [
       "<div>\n",
       "<style scoped>\n",
       "    .dataframe tbody tr th:only-of-type {\n",
       "        vertical-align: middle;\n",
       "    }\n",
       "\n",
       "    .dataframe tbody tr th {\n",
       "        vertical-align: top;\n",
       "    }\n",
       "\n",
       "    .dataframe thead th {\n",
       "        text-align: right;\n",
       "    }\n",
       "</style>\n",
       "<table border=\"1\" class=\"dataframe\">\n",
       "  <thead>\n",
       "    <tr style=\"text-align: right;\">\n",
       "      <th></th>\n",
       "      <th>subject_id</th>\n",
       "      <th>deathtime</th>\n",
       "      <th>hospital_expire_flag</th>\n",
       "      <th>anchor_year</th>\n",
       "      <th>anchor_year_group</th>\n",
       "      <th>median_anchor_year</th>\n",
       "      <th>diff_year</th>\n",
       "      <th>month_of_death</th>\n",
       "      <th>day_of_death</th>\n",
       "      <th>time_of_death</th>\n",
       "      <th>year_of_death</th>\n",
       "      <th>time_of_death_str</th>\n",
       "      <th>death_datetime</th>\n",
       "      <th>death_year</th>\n",
       "      <th>day_of_death_final</th>\n",
       "      <th>death_date</th>\n",
       "      <th>death_type_concept_id</th>\n",
       "      <th>cause_concept_id</th>\n",
       "      <th>cause_source_value</th>\n",
       "      <th>cause_source_concept_id</th>\n",
       "    </tr>\n",
       "  </thead>\n",
       "  <tbody>\n",
       "    <tr>\n",
       "      <th>0</th>\n",
       "      <td>10467237</td>\n",
       "      <td>NaT</td>\n",
       "      <td>0</td>\n",
       "      <td>2159</td>\n",
       "      <td>2011 - 2013</td>\n",
       "      <td>2012</td>\n",
       "      <td>147</td>\n",
       "      <td>NaN</td>\n",
       "      <td>NaN</td>\n",
       "      <td>NaT</td>\n",
       "      <td>NaN</td>\n",
       "      <td>NaN</td>\n",
       "      <td>None</td>\n",
       "      <td>NaN</td>\n",
       "      <td>NaN</td>\n",
       "      <td>NaT</td>\n",
       "      <td>32817</td>\n",
       "      <td>None</td>\n",
       "      <td>None</td>\n",
       "      <td>None</td>\n",
       "    </tr>\n",
       "    <tr>\n",
       "      <th>1</th>\n",
       "      <td>16925328</td>\n",
       "      <td>NaT</td>\n",
       "      <td>0</td>\n",
       "      <td>2143</td>\n",
       "      <td>2008 - 2010</td>\n",
       "      <td>2009</td>\n",
       "      <td>134</td>\n",
       "      <td>NaN</td>\n",
       "      <td>NaN</td>\n",
       "      <td>NaT</td>\n",
       "      <td>NaN</td>\n",
       "      <td>NaN</td>\n",
       "      <td>None</td>\n",
       "      <td>NaN</td>\n",
       "      <td>NaN</td>\n",
       "      <td>NaT</td>\n",
       "      <td>32817</td>\n",
       "      <td>None</td>\n",
       "      <td>None</td>\n",
       "      <td>None</td>\n",
       "    </tr>\n",
       "    <tr>\n",
       "      <th>2</th>\n",
       "      <td>19430048</td>\n",
       "      <td>NaT</td>\n",
       "      <td>0</td>\n",
       "      <td>2172</td>\n",
       "      <td>2017 - 2019</td>\n",
       "      <td>2018</td>\n",
       "      <td>154</td>\n",
       "      <td>NaN</td>\n",
       "      <td>NaN</td>\n",
       "      <td>NaT</td>\n",
       "      <td>NaN</td>\n",
       "      <td>NaN</td>\n",
       "      <td>None</td>\n",
       "      <td>NaN</td>\n",
       "      <td>NaN</td>\n",
       "      <td>NaT</td>\n",
       "      <td>32817</td>\n",
       "      <td>None</td>\n",
       "      <td>None</td>\n",
       "      <td>None</td>\n",
       "    </tr>\n",
       "    <tr>\n",
       "      <th>3</th>\n",
       "      <td>18910522</td>\n",
       "      <td>NaT</td>\n",
       "      <td>0</td>\n",
       "      <td>2142</td>\n",
       "      <td>2011 - 2013</td>\n",
       "      <td>2012</td>\n",
       "      <td>130</td>\n",
       "      <td>NaN</td>\n",
       "      <td>NaN</td>\n",
       "      <td>NaT</td>\n",
       "      <td>NaN</td>\n",
       "      <td>NaN</td>\n",
       "      <td>None</td>\n",
       "      <td>NaN</td>\n",
       "      <td>NaN</td>\n",
       "      <td>NaT</td>\n",
       "      <td>32817</td>\n",
       "      <td>None</td>\n",
       "      <td>None</td>\n",
       "      <td>None</td>\n",
       "    </tr>\n",
       "    <tr>\n",
       "      <th>4</th>\n",
       "      <td>11146739</td>\n",
       "      <td>NaT</td>\n",
       "      <td>0</td>\n",
       "      <td>2188</td>\n",
       "      <td>2011 - 2013</td>\n",
       "      <td>2012</td>\n",
       "      <td>176</td>\n",
       "      <td>NaN</td>\n",
       "      <td>NaN</td>\n",
       "      <td>NaT</td>\n",
       "      <td>NaN</td>\n",
       "      <td>NaN</td>\n",
       "      <td>None</td>\n",
       "      <td>NaN</td>\n",
       "      <td>NaN</td>\n",
       "      <td>NaT</td>\n",
       "      <td>32817</td>\n",
       "      <td>None</td>\n",
       "      <td>None</td>\n",
       "      <td>None</td>\n",
       "    </tr>\n",
       "    <tr>\n",
       "      <th>...</th>\n",
       "      <td>...</td>\n",
       "      <td>...</td>\n",
       "      <td>...</td>\n",
       "      <td>...</td>\n",
       "      <td>...</td>\n",
       "      <td>...</td>\n",
       "      <td>...</td>\n",
       "      <td>...</td>\n",
       "      <td>...</td>\n",
       "      <td>...</td>\n",
       "      <td>...</td>\n",
       "      <td>...</td>\n",
       "      <td>...</td>\n",
       "      <td>...</td>\n",
       "      <td>...</td>\n",
       "      <td>...</td>\n",
       "      <td>...</td>\n",
       "      <td>...</td>\n",
       "      <td>...</td>\n",
       "      <td>...</td>\n",
       "    </tr>\n",
       "    <tr>\n",
       "      <th>431226</th>\n",
       "      <td>10382924</td>\n",
       "      <td>NaT</td>\n",
       "      <td>0</td>\n",
       "      <td>2170</td>\n",
       "      <td>2008 - 2010</td>\n",
       "      <td>2009</td>\n",
       "      <td>161</td>\n",
       "      <td>NaN</td>\n",
       "      <td>NaN</td>\n",
       "      <td>NaT</td>\n",
       "      <td>NaN</td>\n",
       "      <td>NaN</td>\n",
       "      <td>None</td>\n",
       "      <td>NaN</td>\n",
       "      <td>NaN</td>\n",
       "      <td>NaT</td>\n",
       "      <td>32817</td>\n",
       "      <td>None</td>\n",
       "      <td>None</td>\n",
       "      <td>None</td>\n",
       "    </tr>\n",
       "    <tr>\n",
       "      <th>431227</th>\n",
       "      <td>11326722</td>\n",
       "      <td>NaT</td>\n",
       "      <td>0</td>\n",
       "      <td>2160</td>\n",
       "      <td>2008 - 2010</td>\n",
       "      <td>2009</td>\n",
       "      <td>151</td>\n",
       "      <td>NaN</td>\n",
       "      <td>NaN</td>\n",
       "      <td>NaT</td>\n",
       "      <td>NaN</td>\n",
       "      <td>NaN</td>\n",
       "      <td>None</td>\n",
       "      <td>NaN</td>\n",
       "      <td>NaN</td>\n",
       "      <td>NaT</td>\n",
       "      <td>32817</td>\n",
       "      <td>None</td>\n",
       "      <td>None</td>\n",
       "      <td>None</td>\n",
       "    </tr>\n",
       "    <tr>\n",
       "      <th>431228</th>\n",
       "      <td>12133002</td>\n",
       "      <td>NaT</td>\n",
       "      <td>0</td>\n",
       "      <td>2166</td>\n",
       "      <td>2008 - 2010</td>\n",
       "      <td>2009</td>\n",
       "      <td>157</td>\n",
       "      <td>NaN</td>\n",
       "      <td>NaN</td>\n",
       "      <td>NaT</td>\n",
       "      <td>NaN</td>\n",
       "      <td>NaN</td>\n",
       "      <td>None</td>\n",
       "      <td>NaN</td>\n",
       "      <td>NaN</td>\n",
       "      <td>NaT</td>\n",
       "      <td>32817</td>\n",
       "      <td>None</td>\n",
       "      <td>None</td>\n",
       "      <td>None</td>\n",
       "    </tr>\n",
       "    <tr>\n",
       "      <th>431229</th>\n",
       "      <td>16572164</td>\n",
       "      <td>NaT</td>\n",
       "      <td>0</td>\n",
       "      <td>2180</td>\n",
       "      <td>2014 - 2016</td>\n",
       "      <td>2015</td>\n",
       "      <td>165</td>\n",
       "      <td>NaN</td>\n",
       "      <td>NaN</td>\n",
       "      <td>NaT</td>\n",
       "      <td>NaN</td>\n",
       "      <td>NaN</td>\n",
       "      <td>None</td>\n",
       "      <td>NaN</td>\n",
       "      <td>NaN</td>\n",
       "      <td>NaT</td>\n",
       "      <td>32817</td>\n",
       "      <td>None</td>\n",
       "      <td>None</td>\n",
       "      <td>None</td>\n",
       "    </tr>\n",
       "    <tr>\n",
       "      <th>431230</th>\n",
       "      <td>16549335</td>\n",
       "      <td>NaT</td>\n",
       "      <td>0</td>\n",
       "      <td>2164</td>\n",
       "      <td>2017 - 2019</td>\n",
       "      <td>2018</td>\n",
       "      <td>146</td>\n",
       "      <td>NaN</td>\n",
       "      <td>NaN</td>\n",
       "      <td>NaT</td>\n",
       "      <td>NaN</td>\n",
       "      <td>NaN</td>\n",
       "      <td>None</td>\n",
       "      <td>NaN</td>\n",
       "      <td>NaN</td>\n",
       "      <td>NaT</td>\n",
       "      <td>32817</td>\n",
       "      <td>None</td>\n",
       "      <td>None</td>\n",
       "      <td>None</td>\n",
       "    </tr>\n",
       "  </tbody>\n",
       "</table>\n",
       "<p>431231 rows × 20 columns</p>\n",
       "</div>"
      ],
      "text/plain": [
       "        subject_id deathtime  hospital_expire_flag  anchor_year  \\\n",
       "0         10467237       NaT                     0         2159   \n",
       "1         16925328       NaT                     0         2143   \n",
       "2         19430048       NaT                     0         2172   \n",
       "3         18910522       NaT                     0         2142   \n",
       "4         11146739       NaT                     0         2188   \n",
       "...            ...       ...                   ...          ...   \n",
       "431226    10382924       NaT                     0         2170   \n",
       "431227    11326722       NaT                     0         2160   \n",
       "431228    12133002       NaT                     0         2166   \n",
       "431229    16572164       NaT                     0         2180   \n",
       "431230    16549335       NaT                     0         2164   \n",
       "\n",
       "       anchor_year_group  median_anchor_year  diff_year  month_of_death  \\\n",
       "0            2011 - 2013                2012        147             NaN   \n",
       "1            2008 - 2010                2009        134             NaN   \n",
       "2            2017 - 2019                2018        154             NaN   \n",
       "3            2011 - 2013                2012        130             NaN   \n",
       "4            2011 - 2013                2012        176             NaN   \n",
       "...                  ...                 ...        ...             ...   \n",
       "431226       2008 - 2010                2009        161             NaN   \n",
       "431227       2008 - 2010                2009        151             NaN   \n",
       "431228       2008 - 2010                2009        157             NaN   \n",
       "431229       2014 - 2016                2015        165             NaN   \n",
       "431230       2017 - 2019                2018        146             NaN   \n",
       "\n",
       "        day_of_death time_of_death  year_of_death time_of_death_str  \\\n",
       "0                NaN           NaT            NaN               NaN   \n",
       "1                NaN           NaT            NaN               NaN   \n",
       "2                NaN           NaT            NaN               NaN   \n",
       "3                NaN           NaT            NaN               NaN   \n",
       "4                NaN           NaT            NaN               NaN   \n",
       "...              ...           ...            ...               ...   \n",
       "431226           NaN           NaT            NaN               NaN   \n",
       "431227           NaN           NaT            NaN               NaN   \n",
       "431228           NaN           NaT            NaN               NaN   \n",
       "431229           NaN           NaT            NaN               NaN   \n",
       "431230           NaN           NaT            NaN               NaN   \n",
       "\n",
       "       death_datetime  death_year  day_of_death_final death_date  \\\n",
       "0                None         NaN                 NaN        NaT   \n",
       "1                None         NaN                 NaN        NaT   \n",
       "2                None         NaN                 NaN        NaT   \n",
       "3                None         NaN                 NaN        NaT   \n",
       "4                None         NaN                 NaN        NaT   \n",
       "...               ...         ...                 ...        ...   \n",
       "431226           None         NaN                 NaN        NaT   \n",
       "431227           None         NaN                 NaN        NaT   \n",
       "431228           None         NaN                 NaN        NaT   \n",
       "431229           None         NaN                 NaN        NaT   \n",
       "431230           None         NaN                 NaN        NaT   \n",
       "\n",
       "        death_type_concept_id cause_concept_id cause_source_value  \\\n",
       "0                       32817             None               None   \n",
       "1                       32817             None               None   \n",
       "2                       32817             None               None   \n",
       "3                       32817             None               None   \n",
       "4                       32817             None               None   \n",
       "...                       ...              ...                ...   \n",
       "431226                  32817             None               None   \n",
       "431227                  32817             None               None   \n",
       "431228                  32817             None               None   \n",
       "431229                  32817             None               None   \n",
       "431230                  32817             None               None   \n",
       "\n",
       "       cause_source_concept_id  \n",
       "0                         None  \n",
       "1                         None  \n",
       "2                         None  \n",
       "3                         None  \n",
       "4                         None  \n",
       "...                        ...  \n",
       "431226                    None  \n",
       "431227                    None  \n",
       "431228                    None  \n",
       "431229                    None  \n",
       "431230                    None  \n",
       "\n",
       "[431231 rows x 20 columns]"
      ]
     },
     "execution_count": 67,
     "metadata": {},
     "output_type": "execute_result"
    }
   ],
   "source": [
    "ddf_adm_pat_merged_copy =  ddf_adm_pat_merged.copy()\n",
    "ddf_adm_pat_merged_copy"
   ]
  },
  {
   "cell_type": "code",
   "execution_count": 68,
   "id": "09629452",
   "metadata": {},
   "outputs": [
    {
     "name": "stdout",
     "output_type": "stream",
     "text": [
      "Requirement already satisfied: pymysql in ./.local/lib/python3.9/site-packages (1.1.0)\n",
      "<_mysql.connection open to '127.0.0.1' at 0x55a65360cb50>\n"
     ]
    }
   ],
   "source": [
    "!pip install --user pymysql\n",
    "import pymysql\n",
    "import MySQLdb\n",
    "\n",
    "myvars = {}\n",
    "with open(\"ksunchu-password\") as myfile:\n",
    " for line in myfile:\n",
    "    name, var = line.partition(\"=\")[::2]\n",
    "    myvars[name.strip()] = var.strip()\n",
    "\n",
    "conn = MySQLdb.connect(host=\"127.0.0.1\", user=myvars['username'], passwd=myvars['password'], db='omop')\n",
    "\n",
    "omopcursor = conn.cursor()\n",
    "print(conn)"
   ]
  },
  {
   "cell_type": "code",
   "execution_count": 71,
   "id": "92b59af6",
   "metadata": {},
   "outputs": [
    {
     "name": "stdout",
     "output_type": "stream",
     "text": [
      "Insertion was successful.\n"
     ]
    }
   ],
   "source": [
    "death_data = ddf_adm_pat_merged_copy[['subject_id', 'death_date', 'death_datetime', 'death_type_concept_id', 'cause_concept_id', 'cause_source_value', 'cause_source_concept_id']]\n",
    "\n",
    "for index, row in death_data.iterrows():\n",
    "    row = row.where(pd.notnull(row), None)\n",
    "    \n",
    "    sql = \"INSERT INTO DEATH (person_id, death_date, death_datetime, death_type_concept_id, cause_concept_id, cause_source_value, cause_source_concept_id) VALUES (%s, %s, %s, %s, %s, %s, %s)\"\n",
    "    \n",
    "    omopcursor.execute(sql, (\n",
    "        row['subject_id'],\n",
    "        row['death_date'],\n",
    "        row['death_datetime'],\n",
    "        row['death_type_concept_id'],\n",
    "        row['cause_concept_id'],\n",
    "        row['cause_source_value'],  # Fixed the missing closing quote\n",
    "        row['cause_source_concept_id'],\n",
    "    ))\n",
    "\n",
    "conn.commit()\n",
    "print(\"Insertion was successful.\")\n"
   ]
  },
  {
   "cell_type": "code",
   "execution_count": null,
   "id": "60223b49",
   "metadata": {},
   "outputs": [],
   "source": []
  }
 ],
 "metadata": {
  "kernelspec": {
   "display_name": "Python 3 (ipykernel)",
   "language": "python",
   "name": "python3"
  },
  "language_info": {
   "codemirror_mode": {
    "name": "ipython",
    "version": 3
   },
   "file_extension": ".py",
   "mimetype": "text/x-python",
   "name": "python",
   "nbconvert_exporter": "python",
   "pygments_lexer": "ipython3",
   "version": "3.9.7"
  }
 },
 "nbformat": 4,
 "nbformat_minor": 5
}
