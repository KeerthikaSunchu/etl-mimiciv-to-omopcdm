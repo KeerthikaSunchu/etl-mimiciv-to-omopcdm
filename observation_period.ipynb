{
 "cells": [
  {
   "cell_type": "code",
   "execution_count": 1,
   "id": "99c346bb",
   "metadata": {},
   "outputs": [],
   "source": [
    "import MySQLdb\n",
    "\n",
    "myvars = {}\n",
    "with open(\"ksunchu-password\") as myfile:\n",
    " for line in myfile:\n",
    "    name, var = line.partition(\"=\")[::2]\n",
    "    myvars[name.strip()] = var.strip()\n",
    "\n",
    "conn = MySQLdb.connect(host=\"127.0.0.1\", user=myvars['username'], passwd=myvars['password'], db='omop')\n",
    "omopcursor = conn.cursor()"
   ]
  },
  {
   "cell_type": "code",
   "execution_count": 2,
   "id": "437f0340",
   "metadata": {},
   "outputs": [],
   "source": [
    "#!pip install \"dask[distributed]\" --upgrade"
   ]
  },
  {
   "cell_type": "code",
   "execution_count": 3,
   "id": "3d38553e",
   "metadata": {},
   "outputs": [],
   "source": [
    "import pandas as pd\n",
    "import numpy as np\n",
    "import dask.dataframe as dd\n",
    "from dask.distributed import Client"
   ]
  },
  {
   "cell_type": "code",
   "execution_count": 4,
   "id": "201b968e",
   "metadata": {},
   "outputs": [
    {
     "name": "stderr",
     "output_type": "stream",
     "text": [
      "/tmp/ipykernel_410915/2976340141.py:1: UserWarning: pandas only supports SQLAlchemy connectable (engine/connection) or database string URI or sqlite3 DBAPI2 connection. Other DBAPI2 objects are not tested. Please consider using SQLAlchemy.\n",
      "  df_OBSERVATION_PERIOD = pd.read_sql('select * from `OBSERVATION_PERIOD`', con=conn)\n"
     ]
    }
   ],
   "source": [
    "df_OBSERVATION_PERIOD = pd.read_sql('select * from `OBSERVATION_PERIOD`', con=conn)"
   ]
  },
  {
   "cell_type": "code",
   "execution_count": 5,
   "id": "869334d0",
   "metadata": {},
   "outputs": [
    {
     "name": "stdout",
     "output_type": "stream",
     "text": [
      "Length - OBSERVATION_PERIOD:  0\n"
     ]
    }
   ],
   "source": [
    "print('Length - OBSERVATION_PERIOD: ', len(df_OBSERVATION_PERIOD))"
   ]
  },
  {
   "cell_type": "code",
   "execution_count": 6,
   "id": "396d46fc",
   "metadata": {},
   "outputs": [
    {
     "name": "stdout",
     "output_type": "stream",
     "text": [
      "Empty DataFrame\n",
      "Columns: [observation_period_id, person_id, observation_period_start_date, observation_period_end_date, period_type_concept_id]\n",
      "Index: []\n"
     ]
    }
   ],
   "source": [
    "print(df_OBSERVATION_PERIOD.head())"
   ]
  },
  {
   "cell_type": "code",
   "execution_count": 7,
   "id": "7fced538",
   "metadata": {},
   "outputs": [],
   "source": [
    "import MySQLdb\n",
    "import pandas as pd\n",
    "\n",
    "myvars = {}\n",
    "with open(\"ksunchu-password\") as myfile:\n",
    " for line in myfile:\n",
    "    name, var = line.partition(\"=\")[::2]\n",
    "    myvars[name.strip()] = var.strip()\n",
    "\n",
    "mimicivconn = MySQLdb.connect(host=\"127.0.0.1\", user=myvars['username'], passwd=myvars['password'], db='mimiciv')\n",
    "mimicivcursor = conn.cursor()"
   ]
  },
  {
   "cell_type": "code",
   "execution_count": 8,
   "id": "ceed00f3",
   "metadata": {},
   "outputs": [
    {
     "name": "stderr",
     "output_type": "stream",
     "text": [
      "/tmp/ipykernel_410915/917330468.py:1: UserWarning: pandas only supports SQLAlchemy connectable (engine/connection) or database string URI or sqlite3 DBAPI2 connection. Other DBAPI2 objects are not tested. Please consider using SQLAlchemy.\n",
      "  df_admissions_mimiciv = pd.read_sql('select subject_id, hadm_id, admittime, dischtime from admissions', con=mimicivconn)\n"
     ]
    }
   ],
   "source": [
    "df_admissions_mimiciv = pd.read_sql('select subject_id, hadm_id, admittime, dischtime from admissions', con=mimicivconn)"
   ]
  },
  {
   "cell_type": "code",
   "execution_count": 9,
   "id": "aae4223c",
   "metadata": {},
   "outputs": [],
   "source": [
    "ddf_admissions_mimiciv = dd.from_pandas(df_admissions_mimiciv).compute()"
   ]
  },
  {
   "cell_type": "code",
   "execution_count": 10,
   "id": "5edd7361",
   "metadata": {},
   "outputs": [],
   "source": [
    "df_admissions_mimiciv = ''"
   ]
  },
  {
   "cell_type": "code",
   "execution_count": 11,
   "id": "36c8743b",
   "metadata": {},
   "outputs": [
    {
     "name": "stdout",
     "output_type": "stream",
     "text": [
      "        subject_id   hadm_id           admittime           dischtime\n",
      "0         10467237  20000019 2159-03-20 21:08:00 2159-03-23 16:54:00\n",
      "1         16925328  20000024 2151-05-25 21:44:00 2151-05-26 18:36:00\n",
      "2         19430048  20000034 2174-05-22 19:13:00 2174-05-24 17:27:00\n",
      "3         18910522  20000041 2143-09-03 07:15:00 2143-09-06 13:50:00\n",
      "4         11146739  20000057 2190-01-15 17:07:00 2190-01-18 16:05:00\n",
      "...            ...       ...                 ...                 ...\n",
      "431226    10382924  29999723 2170-08-09 18:56:00 2170-08-10 18:30:00\n",
      "431227    11326722  29999745 2160-07-05 22:24:00 2160-07-12 12:50:00\n",
      "431228    12133002  29999809 2172-09-24 21:27:00 2172-09-30 17:04:00\n",
      "431229    16572164  29999828 2180-10-27 07:15:00 2180-10-30 17:25:00\n",
      "431230    16549335  29999928 2165-07-28 17:22:00 2165-07-31 11:53:00\n",
      "\n",
      "[431231 rows x 4 columns]\n"
     ]
    }
   ],
   "source": [
    "print(ddf_admissions_mimiciv)"
   ]
  },
  {
   "cell_type": "code",
   "execution_count": 12,
   "id": "260cfdeb",
   "metadata": {},
   "outputs": [
    {
     "name": "stderr",
     "output_type": "stream",
     "text": [
      "/tmp/ipykernel_410915/850515151.py:1: UserWarning: pandas only supports SQLAlchemy connectable (engine/connection) or database string URI or sqlite3 DBAPI2 connection. Other DBAPI2 objects are not tested. Please consider using SQLAlchemy.\n",
      "  df_patients_mimiciv = pd.read_sql('select subject_id, anchor_year, anchor_year_group  from patients', con=mimicivconn)\n"
     ]
    }
   ],
   "source": [
    "df_patients_mimiciv = pd.read_sql('select subject_id, anchor_year, anchor_year_group  from patients', con=mimicivconn)"
   ]
  },
  {
   "cell_type": "code",
   "execution_count": 13,
   "id": "04f30d36",
   "metadata": {},
   "outputs": [],
   "source": [
    "ddf_patients_mimiciv = dd.from_pandas(df_patients_mimiciv).compute()"
   ]
  },
  {
   "cell_type": "code",
   "execution_count": 14,
   "id": "aaf6d53e",
   "metadata": {},
   "outputs": [],
   "source": [
    "df_patients_mimiciv = ''"
   ]
  },
  {
   "cell_type": "code",
   "execution_count": 2,
   "id": "d66bacfd",
   "metadata": {},
   "outputs": [
    {
     "ename": "NameError",
     "evalue": "name 'ddf_patients_mimiciv' is not defined",
     "output_type": "error",
     "traceback": [
      "\u001b[0;31m---------------------------------------------------------------------------\u001b[0m",
      "\u001b[0;31mNameError\u001b[0m                                 Traceback (most recent call last)",
      "Input \u001b[0;32mIn [2]\u001b[0m, in \u001b[0;36m<cell line: 1>\u001b[0;34m()\u001b[0m\n\u001b[0;32m----> 1\u001b[0m \u001b[38;5;28mprint\u001b[39m(\u001b[43mddf_patients_mimiciv\u001b[49m\u001b[38;5;241m.\u001b[39mhead())\n",
      "\u001b[0;31mNameError\u001b[0m: name 'ddf_patients_mimiciv' is not defined"
     ]
    }
   ],
   "source": [
    "print(ddf_patients_mimiciv.head())"
   ]
  },
  {
   "cell_type": "code",
   "execution_count": 16,
   "id": "01c78cbd",
   "metadata": {},
   "outputs": [
    {
     "name": "stdout",
     "output_type": "stream",
     "text": [
      "   subject_id   hadm_id           admittime           dischtime  anchor_year  \\\n",
      "0    10467237  20000019 2159-03-20 21:08:00 2159-03-23 16:54:00         2159   \n",
      "1    16925328  20000024 2151-05-25 21:44:00 2151-05-26 18:36:00         2143   \n",
      "2    19430048  20000034 2174-05-22 19:13:00 2174-05-24 17:27:00         2172   \n",
      "3    18910522  20000041 2143-09-03 07:15:00 2143-09-06 13:50:00         2142   \n",
      "4    11146739  20000057 2190-01-15 17:07:00 2190-01-18 16:05:00         2188   \n",
      "\n",
      "  anchor_year_group  \n",
      "0       2011 - 2013  \n",
      "1       2008 - 2010  \n",
      "2       2017 - 2019  \n",
      "3       2011 - 2013  \n",
      "4       2011 - 2013  \n"
     ]
    }
   ],
   "source": [
    "ddf_adm_pat_merged = ddf_admissions_mimiciv.merge(ddf_patients_mimiciv, how='inner', on='subject_id')\n",
    "print(ddf_adm_pat_merged.head()) "
   ]
  },
  {
   "cell_type": "code",
   "execution_count": 17,
   "id": "e75e5653",
   "metadata": {},
   "outputs": [
    {
     "name": "stdout",
     "output_type": "stream",
     "text": [
      "       observation_period_start_date\n",
      "0                         2012-03-20\n",
      "1                         2017-05-25\n",
      "2                         2020-05-22\n",
      "3                         2013-09-03\n",
      "4                         2014-01-15\n",
      "...                              ...\n",
      "431226                    2009-08-09\n",
      "431227                    2009-07-05\n",
      "431228                    2015-09-24\n",
      "431229                    2015-10-27\n",
      "431230                    2019-07-28\n",
      "\n",
      "[431231 rows x 1 columns]\n"
     ]
    }
   ],
   "source": [
    "ddf_adm_pat_merged['median_anchor_year'] = ddf_adm_pat_merged['anchor_year_group'].str.split('-').apply(lambda x: int((int(x[0]) + int(x[1])) / 2))\n",
    "ddf_adm_pat_merged['admittime_year'] = ddf_adm_pat_merged['admittime'].dt.year\n",
    "ddf_adm_pat_merged['diff_year'] = ddf_adm_pat_merged['anchor_year'] - ddf_adm_pat_merged['median_anchor_year']\n",
    "ddf_adm_pat_merged['year_of_admit'] = ddf_adm_pat_merged['admittime_year'] - ddf_adm_pat_merged['diff_year']\n",
    "ddf_adm_pat_merged['month_of_admit'] = ddf_adm_pat_merged['admittime'].dt.month\n",
    "ddf_adm_pat_merged['day_of_admit'] = ddf_adm_pat_merged['admittime'].dt.day\n",
    "ddf_adm_pat_merged['day_of_admit'] = ddf_adm_pat_merged.apply(\n",
    "    lambda row: min(row['day_of_admit'], pd.Period(year=row['year_of_admit'], month=row['month_of_admit'], freq='M').days_in_month),\n",
    "    axis=1\n",
    ")\n",
    "\n",
    "ddf_adm_pat_merged['observation_period_start_date'] = pd.to_datetime(\n",
    "    {\n",
    "        'year': ddf_adm_pat_merged['year_of_admit'],\n",
    "        'month': ddf_adm_pat_merged['month_of_admit'],\n",
    "        'day': ddf_adm_pat_merged['day_of_admit']\n",
    "    }\n",
    ")\n",
    "\n",
    "print(ddf_adm_pat_merged[['observation_period_start_date']])"
   ]
  },
  {
   "cell_type": "code",
   "execution_count": 18,
   "id": "9af32669",
   "metadata": {},
   "outputs": [
    {
     "name": "stdout",
     "output_type": "stream",
     "text": [
      "       observation_period_end_date\n",
      "0                       2012-03-23\n",
      "1                       2017-05-26\n",
      "2                       2020-05-24\n",
      "3                       2013-09-06\n",
      "4                       2014-01-18\n",
      "...                            ...\n",
      "431226                  2009-08-10\n",
      "431227                  2009-07-12\n",
      "431228                  2015-09-30\n",
      "431229                  2015-10-30\n",
      "431230                  2019-07-31\n",
      "\n",
      "[431231 rows x 1 columns]\n"
     ]
    }
   ],
   "source": [
    "ddf_adm_pat_merged['discharged_year'] = ddf_adm_pat_merged['dischtime'].dt.year\n",
    "ddf_adm_pat_merged['year_of_discharge'] = ddf_adm_pat_merged['discharged_year'] - ddf_adm_pat_merged['diff_year']\n",
    "ddf_adm_pat_merged['month_of_discharge'] = ddf_adm_pat_merged['dischtime'].dt.month\n",
    "ddf_adm_pat_merged['day_of_discharge'] = ddf_adm_pat_merged['dischtime'].dt.day\n",
    "ddf_adm_pat_merged['day_of_discharge'] = ddf_adm_pat_merged.apply(\n",
    "    lambda row: min(row['day_of_discharge'], pd.Period(year=row['year_of_discharge'], month=row['month_of_discharge'], freq='M').days_in_month),\n",
    "    axis=1\n",
    ")\n",
    "ddf_adm_pat_merged['observation_period_end_date'] = pd.to_datetime(\n",
    "    {\n",
    "        'year': ddf_adm_pat_merged['year_of_discharge'],\n",
    "        'month': ddf_adm_pat_merged['month_of_discharge'],\n",
    "        'day': ddf_adm_pat_merged['day_of_discharge']\n",
    "    }\n",
    ")\n",
    "print(ddf_adm_pat_merged[['observation_period_end_date']])"
   ]
  },
  {
   "cell_type": "code",
   "execution_count": 19,
   "id": "971a7898",
   "metadata": {},
   "outputs": [
    {
     "name": "stdout",
     "output_type": "stream",
     "text": [
      "0         32828\n",
      "1         32828\n",
      "2         32828\n",
      "3         32828\n",
      "4         32828\n",
      "          ...  \n",
      "431226    32828\n",
      "431227    32828\n",
      "431228    32828\n",
      "431229    32828\n",
      "431230    32828\n",
      "Name: period_type_concept_id, Length: 431231, dtype: int64\n"
     ]
    }
   ],
   "source": [
    "ddf_adm_pat_merged['period_type_concept_id'] = 32828\n",
    "print(ddf_adm_pat_merged['period_type_concept_id'])"
   ]
  },
  {
   "cell_type": "code",
   "execution_count": 20,
   "id": "845846ea",
   "metadata": {},
   "outputs": [
    {
     "data": {
      "text/html": [
       "<div>\n",
       "<style scoped>\n",
       "    .dataframe tbody tr th:only-of-type {\n",
       "        vertical-align: middle;\n",
       "    }\n",
       "\n",
       "    .dataframe tbody tr th {\n",
       "        vertical-align: top;\n",
       "    }\n",
       "\n",
       "    .dataframe thead th {\n",
       "        text-align: right;\n",
       "    }\n",
       "</style>\n",
       "<table border=\"1\" class=\"dataframe\">\n",
       "  <thead>\n",
       "    <tr style=\"text-align: right;\">\n",
       "      <th></th>\n",
       "      <th>subject_id</th>\n",
       "      <th>hadm_id</th>\n",
       "      <th>admittime</th>\n",
       "      <th>dischtime</th>\n",
       "      <th>anchor_year</th>\n",
       "      <th>anchor_year_group</th>\n",
       "      <th>median_anchor_year</th>\n",
       "      <th>admittime_year</th>\n",
       "      <th>diff_year</th>\n",
       "      <th>year_of_admit</th>\n",
       "      <th>month_of_admit</th>\n",
       "      <th>day_of_admit</th>\n",
       "      <th>observation_period_start_date</th>\n",
       "      <th>discharged_year</th>\n",
       "      <th>year_of_discharge</th>\n",
       "      <th>month_of_discharge</th>\n",
       "      <th>day_of_discharge</th>\n",
       "      <th>observation_period_end_date</th>\n",
       "      <th>period_type_concept_id</th>\n",
       "    </tr>\n",
       "  </thead>\n",
       "  <tbody>\n",
       "    <tr>\n",
       "      <th>0</th>\n",
       "      <td>10467237</td>\n",
       "      <td>20000019</td>\n",
       "      <td>2159-03-20 21:08:00</td>\n",
       "      <td>2159-03-23 16:54:00</td>\n",
       "      <td>2159</td>\n",
       "      <td>2011 - 2013</td>\n",
       "      <td>2012</td>\n",
       "      <td>2159</td>\n",
       "      <td>147</td>\n",
       "      <td>2012</td>\n",
       "      <td>3</td>\n",
       "      <td>20</td>\n",
       "      <td>2012-03-20</td>\n",
       "      <td>2159</td>\n",
       "      <td>2012</td>\n",
       "      <td>3</td>\n",
       "      <td>23</td>\n",
       "      <td>2012-03-23</td>\n",
       "      <td>32828</td>\n",
       "    </tr>\n",
       "    <tr>\n",
       "      <th>1</th>\n",
       "      <td>16925328</td>\n",
       "      <td>20000024</td>\n",
       "      <td>2151-05-25 21:44:00</td>\n",
       "      <td>2151-05-26 18:36:00</td>\n",
       "      <td>2143</td>\n",
       "      <td>2008 - 2010</td>\n",
       "      <td>2009</td>\n",
       "      <td>2151</td>\n",
       "      <td>134</td>\n",
       "      <td>2017</td>\n",
       "      <td>5</td>\n",
       "      <td>25</td>\n",
       "      <td>2017-05-25</td>\n",
       "      <td>2151</td>\n",
       "      <td>2017</td>\n",
       "      <td>5</td>\n",
       "      <td>26</td>\n",
       "      <td>2017-05-26</td>\n",
       "      <td>32828</td>\n",
       "    </tr>\n",
       "    <tr>\n",
       "      <th>2</th>\n",
       "      <td>19430048</td>\n",
       "      <td>20000034</td>\n",
       "      <td>2174-05-22 19:13:00</td>\n",
       "      <td>2174-05-24 17:27:00</td>\n",
       "      <td>2172</td>\n",
       "      <td>2017 - 2019</td>\n",
       "      <td>2018</td>\n",
       "      <td>2174</td>\n",
       "      <td>154</td>\n",
       "      <td>2020</td>\n",
       "      <td>5</td>\n",
       "      <td>22</td>\n",
       "      <td>2020-05-22</td>\n",
       "      <td>2174</td>\n",
       "      <td>2020</td>\n",
       "      <td>5</td>\n",
       "      <td>24</td>\n",
       "      <td>2020-05-24</td>\n",
       "      <td>32828</td>\n",
       "    </tr>\n",
       "    <tr>\n",
       "      <th>3</th>\n",
       "      <td>18910522</td>\n",
       "      <td>20000041</td>\n",
       "      <td>2143-09-03 07:15:00</td>\n",
       "      <td>2143-09-06 13:50:00</td>\n",
       "      <td>2142</td>\n",
       "      <td>2011 - 2013</td>\n",
       "      <td>2012</td>\n",
       "      <td>2143</td>\n",
       "      <td>130</td>\n",
       "      <td>2013</td>\n",
       "      <td>9</td>\n",
       "      <td>3</td>\n",
       "      <td>2013-09-03</td>\n",
       "      <td>2143</td>\n",
       "      <td>2013</td>\n",
       "      <td>9</td>\n",
       "      <td>6</td>\n",
       "      <td>2013-09-06</td>\n",
       "      <td>32828</td>\n",
       "    </tr>\n",
       "    <tr>\n",
       "      <th>4</th>\n",
       "      <td>11146739</td>\n",
       "      <td>20000057</td>\n",
       "      <td>2190-01-15 17:07:00</td>\n",
       "      <td>2190-01-18 16:05:00</td>\n",
       "      <td>2188</td>\n",
       "      <td>2011 - 2013</td>\n",
       "      <td>2012</td>\n",
       "      <td>2190</td>\n",
       "      <td>176</td>\n",
       "      <td>2014</td>\n",
       "      <td>1</td>\n",
       "      <td>15</td>\n",
       "      <td>2014-01-15</td>\n",
       "      <td>2190</td>\n",
       "      <td>2014</td>\n",
       "      <td>1</td>\n",
       "      <td>18</td>\n",
       "      <td>2014-01-18</td>\n",
       "      <td>32828</td>\n",
       "    </tr>\n",
       "    <tr>\n",
       "      <th>...</th>\n",
       "      <td>...</td>\n",
       "      <td>...</td>\n",
       "      <td>...</td>\n",
       "      <td>...</td>\n",
       "      <td>...</td>\n",
       "      <td>...</td>\n",
       "      <td>...</td>\n",
       "      <td>...</td>\n",
       "      <td>...</td>\n",
       "      <td>...</td>\n",
       "      <td>...</td>\n",
       "      <td>...</td>\n",
       "      <td>...</td>\n",
       "      <td>...</td>\n",
       "      <td>...</td>\n",
       "      <td>...</td>\n",
       "      <td>...</td>\n",
       "      <td>...</td>\n",
       "      <td>...</td>\n",
       "    </tr>\n",
       "    <tr>\n",
       "      <th>431226</th>\n",
       "      <td>10382924</td>\n",
       "      <td>29999723</td>\n",
       "      <td>2170-08-09 18:56:00</td>\n",
       "      <td>2170-08-10 18:30:00</td>\n",
       "      <td>2170</td>\n",
       "      <td>2008 - 2010</td>\n",
       "      <td>2009</td>\n",
       "      <td>2170</td>\n",
       "      <td>161</td>\n",
       "      <td>2009</td>\n",
       "      <td>8</td>\n",
       "      <td>9</td>\n",
       "      <td>2009-08-09</td>\n",
       "      <td>2170</td>\n",
       "      <td>2009</td>\n",
       "      <td>8</td>\n",
       "      <td>10</td>\n",
       "      <td>2009-08-10</td>\n",
       "      <td>32828</td>\n",
       "    </tr>\n",
       "    <tr>\n",
       "      <th>431227</th>\n",
       "      <td>11326722</td>\n",
       "      <td>29999745</td>\n",
       "      <td>2160-07-05 22:24:00</td>\n",
       "      <td>2160-07-12 12:50:00</td>\n",
       "      <td>2160</td>\n",
       "      <td>2008 - 2010</td>\n",
       "      <td>2009</td>\n",
       "      <td>2160</td>\n",
       "      <td>151</td>\n",
       "      <td>2009</td>\n",
       "      <td>7</td>\n",
       "      <td>5</td>\n",
       "      <td>2009-07-05</td>\n",
       "      <td>2160</td>\n",
       "      <td>2009</td>\n",
       "      <td>7</td>\n",
       "      <td>12</td>\n",
       "      <td>2009-07-12</td>\n",
       "      <td>32828</td>\n",
       "    </tr>\n",
       "    <tr>\n",
       "      <th>431228</th>\n",
       "      <td>12133002</td>\n",
       "      <td>29999809</td>\n",
       "      <td>2172-09-24 21:27:00</td>\n",
       "      <td>2172-09-30 17:04:00</td>\n",
       "      <td>2166</td>\n",
       "      <td>2008 - 2010</td>\n",
       "      <td>2009</td>\n",
       "      <td>2172</td>\n",
       "      <td>157</td>\n",
       "      <td>2015</td>\n",
       "      <td>9</td>\n",
       "      <td>24</td>\n",
       "      <td>2015-09-24</td>\n",
       "      <td>2172</td>\n",
       "      <td>2015</td>\n",
       "      <td>9</td>\n",
       "      <td>30</td>\n",
       "      <td>2015-09-30</td>\n",
       "      <td>32828</td>\n",
       "    </tr>\n",
       "    <tr>\n",
       "      <th>431229</th>\n",
       "      <td>16572164</td>\n",
       "      <td>29999828</td>\n",
       "      <td>2180-10-27 07:15:00</td>\n",
       "      <td>2180-10-30 17:25:00</td>\n",
       "      <td>2180</td>\n",
       "      <td>2014 - 2016</td>\n",
       "      <td>2015</td>\n",
       "      <td>2180</td>\n",
       "      <td>165</td>\n",
       "      <td>2015</td>\n",
       "      <td>10</td>\n",
       "      <td>27</td>\n",
       "      <td>2015-10-27</td>\n",
       "      <td>2180</td>\n",
       "      <td>2015</td>\n",
       "      <td>10</td>\n",
       "      <td>30</td>\n",
       "      <td>2015-10-30</td>\n",
       "      <td>32828</td>\n",
       "    </tr>\n",
       "    <tr>\n",
       "      <th>431230</th>\n",
       "      <td>16549335</td>\n",
       "      <td>29999928</td>\n",
       "      <td>2165-07-28 17:22:00</td>\n",
       "      <td>2165-07-31 11:53:00</td>\n",
       "      <td>2164</td>\n",
       "      <td>2017 - 2019</td>\n",
       "      <td>2018</td>\n",
       "      <td>2165</td>\n",
       "      <td>146</td>\n",
       "      <td>2019</td>\n",
       "      <td>7</td>\n",
       "      <td>28</td>\n",
       "      <td>2019-07-28</td>\n",
       "      <td>2165</td>\n",
       "      <td>2019</td>\n",
       "      <td>7</td>\n",
       "      <td>31</td>\n",
       "      <td>2019-07-31</td>\n",
       "      <td>32828</td>\n",
       "    </tr>\n",
       "  </tbody>\n",
       "</table>\n",
       "<p>431231 rows × 19 columns</p>\n",
       "</div>"
      ],
      "text/plain": [
       "        subject_id   hadm_id           admittime           dischtime  \\\n",
       "0         10467237  20000019 2159-03-20 21:08:00 2159-03-23 16:54:00   \n",
       "1         16925328  20000024 2151-05-25 21:44:00 2151-05-26 18:36:00   \n",
       "2         19430048  20000034 2174-05-22 19:13:00 2174-05-24 17:27:00   \n",
       "3         18910522  20000041 2143-09-03 07:15:00 2143-09-06 13:50:00   \n",
       "4         11146739  20000057 2190-01-15 17:07:00 2190-01-18 16:05:00   \n",
       "...            ...       ...                 ...                 ...   \n",
       "431226    10382924  29999723 2170-08-09 18:56:00 2170-08-10 18:30:00   \n",
       "431227    11326722  29999745 2160-07-05 22:24:00 2160-07-12 12:50:00   \n",
       "431228    12133002  29999809 2172-09-24 21:27:00 2172-09-30 17:04:00   \n",
       "431229    16572164  29999828 2180-10-27 07:15:00 2180-10-30 17:25:00   \n",
       "431230    16549335  29999928 2165-07-28 17:22:00 2165-07-31 11:53:00   \n",
       "\n",
       "        anchor_year anchor_year_group  median_anchor_year  admittime_year  \\\n",
       "0              2159       2011 - 2013                2012            2159   \n",
       "1              2143       2008 - 2010                2009            2151   \n",
       "2              2172       2017 - 2019                2018            2174   \n",
       "3              2142       2011 - 2013                2012            2143   \n",
       "4              2188       2011 - 2013                2012            2190   \n",
       "...             ...               ...                 ...             ...   \n",
       "431226         2170       2008 - 2010                2009            2170   \n",
       "431227         2160       2008 - 2010                2009            2160   \n",
       "431228         2166       2008 - 2010                2009            2172   \n",
       "431229         2180       2014 - 2016                2015            2180   \n",
       "431230         2164       2017 - 2019                2018            2165   \n",
       "\n",
       "        diff_year  year_of_admit  month_of_admit  day_of_admit  \\\n",
       "0             147           2012               3            20   \n",
       "1             134           2017               5            25   \n",
       "2             154           2020               5            22   \n",
       "3             130           2013               9             3   \n",
       "4             176           2014               1            15   \n",
       "...           ...            ...             ...           ...   \n",
       "431226        161           2009               8             9   \n",
       "431227        151           2009               7             5   \n",
       "431228        157           2015               9            24   \n",
       "431229        165           2015              10            27   \n",
       "431230        146           2019               7            28   \n",
       "\n",
       "       observation_period_start_date  discharged_year  year_of_discharge  \\\n",
       "0                         2012-03-20             2159               2012   \n",
       "1                         2017-05-25             2151               2017   \n",
       "2                         2020-05-22             2174               2020   \n",
       "3                         2013-09-03             2143               2013   \n",
       "4                         2014-01-15             2190               2014   \n",
       "...                              ...              ...                ...   \n",
       "431226                    2009-08-09             2170               2009   \n",
       "431227                    2009-07-05             2160               2009   \n",
       "431228                    2015-09-24             2172               2015   \n",
       "431229                    2015-10-27             2180               2015   \n",
       "431230                    2019-07-28             2165               2019   \n",
       "\n",
       "        month_of_discharge  day_of_discharge observation_period_end_date  \\\n",
       "0                        3                23                  2012-03-23   \n",
       "1                        5                26                  2017-05-26   \n",
       "2                        5                24                  2020-05-24   \n",
       "3                        9                 6                  2013-09-06   \n",
       "4                        1                18                  2014-01-18   \n",
       "...                    ...               ...                         ...   \n",
       "431226                   8                10                  2009-08-10   \n",
       "431227                   7                12                  2009-07-12   \n",
       "431228                   9                30                  2015-09-30   \n",
       "431229                  10                30                  2015-10-30   \n",
       "431230                   7                31                  2019-07-31   \n",
       "\n",
       "        period_type_concept_id  \n",
       "0                        32828  \n",
       "1                        32828  \n",
       "2                        32828  \n",
       "3                        32828  \n",
       "4                        32828  \n",
       "...                        ...  \n",
       "431226                   32828  \n",
       "431227                   32828  \n",
       "431228                   32828  \n",
       "431229                   32828  \n",
       "431230                   32828  \n",
       "\n",
       "[431231 rows x 19 columns]"
      ]
     },
     "execution_count": 20,
     "metadata": {},
     "output_type": "execute_result"
    }
   ],
   "source": [
    "ddf_adm_pat_merged_copy =  ddf_adm_pat_merged.copy()\n",
    "ddf_adm_pat_merged_copy"
   ]
  },
  {
   "cell_type": "code",
   "execution_count": 21,
   "id": "181c2ef2",
   "metadata": {},
   "outputs": [],
   "source": [
    "import MySQLdb\n",
    "\n",
    "myvars = {}\n",
    "with open(\"ksunchu-password\") as myfile:\n",
    " for line in myfile:\n",
    "    name, var = line.partition(\"=\")[::2]\n",
    "    myvars[name.strip()] = var.strip()\n",
    "\n",
    "conn = MySQLdb.connect(host=\"127.0.0.1\", user=myvars['username'], passwd=myvars['password'], db='omop')\n",
    "omopcursor = conn.cursor()"
   ]
  },
  {
   "cell_type": "code",
   "execution_count": 23,
   "id": "44384a90",
   "metadata": {},
   "outputs": [
    {
     "name": "stdout",
     "output_type": "stream",
     "text": [
      "Insertion was successful.\n"
     ]
    }
   ],
   "source": [
    "observation_period_data = ddf_adm_pat_merged_copy[['hadm_id', 'subject_id', 'observation_period_start_date', 'observation_period_end_date', 'period_type_concept_id']]\n",
    "\n",
    "for index, row in observation_period_data.iterrows():   \n",
    "    sql = \"INSERT INTO OBSERVATION_PERIOD (observation_period_id, person_id, observation_period_start_date, observation_period_end_date, period_type_concept_id) VALUES (%s, %s, %s, %s, %s)\"\n",
    "    \n",
    "    omopcursor.execute(sql, (\n",
    "        row['hadm_id'],\n",
    "        row['subject_id'],\n",
    "        row['observation_period_start_date'],\n",
    "        row['observation_period_end_date'],\n",
    "        row['period_type_concept_id']\n",
    "    ))\n",
    "\n",
    "conn.commit()\n",
    "print(\"Insertion was successful.\")"
   ]
  },
  {
   "cell_type": "code",
   "execution_count": 24,
   "id": "360612a4",
   "metadata": {},
   "outputs": [
    {
     "name": "stdout",
     "output_type": "stream",
     "text": [
      "Number of null or NaT values in the 'admittime' column: 0\n",
      "Number of null or NaT values in the 'dischtime' column: 0\n"
     ]
    }
   ],
   "source": [
    "null_or_nat_count = ddf_adm_pat_merged['admittime'].isna().sum()\n",
    "print(\"Number of null or NaT values in the 'admittime' column:\", null_or_nat_count)\n",
    "null_or_nat_count = ddf_adm_pat_merged['dischtime'].isna().sum()\n",
    "print(\"Number of null or NaT values in the 'dischtime' column:\", null_or_nat_count)"
   ]
  },
  {
   "cell_type": "code",
   "execution_count": 25,
   "id": "f08c8df8",
   "metadata": {},
   "outputs": [
    {
     "name": "stdout",
     "output_type": "stream",
     "text": [
      "Number of null or NaT values in the 'observation_period_start_date' column: 0\n",
      "Number of null or NaT values in the 'observation_period_end_date' column: 0\n"
     ]
    }
   ],
   "source": [
    "null_or_nat_count = ddf_adm_pat_merged['observation_period_start_date'].isna().sum()\n",
    "print(\"Number of null or NaT values in the 'observation_period_start_date' column:\", null_or_nat_count)\n",
    "null_or_nat_count = ddf_adm_pat_merged['observation_period_end_date'].isna().sum()\n",
    "print(\"Number of null or NaT values in the 'observation_period_end_date' column:\", null_or_nat_count)"
   ]
  },
  {
   "cell_type": "code",
   "execution_count": null,
   "id": "ef7ab8ea",
   "metadata": {},
   "outputs": [],
   "source": []
  },
  {
   "cell_type": "code",
   "execution_count": null,
   "id": "ae8dd20c",
   "metadata": {},
   "outputs": [],
   "source": []
  },
  {
   "cell_type": "code",
   "execution_count": null,
   "id": "01f225ac",
   "metadata": {},
   "outputs": [],
   "source": []
  },
  {
   "cell_type": "code",
   "execution_count": null,
   "id": "b48d99c3",
   "metadata": {},
   "outputs": [],
   "source": []
  },
  {
   "cell_type": "code",
   "execution_count": null,
   "id": "b790b4f4",
   "metadata": {},
   "outputs": [],
   "source": []
  },
  {
   "cell_type": "code",
   "execution_count": null,
   "id": "da383e1e",
   "metadata": {},
   "outputs": [],
   "source": []
  },
  {
   "cell_type": "code",
   "execution_count": null,
   "id": "c5d6f397",
   "metadata": {},
   "outputs": [],
   "source": []
  },
  {
   "cell_type": "code",
   "execution_count": null,
   "id": "32465388",
   "metadata": {},
   "outputs": [],
   "source": [
    "\n"
   ]
  },
  {
   "cell_type": "code",
   "execution_count": null,
   "id": "3c1e09bd",
   "metadata": {},
   "outputs": [],
   "source": []
  }
 ],
 "metadata": {
  "kernelspec": {
   "display_name": "Python 3 (ipykernel)",
   "language": "python",
   "name": "python3"
  },
  "language_info": {
   "codemirror_mode": {
    "name": "ipython",
    "version": 3
   },
   "file_extension": ".py",
   "mimetype": "text/x-python",
   "name": "python",
   "nbconvert_exporter": "python",
   "pygments_lexer": "ipython3",
   "version": "3.9.7"
  }
 },
 "nbformat": 4,
 "nbformat_minor": 5
}
