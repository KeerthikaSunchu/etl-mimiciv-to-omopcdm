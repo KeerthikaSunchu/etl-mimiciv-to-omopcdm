{
 "cells": [
  {
   "cell_type": "code",
   "execution_count": 1,
   "id": "99db6f7f",
   "metadata": {},
   "outputs": [
    {
     "name": "stdout",
     "output_type": "stream",
     "text": [
      "<_mysql.connection open to '127.0.0.1' at 0x55565294fe00>\n"
     ]
    }
   ],
   "source": [
    "import MySQLdb\n",
    "\n",
    "myvars = {}\n",
    "with open(\"ksunchu-password\") as myfile:\n",
    " for line in myfile:\n",
    "    name, var = line.partition(\"=\")[::2]\n",
    "    myvars[name.strip()] = var.strip()\n",
    "\n",
    "conn = MySQLdb.connect(host=\"127.0.0.1\", user=myvars['username'], passwd=myvars['password'], db='omop')\n",
    "\n",
    "omopcursor = conn.cursor()\n",
    "print(conn)"
   ]
  },
  {
   "cell_type": "code",
   "execution_count": 2,
   "id": "029013f0",
   "metadata": {},
   "outputs": [],
   "source": [
    "import pandas as pd\n",
    "import numpy as np\n",
    "import dask.dataframe as dd\n",
    "from dask.distributed import Client"
   ]
  },
  {
   "cell_type": "code",
   "execution_count": 3,
   "id": "8ae262ea",
   "metadata": {},
   "outputs": [
    {
     "name": "stderr",
     "output_type": "stream",
     "text": [
      "/tmp/ipykernel_530363/2903905030.py:1: UserWarning: pandas only supports SQLAlchemy connectable (engine/connection) or database string URI or sqlite3 DBAPI2 connection. Other DBAPI2 objects are not tested. Please consider using SQLAlchemy.\n",
      "  df_VISIT_OCCURRENCE = pd.read_sql('select * from `VISIT_OCCURRENCE`', con=conn)\n"
     ]
    }
   ],
   "source": [
    "df_VISIT_OCCURRENCE = pd.read_sql('select * from `VISIT_OCCURRENCE`', con=conn)"
   ]
  },
  {
   "cell_type": "code",
   "execution_count": 4,
   "id": "8075de8f",
   "metadata": {},
   "outputs": [
    {
     "name": "stdout",
     "output_type": "stream",
     "text": [
      "Length - VISIT_OCCURRENCE:  0\n"
     ]
    }
   ],
   "source": [
    "print('Length - VISIT_OCCURRENCE: ', len(df_VISIT_OCCURRENCE))"
   ]
  },
  {
   "cell_type": "code",
   "execution_count": 5,
   "id": "aef9eff2",
   "metadata": {},
   "outputs": [
    {
     "name": "stdout",
     "output_type": "stream",
     "text": [
      "Empty DataFrame\n",
      "Columns: [visit_occurrence_id, person_id, visit_concept_id, visit_start_datetime, visit_end_datetime, visit_type_concept_id, provider_id, care_site_id, visit_source_value, visit_source_concept_id, admitted_from_concept_id, admitted_from_source_value, discharge_to_concept_id, discharge_to_source_value, preceding_visit_occurrence_id]\n",
      "Index: []\n"
     ]
    }
   ],
   "source": [
    "print(df_VISIT_OCCURRENCE.head())"
   ]
  },
  {
   "cell_type": "code",
   "execution_count": 6,
   "id": "26e28911",
   "metadata": {},
   "outputs": [
    {
     "name": "stdout",
     "output_type": "stream",
     "text": [
      "<_mysql.connection open to '127.0.0.1' at 0x55565294fe00>\n"
     ]
    }
   ],
   "source": [
    "import MySQLdb\n",
    "\n",
    "myvars = {}\n",
    "with open(\"ksunchu-password\") as myfile:\n",
    " for line in myfile:\n",
    "    name, var = line.partition(\"=\")[::2]\n",
    "    myvars[name.strip()] = var.strip()\n",
    "\n",
    "mimicivconn = MySQLdb.connect(host=\"127.0.0.1\", user=myvars['username'], passwd=myvars['password'], db='mimiciv')\n",
    "\n",
    "mimicivcursor = conn.cursor()\n",
    "print(conn)"
   ]
  },
  {
   "cell_type": "code",
   "execution_count": 7,
   "id": "b4dcc3cb",
   "metadata": {},
   "outputs": [
    {
     "name": "stderr",
     "output_type": "stream",
     "text": [
      "/tmp/ipykernel_530363/850515151.py:1: UserWarning: pandas only supports SQLAlchemy connectable (engine/connection) or database string URI or sqlite3 DBAPI2 connection. Other DBAPI2 objects are not tested. Please consider using SQLAlchemy.\n",
      "  df_patients_mimiciv = pd.read_sql('select subject_id, anchor_year, anchor_year_group  from patients', con=mimicivconn)\n"
     ]
    }
   ],
   "source": [
    "df_patients_mimiciv = pd.read_sql('select subject_id, anchor_year, anchor_year_group  from patients', con=mimicivconn)"
   ]
  },
  {
   "cell_type": "code",
   "execution_count": 8,
   "id": "faf8ae96",
   "metadata": {},
   "outputs": [],
   "source": [
    "ddf_patients_mimiciv = dd.from_pandas(df_patients_mimiciv).compute()"
   ]
  },
  {
   "cell_type": "code",
   "execution_count": 9,
   "id": "b4eb6e6a",
   "metadata": {},
   "outputs": [],
   "source": [
    "df_patients_mimiciv = ''"
   ]
  },
  {
   "cell_type": "code",
   "execution_count": 10,
   "id": "81339f58",
   "metadata": {},
   "outputs": [
    {
     "name": "stdout",
     "output_type": "stream",
     "text": [
      "   subject_id  anchor_year anchor_year_group\n",
      "0    10000032         2180       2014 - 2016\n",
      "1    10000048         2126       2008 - 2010\n",
      "2    10000068         2160       2008 - 2010\n",
      "3    10000084         2160       2017 - 2019\n",
      "4    10000102         2136       2008 - 2010\n"
     ]
    }
   ],
   "source": [
    "print(ddf_patients_mimiciv.head())"
   ]
  },
  {
   "cell_type": "code",
   "execution_count": 11,
   "id": "000618bf",
   "metadata": {},
   "outputs": [
    {
     "name": "stderr",
     "output_type": "stream",
     "text": [
      "/tmp/ipykernel_530363/3412243236.py:1: UserWarning: pandas only supports SQLAlchemy connectable (engine/connection) or database string URI or sqlite3 DBAPI2 connection. Other DBAPI2 objects are not tested. Please consider using SQLAlchemy.\n",
      "  df_admissions_mimiciv = pd.read_sql('select * from admissions', con=mimicivconn)\n"
     ]
    },
    {
     "name": "stdout",
     "output_type": "stream",
     "text": [
      "   subject_id   hadm_id           admittime           dischtime deathtime  \\\n",
      "0    10467237  20000019 2159-03-20 21:08:00 2159-03-23 16:54:00       NaT   \n",
      "1    16925328  20000024 2151-05-25 21:44:00 2151-05-26 18:36:00       NaT   \n",
      "2    19430048  20000034 2174-05-22 19:13:00 2174-05-24 17:27:00       NaT   \n",
      "3    18910522  20000041 2143-09-03 07:15:00 2143-09-06 13:50:00       NaT   \n",
      "4    11146739  20000057 2190-01-15 17:07:00 2190-01-18 16:05:00       NaT   \n",
      "\n",
      "                admission_type admit_provider_id  admission_location  \\\n",
      "0                     EW EMER.            P25U4M      EMERGENCY ROOM   \n",
      "1                     EW EMER.            P54Q2B      EMERGENCY ROOM   \n",
      "2           DIRECT OBSERVATION            P30SZF  PHYSICIAN REFERRAL   \n",
      "3  SURGICAL SAME DAY ADMISSION            P48VXK  PHYSICIAN REFERRAL   \n",
      "4               EU OBSERVATION            P77SO2      EMERGENCY ROOM   \n",
      "\n",
      "         discharge_location insurance language marital_status  \\\n",
      "0                      HOME     Other        ?         SINGLE   \n",
      "1          HOME HEALTH CARE  Medicare  ENGLISH         SINGLE   \n",
      "2                      None  Medicare  ENGLISH         SINGLE   \n",
      "3  SKILLED NURSING FACILITY     Other  ENGLISH         SINGLE   \n",
      "4                      None  Medicare  ENGLISH         SINGLE   \n",
      "\n",
      "                           race           edregtime           edouttime  \\\n",
      "0  HISPANIC/LATINO - GUATEMALAN 2159-03-20 18:56:00 2159-03-20 22:48:00   \n",
      "1                         WHITE 2151-05-25 15:03:00 2151-05-26 00:03:00   \n",
      "2        BLACK/CARIBBEAN ISLAND                 NaT                 NaT   \n",
      "3                         WHITE                 NaT                 NaT   \n",
      "4                         WHITE 2190-01-15 14:41:00 2190-01-15 18:40:00   \n",
      "\n",
      "   hospital_expire_flag  \n",
      "0                     0  \n",
      "1                     0  \n",
      "2                     0  \n",
      "3                     0  \n",
      "4                     0  \n"
     ]
    }
   ],
   "source": [
    "df_admissions_mimiciv = pd.read_sql('select * from admissions', con=mimicivconn)\n",
    "print(df_admissions_mimiciv.head()) "
   ]
  },
  {
   "cell_type": "code",
   "execution_count": 12,
   "id": "69aff8b8",
   "metadata": {},
   "outputs": [],
   "source": [
    "ddf_admissions_mimiciv = dd.from_pandas(df_admissions_mimiciv).compute()"
   ]
  },
  {
   "cell_type": "code",
   "execution_count": 13,
   "id": "47ebe01b",
   "metadata": {},
   "outputs": [],
   "source": [
    "df_admissions_mimiciv = ''"
   ]
  },
  {
   "cell_type": "code",
   "execution_count": 14,
   "id": "aeb20884",
   "metadata": {},
   "outputs": [
    {
     "name": "stdout",
     "output_type": "stream",
     "text": [
      "        subject_id   hadm_id           admittime           dischtime  \\\n",
      "0         10467237  20000019 2159-03-20 21:08:00 2159-03-23 16:54:00   \n",
      "1         16925328  20000024 2151-05-25 21:44:00 2151-05-26 18:36:00   \n",
      "2         19430048  20000034 2174-05-22 19:13:00 2174-05-24 17:27:00   \n",
      "3         18910522  20000041 2143-09-03 07:15:00 2143-09-06 13:50:00   \n",
      "4         11146739  20000057 2190-01-15 17:07:00 2190-01-18 16:05:00   \n",
      "...            ...       ...                 ...                 ...   \n",
      "431226    10382924  29999723 2170-08-09 18:56:00 2170-08-10 18:30:00   \n",
      "431227    11326722  29999745 2160-07-05 22:24:00 2160-07-12 12:50:00   \n",
      "431228    12133002  29999809 2172-09-24 21:27:00 2172-09-30 17:04:00   \n",
      "431229    16572164  29999828 2180-10-27 07:15:00 2180-10-30 17:25:00   \n",
      "431230    16549335  29999928 2165-07-28 17:22:00 2165-07-31 11:53:00   \n",
      "\n",
      "       deathtime               admission_type admit_provider_id  \\\n",
      "0            NaT                     EW EMER.            P25U4M   \n",
      "1            NaT                     EW EMER.            P54Q2B   \n",
      "2            NaT           DIRECT OBSERVATION            P30SZF   \n",
      "3            NaT  SURGICAL SAME DAY ADMISSION            P48VXK   \n",
      "4            NaT               EU OBSERVATION            P77SO2   \n",
      "...          ...                          ...               ...   \n",
      "431226       NaT                     EW EMER.            P886Y0   \n",
      "431227       NaT                     EW EMER.            P64BMC   \n",
      "431228       NaT                     EW EMER.            P14D72   \n",
      "431229       NaT  SURGICAL SAME DAY ADMISSION            P843YV   \n",
      "431230       NaT           DIRECT OBSERVATION            P38RSS   \n",
      "\n",
      "        admission_location        discharge_location insurance language  \\\n",
      "0           EMERGENCY ROOM                      HOME     Other        ?   \n",
      "1           EMERGENCY ROOM          HOME HEALTH CARE  Medicare  ENGLISH   \n",
      "2       PHYSICIAN REFERRAL                      <NA>  Medicare  ENGLISH   \n",
      "3       PHYSICIAN REFERRAL  SKILLED NURSING FACILITY     Other  ENGLISH   \n",
      "4           EMERGENCY ROOM                      <NA>  Medicare  ENGLISH   \n",
      "...                    ...                       ...       ...      ...   \n",
      "431226      EMERGENCY ROOM                      HOME     Other  ENGLISH   \n",
      "431227      EMERGENCY ROOM                      HOME     Other  ENGLISH   \n",
      "431228      EMERGENCY ROOM                      HOME  Medicare  ENGLISH   \n",
      "431229  PHYSICIAN REFERRAL                      HOME     Other  ENGLISH   \n",
      "431230  PHYSICIAN REFERRAL                      <NA>     Other  ENGLISH   \n",
      "\n",
      "       marital_status                          race           edregtime  \\\n",
      "0              SINGLE  HISPANIC/LATINO - GUATEMALAN 2159-03-20 18:56:00   \n",
      "1              SINGLE                         WHITE 2151-05-25 15:03:00   \n",
      "2              SINGLE        BLACK/CARIBBEAN ISLAND                 NaT   \n",
      "3              SINGLE                         WHITE                 NaT   \n",
      "4              SINGLE                         WHITE 2190-01-15 14:41:00   \n",
      "...               ...                           ...                 ...   \n",
      "431226        MARRIED                         WHITE 2170-08-09 15:41:00   \n",
      "431227         SINGLE                         WHITE 2160-07-05 18:15:00   \n",
      "431228        MARRIED                         WHITE 2172-09-24 18:14:00   \n",
      "431229         SINGLE                         WHITE                 NaT   \n",
      "431230        MARRIED                         WHITE                 NaT   \n",
      "\n",
      "                 edouttime  hospital_expire_flag  \n",
      "0      2159-03-20 22:48:00                     0  \n",
      "1      2151-05-26 00:03:00                     0  \n",
      "2                      NaT                     0  \n",
      "3                      NaT                     0  \n",
      "4      2190-01-15 18:40:00                     0  \n",
      "...                    ...                   ...  \n",
      "431226 2170-08-09 19:50:00                     0  \n",
      "431227 2160-07-05 23:25:00                     0  \n",
      "431228 2172-09-24 22:38:00                     0  \n",
      "431229                 NaT                     0  \n",
      "431230                 NaT                     0  \n",
      "\n",
      "[431231 rows x 16 columns]\n"
     ]
    }
   ],
   "source": [
    "print(ddf_admissions_mimiciv)"
   ]
  },
  {
   "cell_type": "code",
   "execution_count": 15,
   "id": "a8baf8be",
   "metadata": {},
   "outputs": [
    {
     "name": "stdout",
     "output_type": "stream",
     "text": [
      "   subject_id   hadm_id           admittime           dischtime deathtime  \\\n",
      "0    10467237  20000019 2159-03-20 21:08:00 2159-03-23 16:54:00       NaT   \n",
      "1    16925328  20000024 2151-05-25 21:44:00 2151-05-26 18:36:00       NaT   \n",
      "2    19430048  20000034 2174-05-22 19:13:00 2174-05-24 17:27:00       NaT   \n",
      "3    18910522  20000041 2143-09-03 07:15:00 2143-09-06 13:50:00       NaT   \n",
      "4    11146739  20000057 2190-01-15 17:07:00 2190-01-18 16:05:00       NaT   \n",
      "\n",
      "                admission_type admit_provider_id  admission_location  \\\n",
      "0                     EW EMER.            P25U4M      EMERGENCY ROOM   \n",
      "1                     EW EMER.            P54Q2B      EMERGENCY ROOM   \n",
      "2           DIRECT OBSERVATION            P30SZF  PHYSICIAN REFERRAL   \n",
      "3  SURGICAL SAME DAY ADMISSION            P48VXK  PHYSICIAN REFERRAL   \n",
      "4               EU OBSERVATION            P77SO2      EMERGENCY ROOM   \n",
      "\n",
      "         discharge_location insurance language marital_status  \\\n",
      "0                      HOME     Other        ?         SINGLE   \n",
      "1          HOME HEALTH CARE  Medicare  ENGLISH         SINGLE   \n",
      "2                      <NA>  Medicare  ENGLISH         SINGLE   \n",
      "3  SKILLED NURSING FACILITY     Other  ENGLISH         SINGLE   \n",
      "4                      <NA>  Medicare  ENGLISH         SINGLE   \n",
      "\n",
      "                           race           edregtime           edouttime  \\\n",
      "0  HISPANIC/LATINO - GUATEMALAN 2159-03-20 18:56:00 2159-03-20 22:48:00   \n",
      "1                         WHITE 2151-05-25 15:03:00 2151-05-26 00:03:00   \n",
      "2        BLACK/CARIBBEAN ISLAND                 NaT                 NaT   \n",
      "3                         WHITE                 NaT                 NaT   \n",
      "4                         WHITE 2190-01-15 14:41:00 2190-01-15 18:40:00   \n",
      "\n",
      "   hospital_expire_flag  anchor_year anchor_year_group  \n",
      "0                     0         2159       2011 - 2013  \n",
      "1                     0         2143       2008 - 2010  \n",
      "2                     0         2172       2017 - 2019  \n",
      "3                     0         2142       2011 - 2013  \n",
      "4                     0         2188       2011 - 2013  \n"
     ]
    }
   ],
   "source": [
    "ddf_adm_pat_merged = ddf_admissions_mimiciv.merge(ddf_patients_mimiciv, how='inner', on='subject_id')\n",
    "print(ddf_adm_pat_merged.head()) "
   ]
  },
  {
   "cell_type": "code",
   "execution_count": 16,
   "id": "d180c828",
   "metadata": {},
   "outputs": [
    {
     "name": "stdout",
     "output_type": "stream",
     "text": [
      "       visit_start_date\n",
      "0            2012-03-20\n",
      "1            2017-05-25\n",
      "2            2020-05-22\n",
      "3            2013-09-03\n",
      "4            2014-01-15\n",
      "...                 ...\n",
      "431226       2009-08-09\n",
      "431227       2009-07-05\n",
      "431228       2015-09-24\n",
      "431229       2015-10-27\n",
      "431230       2019-07-28\n",
      "\n",
      "[431231 rows x 1 columns]\n"
     ]
    }
   ],
   "source": [
    "ddf_adm_pat_merged['median_anchor_year'] = ddf_adm_pat_merged['anchor_year_group'].str.split('-').apply(lambda x: int((int(x[0]) + int(x[1])) / 2))\n",
    "ddf_adm_pat_merged['admittime_year'] = ddf_adm_pat_merged['admittime'].dt.year\n",
    "ddf_adm_pat_merged['diff_year'] = ddf_adm_pat_merged['anchor_year'] - ddf_adm_pat_merged['median_anchor_year']\n",
    "ddf_adm_pat_merged['year_of_visit'] = ddf_adm_pat_merged['admittime_year'] - ddf_adm_pat_merged['diff_year']\n",
    "ddf_adm_pat_merged['month_of_visit'] = ddf_adm_pat_merged['admittime'].dt.month\n",
    "ddf_adm_pat_merged['day_of_visit'] = ddf_adm_pat_merged['admittime'].dt.day\n",
    "ddf_adm_pat_merged['day_of_visit'] = ddf_adm_pat_merged.apply(\n",
    "    lambda row: min(row['day_of_visit'], pd.Period(year=row['year_of_visit'], month=row['month_of_visit'], freq='M').days_in_month),\n",
    "    axis=1\n",
    ")\n",
    "\n",
    "ddf_adm_pat_merged['visit_start_date'] = pd.to_datetime(\n",
    "    {\n",
    "        'year': ddf_adm_pat_merged['year_of_visit'],\n",
    "        'month': ddf_adm_pat_merged['month_of_visit'],\n",
    "        'day': ddf_adm_pat_merged['day_of_visit']\n",
    "    }\n",
    ")\n",
    "\n",
    "print(ddf_adm_pat_merged[['visit_start_date']])"
   ]
  },
  {
   "cell_type": "code",
   "execution_count": 17,
   "id": "1b77f8a3",
   "metadata": {},
   "outputs": [
    {
     "name": "stdout",
     "output_type": "stream",
     "text": [
      "       visit_start_datetime\n",
      "0       2012-03-20 21:08:00\n",
      "1       2017-05-25 21:44:00\n",
      "2       2020-05-22 19:13:00\n",
      "3       2013-09-03 07:15:00\n",
      "4       2014-01-15 17:07:00\n",
      "...                     ...\n",
      "431226  2009-08-09 18:56:00\n",
      "431227  2009-07-05 22:24:00\n",
      "431228  2015-09-24 21:27:00\n",
      "431229  2015-10-27 07:15:00\n",
      "431230  2019-07-28 17:22:00\n",
      "\n",
      "[431231 rows x 1 columns]\n"
     ]
    }
   ],
   "source": [
    "ddf_adm_pat_merged['time_of_visit'] = ddf_adm_pat_merged['admittime'].dt.time\n",
    "ddf_adm_pat_merged['visit_start_datetime'] = pd.to_datetime(\n",
    "    {\n",
    "        'year': ddf_adm_pat_merged['year_of_visit'],\n",
    "        'month': ddf_adm_pat_merged['month_of_visit'],\n",
    "        'day': ddf_adm_pat_merged['day_of_visit'],\n",
    "        'hour': ddf_adm_pat_merged['time_of_visit'].apply(lambda x: x.hour),\n",
    "        'minute': ddf_adm_pat_merged['time_of_visit'].apply(lambda x: x.minute),\n",
    "        'second': ddf_adm_pat_merged['time_of_visit'].apply(lambda x: x.second)\n",
    "    }\n",
    ")\n",
    "\n",
    "print(ddf_adm_pat_merged[['visit_start_datetime']])"
   ]
  },
  {
   "cell_type": "code",
   "execution_count": 18,
   "id": "0c298b0b",
   "metadata": {},
   "outputs": [
    {
     "name": "stdout",
     "output_type": "stream",
     "text": [
      "       visit_end_date\n",
      "0          2012-03-23\n",
      "1          2017-05-26\n",
      "2          2020-05-24\n",
      "3          2013-09-06\n",
      "4          2014-01-18\n",
      "...               ...\n",
      "431226     2009-08-10\n",
      "431227     2009-07-12\n",
      "431228     2015-09-30\n",
      "431229     2015-10-30\n",
      "431230     2019-07-31\n",
      "\n",
      "[431231 rows x 1 columns]\n"
     ]
    }
   ],
   "source": [
    "ddf_adm_pat_merged['discharged_year'] = ddf_adm_pat_merged['dischtime'].dt.year\n",
    "ddf_adm_pat_merged['year_of_visit_end'] = ddf_adm_pat_merged['discharged_year'] - ddf_adm_pat_merged['diff_year']\n",
    "ddf_adm_pat_merged['month_of_visit_end'] = ddf_adm_pat_merged['dischtime'].dt.month\n",
    "ddf_adm_pat_merged['day_of_visit_end'] = ddf_adm_pat_merged['dischtime'].dt.day\n",
    "ddf_adm_pat_merged['day_of_visit_end'] = ddf_adm_pat_merged.apply(\n",
    "    lambda row: min(row['day_of_visit_end'], pd.Period(year=row['year_of_visit_end'], month=row['month_of_visit_end'], freq='M').days_in_month),\n",
    "    axis=1\n",
    ")\n",
    "ddf_adm_pat_merged['visit_end_date'] = pd.to_datetime(\n",
    "    {\n",
    "        'year': ddf_adm_pat_merged['year_of_visit_end'],\n",
    "        'month': ddf_adm_pat_merged['month_of_visit_end'],\n",
    "        'day': ddf_adm_pat_merged['day_of_visit_end']\n",
    "    }\n",
    ")\n",
    "print(ddf_adm_pat_merged[['visit_end_date']])"
   ]
  },
  {
   "cell_type": "code",
   "execution_count": 19,
   "id": "38e99a17",
   "metadata": {},
   "outputs": [
    {
     "name": "stdout",
     "output_type": "stream",
     "text": [
      "        visit_end_datetime\n",
      "0      2012-03-23 16:54:00\n",
      "1      2017-05-26 18:36:00\n",
      "2      2020-05-24 17:27:00\n",
      "3      2013-09-06 13:50:00\n",
      "4      2014-01-18 16:05:00\n",
      "...                    ...\n",
      "431226 2009-08-10 18:30:00\n",
      "431227 2009-07-12 12:50:00\n",
      "431228 2015-09-30 17:04:00\n",
      "431229 2015-10-30 17:25:00\n",
      "431230 2019-07-31 11:53:00\n",
      "\n",
      "[431231 rows x 1 columns]\n"
     ]
    }
   ],
   "source": [
    "ddf_adm_pat_merged['time_of_visit_end'] = ddf_adm_pat_merged['dischtime'].dt.time\n",
    "ddf_adm_pat_merged['visit_end_datetime'] = pd.to_datetime(\n",
    "    {\n",
    "        'year': ddf_adm_pat_merged['year_of_visit_end'],\n",
    "        'month': ddf_adm_pat_merged['month_of_visit_end'],\n",
    "        'day': ddf_adm_pat_merged['day_of_visit_end'],\n",
    "        'hour': ddf_adm_pat_merged['time_of_visit_end'].apply(lambda x: x.hour),\n",
    "        'minute': ddf_adm_pat_merged['time_of_visit_end'].apply(lambda x: x.minute),\n",
    "        'second': ddf_adm_pat_merged['time_of_visit_end'].apply(lambda x: x.second)\n",
    "    }\n",
    ")\n",
    "\n",
    "print(ddf_adm_pat_merged[['visit_end_datetime']])"
   ]
  },
  {
   "cell_type": "code",
   "execution_count": 20,
   "id": "6b2ec69a",
   "metadata": {},
   "outputs": [
    {
     "name": "stdout",
     "output_type": "stream",
     "text": [
      "Number of null or NaT values in the 'admittime' column: 0\n",
      "Number of null or NaT values in the 'dischtime' column: 0\n"
     ]
    }
   ],
   "source": [
    "null_or_nat_count = ddf_adm_pat_merged['admittime'].isna().sum()\n",
    "print(\"Number of null or NaT values in the 'admittime' column:\", null_or_nat_count)\n",
    "null_or_nat_count = ddf_adm_pat_merged['dischtime'].isna().sum()\n",
    "print(\"Number of null or NaT values in the 'dischtime' column:\", null_or_nat_count)"
   ]
  },
  {
   "cell_type": "code",
   "execution_count": 21,
   "id": "3c784045",
   "metadata": {},
   "outputs": [
    {
     "name": "stdout",
     "output_type": "stream",
     "text": [
      "Number of null or NaT values in the 'visit_start_datetime' column: 0\n",
      "Number of null or NaT values in the 'visit_end_datetime' column: 0\n"
     ]
    }
   ],
   "source": [
    "null_or_nat_count = ddf_adm_pat_merged['visit_start_datetime'].isna().sum()\n",
    "print(\"Number of null or NaT values in the 'visit_start_datetime' column:\", null_or_nat_count)\n",
    "null_or_nat_count = ddf_adm_pat_merged['visit_end_datetime'].isna().sum()\n",
    "print(\"Number of null or NaT values in the 'visit_end_datetime' column:\", null_or_nat_count)"
   ]
  },
  {
   "cell_type": "code",
   "execution_count": 22,
   "id": "23d5f724",
   "metadata": {},
   "outputs": [
    {
     "name": "stdout",
     "output_type": "stream",
     "text": [
      "        visit_type_concept_id\n",
      "0                       32817\n",
      "1                       32817\n",
      "2                       32817\n",
      "3                       32817\n",
      "4                       32817\n",
      "...                       ...\n",
      "431226                  32817\n",
      "431227                  32817\n",
      "431228                  32817\n",
      "431229                  32817\n",
      "431230                  32817\n",
      "\n",
      "[431231 rows x 1 columns]\n"
     ]
    }
   ],
   "source": [
    "ddf_adm_pat_merged['visit_type_concept_id'] = 32817\n",
    "print(ddf_adm_pat_merged[['visit_type_concept_id']])"
   ]
  },
  {
   "cell_type": "code",
   "execution_count": 23,
   "id": "e7246077",
   "metadata": {},
   "outputs": [
    {
     "name": "stdout",
     "output_type": "stream",
     "text": [
      "        provider_id\n",
      "0                 1\n",
      "1                 1\n",
      "2                 1\n",
      "3                 1\n",
      "4                 1\n",
      "...             ...\n",
      "431226            1\n",
      "431227            1\n",
      "431228            1\n",
      "431229            1\n",
      "431230            1\n",
      "\n",
      "[431231 rows x 1 columns]\n"
     ]
    }
   ],
   "source": [
    "default_provider_id = 1\n",
    "ddf_adm_pat_merged['provider_id'] = default_provider_id\n",
    "print(ddf_adm_pat_merged[['provider_id']])"
   ]
  },
  {
   "cell_type": "code",
   "execution_count": 24,
   "id": "4ba70f89",
   "metadata": {},
   "outputs": [
    {
     "name": "stdout",
     "output_type": "stream",
     "text": [
      "        care_site_id\n",
      "0                NaN\n",
      "1                NaN\n",
      "2                NaN\n",
      "3                NaN\n",
      "4                NaN\n",
      "...              ...\n",
      "431226           NaN\n",
      "431227           NaN\n",
      "431228           NaN\n",
      "431229           NaN\n",
      "431230           NaN\n",
      "\n",
      "[431231 rows x 1 columns]\n"
     ]
    }
   ],
   "source": [
    "ddf_adm_pat_merged['care_site_id'] = np.nan\n",
    "print(ddf_adm_pat_merged[['care_site_id']])"
   ]
  },
  {
   "cell_type": "code",
   "execution_count": 25,
   "id": "8bc37229",
   "metadata": {},
   "outputs": [
    {
     "name": "stdout",
     "output_type": "stream",
     "text": [
      "        visit_source_concept_id\n",
      "0                           NaN\n",
      "1                           NaN\n",
      "2                           NaN\n",
      "3                           NaN\n",
      "4                           NaN\n",
      "...                         ...\n",
      "431226                      NaN\n",
      "431227                      NaN\n",
      "431228                      NaN\n",
      "431229                      NaN\n",
      "431230                      NaN\n",
      "\n",
      "[431231 rows x 1 columns]\n"
     ]
    }
   ],
   "source": [
    "ddf_adm_pat_merged['visit_source_concept_id'] = np.nan\n",
    "print(ddf_adm_pat_merged[['visit_source_concept_id']])"
   ]
  },
  {
   "cell_type": "code",
   "execution_count": 26,
   "id": "dfecf2dd",
   "metadata": {},
   "outputs": [
    {
     "name": "stdout",
     "output_type": "stream",
     "text": [
      "        preceding_visit_occurrence_id\n",
      "0                                 NaN\n",
      "1                                 NaN\n",
      "2                                 NaN\n",
      "3                                 NaN\n",
      "4                                 NaN\n",
      "...                               ...\n",
      "431226                            NaN\n",
      "431227                            NaN\n",
      "431228                            NaN\n",
      "431229                            NaN\n",
      "431230                            NaN\n",
      "\n",
      "[431231 rows x 1 columns]\n"
     ]
    }
   ],
   "source": [
    "ddf_adm_pat_merged['preceding_visit_occurrence_id'] = np.nan\n",
    "print(ddf_adm_pat_merged[['preceding_visit_occurrence_id']])"
   ]
  },
  {
   "cell_type": "code",
   "execution_count": 27,
   "id": "c6c14898",
   "metadata": {},
   "outputs": [
    {
     "name": "stdout",
     "output_type": "stream",
     "text": [
      "        admission_location  admitted_from_concept_id\n",
      "0           EMERGENCY ROOM                      9203\n",
      "1           EMERGENCY ROOM                      9203\n",
      "2       PHYSICIAN REFERRAL                      <NA>\n",
      "3       PHYSICIAN REFERRAL                      <NA>\n",
      "4           EMERGENCY ROOM                      9203\n",
      "...                    ...                       ...\n",
      "431226      EMERGENCY ROOM                      9203\n",
      "431227      EMERGENCY ROOM                      9203\n",
      "431228      EMERGENCY ROOM                      9203\n",
      "431229  PHYSICIAN REFERRAL                      <NA>\n",
      "431230  PHYSICIAN REFERRAL                      <NA>\n",
      "\n",
      "[431231 rows x 2 columns]\n"
     ]
    }
   ],
   "source": [
    "admission_location_mapping = {\n",
    "    \"EMERGENCY ROOM\": 9203,\n",
    "    \"PHYSICIAN REFERRAL\": None,\n",
    "    \"TRANSFER FROM HOSPITAL\": 38004515,\n",
    "    \"WALK-IN/SELF REFERRAL\": 38003620,\n",
    "    \"PROCEDURE SITE\": None,\n",
    "    \"CLINIC REFERRAL\": 8716,\n",
    "    \"PACU\": None,\n",
    "    \"TRANSFER FROM SKILLED NURSING FACILITY\": 8863,\n",
    "    \"INFORMATION NOT AVAILABLE\": None,\n",
    "    \"INTERNAL TRANSFER TO OR FROM PSYCH\": 38004284,\n",
    "    \"AMBULATORY SURGERY TRANSFER\": 38004207,\n",
    "}\n",
    "\n",
    "ddf_adm_pat_merged['admitted_from_concept_id'] = ddf_adm_pat_merged['admission_location'].map(admission_location_mapping)\n",
    "ddf_adm_pat_merged['admitted_from_concept_id'] = ddf_adm_pat_merged['admitted_from_concept_id'].astype('Int64')\n",
    "\n",
    "print(ddf_adm_pat_merged[['admission_location', 'admitted_from_concept_id']])\n"
   ]
  },
  {
   "cell_type": "code",
   "execution_count": 28,
   "id": "d5498134",
   "metadata": {},
   "outputs": [
    {
     "name": "stdout",
     "output_type": "stream",
     "text": [
      "              discharge_location  discharged_to_concept_id\n",
      "0                           HOME                         0\n",
      "1               HOME HEALTH CARE                  38004519\n",
      "2                           <NA>                      <NA>\n",
      "3       SKILLED NURSING FACILITY                      8863\n",
      "4                           <NA>                      <NA>\n",
      "...                          ...                       ...\n",
      "431226                      HOME                         0\n",
      "431227                      HOME                         0\n",
      "431228                      HOME                         0\n",
      "431229                      HOME                         0\n",
      "431230                      <NA>                      <NA>\n",
      "\n",
      "[431231 rows x 2 columns]\n"
     ]
    }
   ],
   "source": [
    "discharge_location_mapping = {\n",
    "    \"HOME\": 0,\n",
    "    \"HOME HEALTH CARE\": 38004519,\n",
    "    \"SKILLED NURSING FACILITY\": 8863,\n",
    "    \"DIED\": None,\n",
    "    \"PSYCH FACILITY\": 38004284,\n",
    "    \"REHAB\": 38004526,\n",
    "    \"CHRONIC/LONG TERM ACUTE CARE\": 38004277,\n",
    "    \"HOSPICE\": 8546,\n",
    "    \"AGAINST ADVICE\": None,\n",
    "    \"OTHER FACILITY\": None,\n",
    "    \"ACUTE HOSPITAL\": 38004279,\n",
    "    \"ASSISTED LIVING\": 8615,\n",
    "    \"HEALTHCARE FACILITY\": None,\n",
    "}\n",
    "\n",
    "ddf_adm_pat_merged['discharged_to_concept_id'] = ddf_adm_pat_merged['discharge_location'].map(discharge_location_mapping)\n",
    "ddf_adm_pat_merged['discharged_to_concept_id'] = ddf_adm_pat_merged['discharged_to_concept_id'].astype('Int64')\n",
    "\n",
    "print(ddf_adm_pat_merged[['discharge_location', 'discharged_to_concept_id']])\n"
   ]
  },
  {
   "cell_type": "code",
   "execution_count": 29,
   "id": "19b617c4",
   "metadata": {},
   "outputs": [
    {
     "name": "stdout",
     "output_type": "stream",
     "text": [
      "                     admission_type  visit_concept_id\n",
      "0                          EW EMER.              9203\n",
      "1                          EW EMER.              9203\n",
      "2                DIRECT OBSERVATION            581385\n",
      "3       SURGICAL SAME DAY ADMISSION              8883\n",
      "4                    EU OBSERVATION              9203\n",
      "...                             ...               ...\n",
      "431226                     EW EMER.              9203\n",
      "431227                     EW EMER.              9203\n",
      "431228                     EW EMER.              9203\n",
      "431229  SURGICAL SAME DAY ADMISSION              8883\n",
      "431230           DIRECT OBSERVATION            581385\n",
      "\n",
      "[431231 rows x 2 columns]\n"
     ]
    }
   ],
   "source": [
    "admission_type_mapping = {\n",
    "    \"AMBULATORY OBSERVATION\": 38004207,\n",
    "    None: 9201,\n",
    "    \"DIRECT EMER.\": 9203,\n",
    "    \"DIRECT OBSERVATION\": 581385,\n",
    "    \"ELECTIVE\": 9201,\n",
    "    \"EU OBSERVATION\": 9203,\n",
    "    \"EW EMER.\": 9203,\n",
    "    \"OBSERVATION ADMIT\": 581385,\n",
    "    \"SURGICAL SAME DAY ADMISSION\": 8883,\n",
    "    \"URGENT\": 9203, \n",
    "}\n",
    "\n",
    "ddf_adm_pat_merged['visit_concept_id'] = ddf_adm_pat_merged['admission_type'].map(admission_type_mapping)\n",
    "ddf_adm_pat_merged['visit_concept_id'] = ddf_adm_pat_merged['visit_concept_id'].astype('Int64')\n",
    "\n",
    "print(ddf_adm_pat_merged[['admission_type', 'visit_concept_id']])\n"
   ]
  },
  {
   "cell_type": "code",
   "execution_count": 30,
   "id": "33854010",
   "metadata": {},
   "outputs": [
    {
     "data": {
      "text/html": [
       "<div>\n",
       "<style scoped>\n",
       "    .dataframe tbody tr th:only-of-type {\n",
       "        vertical-align: middle;\n",
       "    }\n",
       "\n",
       "    .dataframe tbody tr th {\n",
       "        vertical-align: top;\n",
       "    }\n",
       "\n",
       "    .dataframe thead th {\n",
       "        text-align: right;\n",
       "    }\n",
       "</style>\n",
       "<table border=\"1\" class=\"dataframe\">\n",
       "  <thead>\n",
       "    <tr style=\"text-align: right;\">\n",
       "      <th></th>\n",
       "      <th>subject_id</th>\n",
       "      <th>hadm_id</th>\n",
       "      <th>admittime</th>\n",
       "      <th>dischtime</th>\n",
       "      <th>deathtime</th>\n",
       "      <th>admission_type</th>\n",
       "      <th>admit_provider_id</th>\n",
       "      <th>admission_location</th>\n",
       "      <th>discharge_location</th>\n",
       "      <th>insurance</th>\n",
       "      <th>...</th>\n",
       "      <th>time_of_visit_end</th>\n",
       "      <th>visit_end_datetime</th>\n",
       "      <th>visit_type_concept_id</th>\n",
       "      <th>provider_id</th>\n",
       "      <th>care_site_id</th>\n",
       "      <th>visit_source_concept_id</th>\n",
       "      <th>preceding_visit_occurrence_id</th>\n",
       "      <th>admitted_from_concept_id</th>\n",
       "      <th>discharged_to_concept_id</th>\n",
       "      <th>visit_concept_id</th>\n",
       "    </tr>\n",
       "  </thead>\n",
       "  <tbody>\n",
       "    <tr>\n",
       "      <th>0</th>\n",
       "      <td>10467237</td>\n",
       "      <td>20000019</td>\n",
       "      <td>2159-03-20 21:08:00</td>\n",
       "      <td>2159-03-23 16:54:00</td>\n",
       "      <td>NaT</td>\n",
       "      <td>EW EMER.</td>\n",
       "      <td>P25U4M</td>\n",
       "      <td>EMERGENCY ROOM</td>\n",
       "      <td>HOME</td>\n",
       "      <td>Other</td>\n",
       "      <td>...</td>\n",
       "      <td>16:54:00</td>\n",
       "      <td>2012-03-23 16:54:00</td>\n",
       "      <td>32817</td>\n",
       "      <td>1</td>\n",
       "      <td>NaN</td>\n",
       "      <td>NaN</td>\n",
       "      <td>NaN</td>\n",
       "      <td>9203</td>\n",
       "      <td>0</td>\n",
       "      <td>9203</td>\n",
       "    </tr>\n",
       "    <tr>\n",
       "      <th>1</th>\n",
       "      <td>16925328</td>\n",
       "      <td>20000024</td>\n",
       "      <td>2151-05-25 21:44:00</td>\n",
       "      <td>2151-05-26 18:36:00</td>\n",
       "      <td>NaT</td>\n",
       "      <td>EW EMER.</td>\n",
       "      <td>P54Q2B</td>\n",
       "      <td>EMERGENCY ROOM</td>\n",
       "      <td>HOME HEALTH CARE</td>\n",
       "      <td>Medicare</td>\n",
       "      <td>...</td>\n",
       "      <td>18:36:00</td>\n",
       "      <td>2017-05-26 18:36:00</td>\n",
       "      <td>32817</td>\n",
       "      <td>1</td>\n",
       "      <td>NaN</td>\n",
       "      <td>NaN</td>\n",
       "      <td>NaN</td>\n",
       "      <td>9203</td>\n",
       "      <td>38004519</td>\n",
       "      <td>9203</td>\n",
       "    </tr>\n",
       "    <tr>\n",
       "      <th>2</th>\n",
       "      <td>19430048</td>\n",
       "      <td>20000034</td>\n",
       "      <td>2174-05-22 19:13:00</td>\n",
       "      <td>2174-05-24 17:27:00</td>\n",
       "      <td>NaT</td>\n",
       "      <td>DIRECT OBSERVATION</td>\n",
       "      <td>P30SZF</td>\n",
       "      <td>PHYSICIAN REFERRAL</td>\n",
       "      <td>&lt;NA&gt;</td>\n",
       "      <td>Medicare</td>\n",
       "      <td>...</td>\n",
       "      <td>17:27:00</td>\n",
       "      <td>2020-05-24 17:27:00</td>\n",
       "      <td>32817</td>\n",
       "      <td>1</td>\n",
       "      <td>NaN</td>\n",
       "      <td>NaN</td>\n",
       "      <td>NaN</td>\n",
       "      <td>&lt;NA&gt;</td>\n",
       "      <td>&lt;NA&gt;</td>\n",
       "      <td>581385</td>\n",
       "    </tr>\n",
       "    <tr>\n",
       "      <th>3</th>\n",
       "      <td>18910522</td>\n",
       "      <td>20000041</td>\n",
       "      <td>2143-09-03 07:15:00</td>\n",
       "      <td>2143-09-06 13:50:00</td>\n",
       "      <td>NaT</td>\n",
       "      <td>SURGICAL SAME DAY ADMISSION</td>\n",
       "      <td>P48VXK</td>\n",
       "      <td>PHYSICIAN REFERRAL</td>\n",
       "      <td>SKILLED NURSING FACILITY</td>\n",
       "      <td>Other</td>\n",
       "      <td>...</td>\n",
       "      <td>13:50:00</td>\n",
       "      <td>2013-09-06 13:50:00</td>\n",
       "      <td>32817</td>\n",
       "      <td>1</td>\n",
       "      <td>NaN</td>\n",
       "      <td>NaN</td>\n",
       "      <td>NaN</td>\n",
       "      <td>&lt;NA&gt;</td>\n",
       "      <td>8863</td>\n",
       "      <td>8883</td>\n",
       "    </tr>\n",
       "    <tr>\n",
       "      <th>4</th>\n",
       "      <td>11146739</td>\n",
       "      <td>20000057</td>\n",
       "      <td>2190-01-15 17:07:00</td>\n",
       "      <td>2190-01-18 16:05:00</td>\n",
       "      <td>NaT</td>\n",
       "      <td>EU OBSERVATION</td>\n",
       "      <td>P77SO2</td>\n",
       "      <td>EMERGENCY ROOM</td>\n",
       "      <td>&lt;NA&gt;</td>\n",
       "      <td>Medicare</td>\n",
       "      <td>...</td>\n",
       "      <td>16:05:00</td>\n",
       "      <td>2014-01-18 16:05:00</td>\n",
       "      <td>32817</td>\n",
       "      <td>1</td>\n",
       "      <td>NaN</td>\n",
       "      <td>NaN</td>\n",
       "      <td>NaN</td>\n",
       "      <td>9203</td>\n",
       "      <td>&lt;NA&gt;</td>\n",
       "      <td>9203</td>\n",
       "    </tr>\n",
       "    <tr>\n",
       "      <th>...</th>\n",
       "      <td>...</td>\n",
       "      <td>...</td>\n",
       "      <td>...</td>\n",
       "      <td>...</td>\n",
       "      <td>...</td>\n",
       "      <td>...</td>\n",
       "      <td>...</td>\n",
       "      <td>...</td>\n",
       "      <td>...</td>\n",
       "      <td>...</td>\n",
       "      <td>...</td>\n",
       "      <td>...</td>\n",
       "      <td>...</td>\n",
       "      <td>...</td>\n",
       "      <td>...</td>\n",
       "      <td>...</td>\n",
       "      <td>...</td>\n",
       "      <td>...</td>\n",
       "      <td>...</td>\n",
       "      <td>...</td>\n",
       "      <td>...</td>\n",
       "    </tr>\n",
       "    <tr>\n",
       "      <th>431226</th>\n",
       "      <td>10382924</td>\n",
       "      <td>29999723</td>\n",
       "      <td>2170-08-09 18:56:00</td>\n",
       "      <td>2170-08-10 18:30:00</td>\n",
       "      <td>NaT</td>\n",
       "      <td>EW EMER.</td>\n",
       "      <td>P886Y0</td>\n",
       "      <td>EMERGENCY ROOM</td>\n",
       "      <td>HOME</td>\n",
       "      <td>Other</td>\n",
       "      <td>...</td>\n",
       "      <td>18:30:00</td>\n",
       "      <td>2009-08-10 18:30:00</td>\n",
       "      <td>32817</td>\n",
       "      <td>1</td>\n",
       "      <td>NaN</td>\n",
       "      <td>NaN</td>\n",
       "      <td>NaN</td>\n",
       "      <td>9203</td>\n",
       "      <td>0</td>\n",
       "      <td>9203</td>\n",
       "    </tr>\n",
       "    <tr>\n",
       "      <th>431227</th>\n",
       "      <td>11326722</td>\n",
       "      <td>29999745</td>\n",
       "      <td>2160-07-05 22:24:00</td>\n",
       "      <td>2160-07-12 12:50:00</td>\n",
       "      <td>NaT</td>\n",
       "      <td>EW EMER.</td>\n",
       "      <td>P64BMC</td>\n",
       "      <td>EMERGENCY ROOM</td>\n",
       "      <td>HOME</td>\n",
       "      <td>Other</td>\n",
       "      <td>...</td>\n",
       "      <td>12:50:00</td>\n",
       "      <td>2009-07-12 12:50:00</td>\n",
       "      <td>32817</td>\n",
       "      <td>1</td>\n",
       "      <td>NaN</td>\n",
       "      <td>NaN</td>\n",
       "      <td>NaN</td>\n",
       "      <td>9203</td>\n",
       "      <td>0</td>\n",
       "      <td>9203</td>\n",
       "    </tr>\n",
       "    <tr>\n",
       "      <th>431228</th>\n",
       "      <td>12133002</td>\n",
       "      <td>29999809</td>\n",
       "      <td>2172-09-24 21:27:00</td>\n",
       "      <td>2172-09-30 17:04:00</td>\n",
       "      <td>NaT</td>\n",
       "      <td>EW EMER.</td>\n",
       "      <td>P14D72</td>\n",
       "      <td>EMERGENCY ROOM</td>\n",
       "      <td>HOME</td>\n",
       "      <td>Medicare</td>\n",
       "      <td>...</td>\n",
       "      <td>17:04:00</td>\n",
       "      <td>2015-09-30 17:04:00</td>\n",
       "      <td>32817</td>\n",
       "      <td>1</td>\n",
       "      <td>NaN</td>\n",
       "      <td>NaN</td>\n",
       "      <td>NaN</td>\n",
       "      <td>9203</td>\n",
       "      <td>0</td>\n",
       "      <td>9203</td>\n",
       "    </tr>\n",
       "    <tr>\n",
       "      <th>431229</th>\n",
       "      <td>16572164</td>\n",
       "      <td>29999828</td>\n",
       "      <td>2180-10-27 07:15:00</td>\n",
       "      <td>2180-10-30 17:25:00</td>\n",
       "      <td>NaT</td>\n",
       "      <td>SURGICAL SAME DAY ADMISSION</td>\n",
       "      <td>P843YV</td>\n",
       "      <td>PHYSICIAN REFERRAL</td>\n",
       "      <td>HOME</td>\n",
       "      <td>Other</td>\n",
       "      <td>...</td>\n",
       "      <td>17:25:00</td>\n",
       "      <td>2015-10-30 17:25:00</td>\n",
       "      <td>32817</td>\n",
       "      <td>1</td>\n",
       "      <td>NaN</td>\n",
       "      <td>NaN</td>\n",
       "      <td>NaN</td>\n",
       "      <td>&lt;NA&gt;</td>\n",
       "      <td>0</td>\n",
       "      <td>8883</td>\n",
       "    </tr>\n",
       "    <tr>\n",
       "      <th>431230</th>\n",
       "      <td>16549335</td>\n",
       "      <td>29999928</td>\n",
       "      <td>2165-07-28 17:22:00</td>\n",
       "      <td>2165-07-31 11:53:00</td>\n",
       "      <td>NaT</td>\n",
       "      <td>DIRECT OBSERVATION</td>\n",
       "      <td>P38RSS</td>\n",
       "      <td>PHYSICIAN REFERRAL</td>\n",
       "      <td>&lt;NA&gt;</td>\n",
       "      <td>Other</td>\n",
       "      <td>...</td>\n",
       "      <td>11:53:00</td>\n",
       "      <td>2019-07-31 11:53:00</td>\n",
       "      <td>32817</td>\n",
       "      <td>1</td>\n",
       "      <td>NaN</td>\n",
       "      <td>NaN</td>\n",
       "      <td>NaN</td>\n",
       "      <td>&lt;NA&gt;</td>\n",
       "      <td>&lt;NA&gt;</td>\n",
       "      <td>581385</td>\n",
       "    </tr>\n",
       "  </tbody>\n",
       "</table>\n",
       "<p>431231 rows × 42 columns</p>\n",
       "</div>"
      ],
      "text/plain": [
       "        subject_id   hadm_id           admittime           dischtime  \\\n",
       "0         10467237  20000019 2159-03-20 21:08:00 2159-03-23 16:54:00   \n",
       "1         16925328  20000024 2151-05-25 21:44:00 2151-05-26 18:36:00   \n",
       "2         19430048  20000034 2174-05-22 19:13:00 2174-05-24 17:27:00   \n",
       "3         18910522  20000041 2143-09-03 07:15:00 2143-09-06 13:50:00   \n",
       "4         11146739  20000057 2190-01-15 17:07:00 2190-01-18 16:05:00   \n",
       "...            ...       ...                 ...                 ...   \n",
       "431226    10382924  29999723 2170-08-09 18:56:00 2170-08-10 18:30:00   \n",
       "431227    11326722  29999745 2160-07-05 22:24:00 2160-07-12 12:50:00   \n",
       "431228    12133002  29999809 2172-09-24 21:27:00 2172-09-30 17:04:00   \n",
       "431229    16572164  29999828 2180-10-27 07:15:00 2180-10-30 17:25:00   \n",
       "431230    16549335  29999928 2165-07-28 17:22:00 2165-07-31 11:53:00   \n",
       "\n",
       "       deathtime               admission_type admit_provider_id  \\\n",
       "0            NaT                     EW EMER.            P25U4M   \n",
       "1            NaT                     EW EMER.            P54Q2B   \n",
       "2            NaT           DIRECT OBSERVATION            P30SZF   \n",
       "3            NaT  SURGICAL SAME DAY ADMISSION            P48VXK   \n",
       "4            NaT               EU OBSERVATION            P77SO2   \n",
       "...          ...                          ...               ...   \n",
       "431226       NaT                     EW EMER.            P886Y0   \n",
       "431227       NaT                     EW EMER.            P64BMC   \n",
       "431228       NaT                     EW EMER.            P14D72   \n",
       "431229       NaT  SURGICAL SAME DAY ADMISSION            P843YV   \n",
       "431230       NaT           DIRECT OBSERVATION            P38RSS   \n",
       "\n",
       "        admission_location        discharge_location insurance  ...  \\\n",
       "0           EMERGENCY ROOM                      HOME     Other  ...   \n",
       "1           EMERGENCY ROOM          HOME HEALTH CARE  Medicare  ...   \n",
       "2       PHYSICIAN REFERRAL                      <NA>  Medicare  ...   \n",
       "3       PHYSICIAN REFERRAL  SKILLED NURSING FACILITY     Other  ...   \n",
       "4           EMERGENCY ROOM                      <NA>  Medicare  ...   \n",
       "...                    ...                       ...       ...  ...   \n",
       "431226      EMERGENCY ROOM                      HOME     Other  ...   \n",
       "431227      EMERGENCY ROOM                      HOME     Other  ...   \n",
       "431228      EMERGENCY ROOM                      HOME  Medicare  ...   \n",
       "431229  PHYSICIAN REFERRAL                      HOME     Other  ...   \n",
       "431230  PHYSICIAN REFERRAL                      <NA>     Other  ...   \n",
       "\n",
       "       time_of_visit_end  visit_end_datetime visit_type_concept_id  \\\n",
       "0               16:54:00 2012-03-23 16:54:00                 32817   \n",
       "1               18:36:00 2017-05-26 18:36:00                 32817   \n",
       "2               17:27:00 2020-05-24 17:27:00                 32817   \n",
       "3               13:50:00 2013-09-06 13:50:00                 32817   \n",
       "4               16:05:00 2014-01-18 16:05:00                 32817   \n",
       "...                  ...                 ...                   ...   \n",
       "431226          18:30:00 2009-08-10 18:30:00                 32817   \n",
       "431227          12:50:00 2009-07-12 12:50:00                 32817   \n",
       "431228          17:04:00 2015-09-30 17:04:00                 32817   \n",
       "431229          17:25:00 2015-10-30 17:25:00                 32817   \n",
       "431230          11:53:00 2019-07-31 11:53:00                 32817   \n",
       "\n",
       "       provider_id care_site_id  visit_source_concept_id  \\\n",
       "0                1          NaN                      NaN   \n",
       "1                1          NaN                      NaN   \n",
       "2                1          NaN                      NaN   \n",
       "3                1          NaN                      NaN   \n",
       "4                1          NaN                      NaN   \n",
       "...            ...          ...                      ...   \n",
       "431226           1          NaN                      NaN   \n",
       "431227           1          NaN                      NaN   \n",
       "431228           1          NaN                      NaN   \n",
       "431229           1          NaN                      NaN   \n",
       "431230           1          NaN                      NaN   \n",
       "\n",
       "        preceding_visit_occurrence_id admitted_from_concept_id  \\\n",
       "0                                 NaN                     9203   \n",
       "1                                 NaN                     9203   \n",
       "2                                 NaN                     <NA>   \n",
       "3                                 NaN                     <NA>   \n",
       "4                                 NaN                     9203   \n",
       "...                               ...                      ...   \n",
       "431226                            NaN                     9203   \n",
       "431227                            NaN                     9203   \n",
       "431228                            NaN                     9203   \n",
       "431229                            NaN                     <NA>   \n",
       "431230                            NaN                     <NA>   \n",
       "\n",
       "        discharged_to_concept_id  visit_concept_id  \n",
       "0                              0              9203  \n",
       "1                       38004519              9203  \n",
       "2                           <NA>            581385  \n",
       "3                           8863              8883  \n",
       "4                           <NA>              9203  \n",
       "...                          ...               ...  \n",
       "431226                         0              9203  \n",
       "431227                         0              9203  \n",
       "431228                         0              9203  \n",
       "431229                         0              8883  \n",
       "431230                      <NA>            581385  \n",
       "\n",
       "[431231 rows x 42 columns]"
      ]
     },
     "execution_count": 30,
     "metadata": {},
     "output_type": "execute_result"
    }
   ],
   "source": [
    "ddf_adm_pat_merged_copy =  ddf_adm_pat_merged.copy()\n",
    "ddf_adm_pat_merged_copy"
   ]
  },
  {
   "cell_type": "code",
   "execution_count": 31,
   "id": "0ef3a4a7",
   "metadata": {},
   "outputs": [],
   "source": [
    "import MySQLdb\n",
    "\n",
    "myvars = {}\n",
    "with open(\"ksunchu-password\") as myfile:\n",
    " for line in myfile:\n",
    "    name, var = line.partition(\"=\")[::2]\n",
    "    myvars[name.strip()] = var.strip()\n",
    "\n",
    "conn = MySQLdb.connect(host=\"127.0.0.1\", user=myvars['username'], passwd=myvars['password'], db='omop')\n",
    "omopcursor = conn.cursor()"
   ]
  },
  {
   "cell_type": "code",
   "execution_count": 32,
   "id": "69e712d7",
   "metadata": {},
   "outputs": [
    {
     "name": "stdout",
     "output_type": "stream",
     "text": [
      "Insertion was successful.\n"
     ]
    }
   ],
   "source": [
    "visit_occurrence_data = ddf_adm_pat_merged_copy[['hadm_id', 'subject_id', 'visit_concept_id', 'visit_start_datetime', 'visit_end_datetime', 'visit_type_concept_id', 'provider_id', 'care_site_id', 'admission_type', 'visit_source_concept_id', 'admitted_from_concept_id', 'admission_location', 'discharged_to_concept_id', 'discharge_location', 'preceding_visit_occurrence_id']]\n",
    "\n",
    "for index, row in visit_occurrence_data.iterrows():\n",
    "    row = row.where(pd.notnull(row), None)\n",
    "    \n",
    "    sql = \"INSERT INTO VISIT_OCCURRENCE (visit_occurrence_id, person_id, visit_concept_id, visit_start_datetime, visit_end_datetime, visit_type_concept_id, provider_id, care_site_id, visit_source_value, visit_source_concept_id, admitted_from_concept_id, admitted_from_source_value, discharge_to_concept_id, discharge_to_source_value, preceding_visit_occurrence_id) VALUES (%s, %s, %s, %s, %s, %s, %s, %s, %s, %s, %s, %s, %s, %s, %s)\"\n",
    "    \n",
    "    omopcursor.execute(sql, (\n",
    "        row['hadm_id'],\n",
    "        row['subject_id'],\n",
    "        row['visit_concept_id'],\n",
    "        row['visit_start_datetime'],\n",
    "        row['visit_end_datetime'],\n",
    "        row['visit_type_concept_id'],\n",
    "        row['provider_id'],\n",
    "        row['care_site_id'],\n",
    "        row['admission_type'],\n",
    "        row['visit_source_concept_id'],\n",
    "        row['admitted_from_concept_id'],\n",
    "        row['admission_location'],\n",
    "        row['discharged_to_concept_id'],\n",
    "        row['discharge_location'],\n",
    "        row['preceding_visit_occurrence_id']\n",
    "    ))\n",
    "\n",
    "conn.commit()\n",
    "print(\"Insertion was successful.\")"
   ]
  },
  {
   "cell_type": "code",
   "execution_count": null,
   "id": "6ef0a950",
   "metadata": {},
   "outputs": [],
   "source": []
  }
 ],
 "metadata": {
  "kernelspec": {
   "display_name": "Python 3 (ipykernel)",
   "language": "python",
   "name": "python3"
  },
  "language_info": {
   "codemirror_mode": {
    "name": "ipython",
    "version": 3
   },
   "file_extension": ".py",
   "mimetype": "text/x-python",
   "name": "python",
   "nbconvert_exporter": "python",
   "pygments_lexer": "ipython3",
   "version": "3.9.7"
  }
 },
 "nbformat": 4,
 "nbformat_minor": 5
}
