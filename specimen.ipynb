{
 "cells": [
  {
   "cell_type": "code",
   "execution_count": 1,
   "id": "007845e9",
   "metadata": {},
   "outputs": [
    {
     "name": "stdout",
     "output_type": "stream",
     "text": [
      "<_mysql.connection open to '127.0.0.1' at 0x562cab4fed80>\n"
     ]
    }
   ],
   "source": [
    "import MySQLdb\n",
    "\n",
    "myvars = {}\n",
    "with open(\"ksunchu-password\") as myfile:\n",
    " for line in myfile:\n",
    "    name, var = line.partition(\"=\")[::2]\n",
    "    myvars[name.strip()] = var.strip()\n",
    "\n",
    "conn = MySQLdb.connect(host=\"127.0.0.1\", user=myvars['username'], passwd=myvars['password'], db='omop')\n",
    "\n",
    "omopcursor = conn.cursor()\n",
    "print(conn)"
   ]
  },
  {
   "cell_type": "code",
   "execution_count": 2,
   "id": "4c5c1f84",
   "metadata": {},
   "outputs": [],
   "source": [
    "import pandas as pd\n",
    "import numpy as np\n",
    "import dask.dataframe as dd\n",
    "from dask.distributed import Client"
   ]
  },
  {
   "cell_type": "code",
   "execution_count": 3,
   "id": "3dee57b3",
   "metadata": {},
   "outputs": [
    {
     "name": "stderr",
     "output_type": "stream",
     "text": [
      "/tmp/ipykernel_33601/2350436099.py:1: UserWarning: pandas only supports SQLAlchemy connectable (engine/connection) or database string URI or sqlite3 DBAPI2 connection. Other DBAPI2 objects are not tested. Please consider using SQLAlchemy.\n",
      "  df_SPECIMEN = pd.read_sql('select * from `SPECIMEN`', con=conn)\n"
     ]
    }
   ],
   "source": [
    "df_SPECIMEN = pd.read_sql('select * from `SPECIMEN`', con=conn)"
   ]
  },
  {
   "cell_type": "code",
   "execution_count": 4,
   "id": "0a237aeb",
   "metadata": {},
   "outputs": [
    {
     "name": "stdout",
     "output_type": "stream",
     "text": [
      "Length - SPECIMEN:  0\n"
     ]
    }
   ],
   "source": [
    "print('Length - SPECIMEN: ', len(df_SPECIMEN))"
   ]
  },
  {
   "cell_type": "code",
   "execution_count": 5,
   "id": "e4de7fd2",
   "metadata": {},
   "outputs": [
    {
     "name": "stdout",
     "output_type": "stream",
     "text": [
      "Empty DataFrame\n",
      "Columns: [specimen_id, person_id, specimen_concept_id, specimen_type_concept_id, specimen_date, specimen_datetime, quantity, unit_concept_id, anatomic_site_concept_id, disease_status_concept_id, specimen_source_id, specimen_source_value, unit_source_value, anatomic_site_source_value, disease_status_source_value]\n",
      "Index: []\n"
     ]
    }
   ],
   "source": [
    "print(df_SPECIMEN.head())"
   ]
  },
  {
   "cell_type": "code",
   "execution_count": 6,
   "id": "44d1feb5",
   "metadata": {},
   "outputs": [
    {
     "name": "stdout",
     "output_type": "stream",
     "text": [
      "<_mysql.connection open to '127.0.0.1' at 0x562cab4fed80>\n"
     ]
    }
   ],
   "source": [
    "import MySQLdb\n",
    "\n",
    "myvars = {}\n",
    "with open(\"ksunchu-password\") as myfile:\n",
    " for line in myfile:\n",
    "    name, var = line.partition(\"=\")[::2]\n",
    "    myvars[name.strip()] = var.strip()\n",
    "\n",
    "mimicivconn = MySQLdb.connect(host=\"127.0.0.1\", user=myvars['username'], passwd=myvars['password'], db='mimiciv')\n",
    "\n",
    "mimicivcursor = conn.cursor()\n",
    "print(conn)"
   ]
  },
  {
   "cell_type": "code",
   "execution_count": null,
   "id": "b8eeff50",
   "metadata": {},
   "outputs": [],
   "source": [
    "df_patients_mimiciv = pd.read_sql('select subject_id, anchor_year, anchor_year_group from patients', con=mimicivconn)"
   ]
  },
  {
   "cell_type": "code",
   "execution_count": null,
   "id": "6e33dbca",
   "metadata": {},
   "outputs": [],
   "source": [
    "ddf_patients_mimiciv = dd.from_pandas(df_patients_mimiciv, chunksize=100)"
   ]
  },
  {
   "cell_type": "code",
   "execution_count": null,
   "id": "f310036d",
   "metadata": {},
   "outputs": [],
   "source": [
    "df_patients_mimiciv = ''"
   ]
  },
  {
   "cell_type": "code",
   "execution_count": null,
   "id": "19840295",
   "metadata": {},
   "outputs": [],
   "source": [
    "print(ddf_patients_mimiciv)"
   ]
  },
  {
   "cell_type": "code",
   "execution_count": null,
   "id": "52ffac44",
   "metadata": {},
   "outputs": [],
   "source": [
    "df_admissions_mimiciv = pd.read_sql('select subject_id from admissions', con=mimicivconn)"
   ]
  },
  {
   "cell_type": "code",
   "execution_count": null,
   "id": "14e0bbf1",
   "metadata": {},
   "outputs": [],
   "source": [
    "ddf_admissions_mimiciv = dd.from_pandas(df_admissions_mimiciv, chunksize=100)"
   ]
  },
  {
   "cell_type": "code",
   "execution_count": null,
   "id": "36c31301",
   "metadata": {},
   "outputs": [],
   "source": [
    "df_admissions_mimiciv = ''"
   ]
  },
  {
   "cell_type": "code",
   "execution_count": null,
   "id": "4206c574",
   "metadata": {},
   "outputs": [],
   "source": [
    "print(ddf_admissions_mimiciv)"
   ]
  },
  {
   "cell_type": "code",
   "execution_count": null,
   "id": "89bf2a9a",
   "metadata": {},
   "outputs": [],
   "source": [
    "df_d_labitems_mimiciv = pd.read_sql('select itemid, fluid from d_labitems', con=mimicivconn)"
   ]
  },
  {
   "cell_type": "code",
   "execution_count": null,
   "id": "cd3b83db",
   "metadata": {},
   "outputs": [],
   "source": [
    "ddf_d_labitems_mimiciv = dd.from_pandas(df_d_labitems_mimiciv, chunksize=100)"
   ]
  },
  {
   "cell_type": "code",
   "execution_count": null,
   "id": "7e0ca20d",
   "metadata": {},
   "outputs": [],
   "source": [
    "df_d_labitems_mimiciv = ''"
   ]
  },
  {
   "cell_type": "code",
   "execution_count": null,
   "id": "ead5fc94",
   "metadata": {},
   "outputs": [],
   "source": [
    "print(ddf_d_labitems_mimiciv)"
   ]
  },
  {
   "cell_type": "code",
   "execution_count": null,
   "id": "a4e60ffe",
   "metadata": {},
   "outputs": [],
   "source": [
    "df_labevents_mimiciv = pd.read_sql('select subject_id, specimen_id, itemid, charttime  from labevents', con=mimicivconn)"
   ]
  },
  {
   "cell_type": "code",
   "execution_count": null,
   "id": "29f855e5",
   "metadata": {},
   "outputs": [],
   "source": [
    "ddf_labevents_mimiciv = dd.from_pandas(df_labevents_mimiciv, chunksize=100)"
   ]
  },
  {
   "cell_type": "code",
   "execution_count": null,
   "id": "de56977f",
   "metadata": {},
   "outputs": [],
   "source": [
    "df_labevents_mimiciv = ''"
   ]
  },
  {
   "cell_type": "code",
   "execution_count": null,
   "id": "6446852b",
   "metadata": {},
   "outputs": [],
   "source": [
    "print(ddf_labevents_mimiciv)"
   ]
  },
  {
   "cell_type": "code",
   "execution_count": null,
   "id": "e7e5e44e",
   "metadata": {},
   "outputs": [],
   "source": [
    "ddf_adm_pat_merged = ddf_admissions_mimiciv.merge(ddf_patients_mimiciv, how='inner', on='subject_id')\n",
    "print(ddf_adm_pat_merged) "
   ]
  },
  {
   "cell_type": "code",
   "execution_count": null,
   "id": "ffb3c14a",
   "metadata": {},
   "outputs": [],
   "source": [
    "ddf_lab_merged = ddf_labevents_mimiciv.merge(ddf_d_labitems_mimiciv, how='inner', on='itemid')\n",
    "print(ddf_lab_merged)"
   ]
  },
  {
   "cell_type": "code",
   "execution_count": null,
   "id": "d3ec1a9b",
   "metadata": {},
   "outputs": [],
   "source": [
    "ddf_lab_adm_merged = ddf_lab_merged.merge(ddf_adm_pat_merged, how='inner', on='subject_id')\n",
    "print(ddf_lab_adm_merged)"
   ]
  },
  {
   "cell_type": "code",
   "execution_count": null,
   "id": "ed2a8174",
   "metadata": {},
   "outputs": [],
   "source": [
    "ddf_lab_adm_merged['quantity'] = np.nan\n",
    "print(ddf_lab_adm_merged[['quantity']])"
   ]
  },
  {
   "cell_type": "code",
   "execution_count": null,
   "id": "1c7103f3",
   "metadata": {},
   "outputs": [
    {
     "name": "stderr",
     "output_type": "stream",
     "text": [
      "/tmp/ipykernel_33601/423771016.py:1: UserWarning: pandas only supports SQLAlchemy connectable (engine/connection) or database string URI or sqlite3 DBAPI2 connection. Other DBAPI2 objects are not tested. Please consider using SQLAlchemy.\n",
      "  df_lab_adm_merged = pd.read_sql('''SELECT\n"
     ]
    }
   ],
   "source": [
    "df_lab_adm_merged = pd.read_sql('''SELECT \n",
    "            l.subject_id, \n",
    "            l.specimen_id, \n",
    "            l.itemid, \n",
    "            l.charttime, \n",
    "            p.anchor_year, \n",
    "            p.anchor_year_group, \n",
    "            d.fluid\n",
    "        FROM \n",
    "            labevents l, \n",
    "            patients p, \n",
    "            d_labitems d\n",
    "        WHERE\n",
    "            d.itemid = l.itemid''', con=mimicivconn, chunksize=5000)"
   ]
  },
  {
   "cell_type": "code",
   "execution_count": null,
   "id": "0a41d72b",
   "metadata": {},
   "outputs": [],
   "source": []
  },
  {
   "cell_type": "code",
   "execution_count": null,
   "id": "b0f3d8d2",
   "metadata": {},
   "outputs": [],
   "source": []
  }
 ],
 "metadata": {
  "kernelspec": {
   "display_name": "Python 3 (ipykernel)",
   "language": "python",
   "name": "python3"
  },
  "language_info": {
   "codemirror_mode": {
    "name": "ipython",
    "version": 3
   },
   "file_extension": ".py",
   "mimetype": "text/x-python",
   "name": "python",
   "nbconvert_exporter": "python",
   "pygments_lexer": "ipython3",
   "version": "3.9.7"
  }
 },
 "nbformat": 4,
 "nbformat_minor": 5
}
